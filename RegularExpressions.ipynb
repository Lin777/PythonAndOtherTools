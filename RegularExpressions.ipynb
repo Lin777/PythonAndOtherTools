{
  "nbformat": 4,
  "nbformat_minor": 0,
  "metadata": {
    "colab": {
      "name": "RegularExpressions.ipynb",
      "provenance": [],
      "authorship_tag": "ABX9TyO0XWvP7cAWEBGj+Kd0IwAk",
      "include_colab_link": true
    },
    "kernelspec": {
      "name": "python3",
      "display_name": "Python 3"
    }
  },
  "cells": [
    {
      "cell_type": "markdown",
      "metadata": {
        "id": "view-in-github",
        "colab_type": "text"
      },
      "source": [
        "<a href=\"https://colab.research.google.com/github/Lin777/PythonAndOtherTools/blob/master/RegularExpressions.ipynb\" target=\"_parent\"><img src=\"https://colab.research.google.com/assets/colab-badge.svg\" alt=\"Open In Colab\"/></a>"
      ]
    },
    {
      "cell_type": "markdown",
      "metadata": {
        "id": "UPKm_bV5VZRD"
      },
      "source": [
        "# Regular Expressions\n",
        "\n",
        "Regular expressions, also called regex or regexp, consist of patterns that describe sets of character strings.\n"
      ]
    },
    {
      "cell_type": "markdown",
      "metadata": {
        "id": "1HtC9YLoXq3G"
      },
      "source": [
        "## re Module\n",
        "\n",
        "Working with regular expressions in Python is done through the re module.\n",
        "\n",
        "### Functions\n",
        "\n",
        "To find a pattern we use different set of re character sets that allows to search for a match in a string.\n",
        "\n",
        "- **re.match()**: searches only in the beginning of the first line of the string and returns matched objects if found, else returns none.\n",
        "- **re.search**: Returns a match object if there is one anywhere in the string, including multiline strings.\n",
        "- **re.findall**: Returns a list containing all matches\n",
        "- **re.split**: Takes a string, splits it at the match points, returns a list\n",
        "- **re.sub**: Replaces one or many matches within a string\n"
      ]
    },
    {
      "cell_type": "markdown",
      "metadata": {
        "id": "eaI0iPyWaW15"
      },
      "source": [
        "**Match**\n",
        "\n",
        "```\n",
        "# syntac\n",
        "re.match(substring, string, re.I)\n",
        "# substring is a string or a pattern, string is the text we look for a pattern , re.I is case ignore\n",
        "```"
      ]
    },
    {
      "cell_type": "code",
      "metadata": {
        "colab": {
          "base_uri": "https://localhost:8080/"
        },
        "id": "XgjVU5haU4kV",
        "outputId": "6f86e1d5-0061-425a-a935-01a03b7d4ebc"
      },
      "source": [
        "import re\n",
        "\n",
        "txt = 'I love to learn python and smalltalk'\n",
        "# It returns an object with span, and match\n",
        "match = re.match('I love to learn', txt, re.I)\n",
        "print(match)  # <re.Match object; span=(0, 15), match='I love to learn'>\n",
        "# We can get the starting and ending position of the match as tuple using span\n",
        "span = match.span()\n",
        "print(span)     # (0, 15)\n",
        "# Lets find the start and stop position from the span\n",
        "start, end = span\n",
        "print(start, end)  # 0, 15\n",
        "substring = txt[start:end]\n",
        "print(substring)       # I love to learn"
      ],
      "execution_count": 1,
      "outputs": [
        {
          "output_type": "stream",
          "text": [
            "<_sre.SRE_Match object; span=(0, 15), match='I love to learn'>\n",
            "(0, 15)\n",
            "0 15\n",
            "I love to learn\n"
          ],
          "name": "stdout"
        }
      ]
    },
    {
      "cell_type": "markdown",
      "metadata": {
        "id": "1wbb1jxSVZNK"
      },
      "source": [
        "**Seach**\n",
        "\n",
        "```\n",
        "# syntax\n",
        "re.match(substring, string, re.I)\n",
        "# substring is a pattern, string is the text we look for a pattern , re.I is case ignore flag\n",
        "```"
      ]
    },
    {
      "cell_type": "code",
      "metadata": {
        "colab": {
          "base_uri": "https://localhost:8080/"
        },
        "id": "c0NhM5GocHDN",
        "outputId": "e31335e6-8a35-4096-bf96-a5a03108c9d9"
      },
      "source": [
        "import re\n",
        "\n",
        "txt = '''Python is the most beautiful language that a human being has ever created.\n",
        "I recommend python for a first programming language'''\n",
        "\n",
        "# It returns an object with span and match\n",
        "match = re.search('first', txt, re.I)\n",
        "print(match)  # <re.Match object; span=(100, 105), match='first'>\n",
        "# We can get the starting and ending position of the match as tuple using span\n",
        "span = match.span()\n",
        "print(span)     # (100, 105)\n",
        "# Lets find the start and stop position from the span\n",
        "start, end = span\n",
        "print(start, end)  # 100 105\n",
        "substring = txt[start:end]\n",
        "print(substring)       # first"
      ],
      "execution_count": 2,
      "outputs": [
        {
          "output_type": "stream",
          "text": [
            "<_sre.SRE_Match object; span=(100, 105), match='first'>\n",
            "(100, 105)\n",
            "100 105\n",
            "first\n"
          ],
          "name": "stdout"
        }
      ]
    },
    {
      "cell_type": "markdown",
      "metadata": {
        "id": "3OczAyWGcptO"
      },
      "source": [
        "**Findall**\n",
        "\n",
        "Returns all the matches as a list\n"
      ]
    },
    {
      "cell_type": "code",
      "metadata": {
        "colab": {
          "base_uri": "https://localhost:8080/"
        },
        "id": "OwYaYlSzd9kI",
        "outputId": "ce5a55ed-3008-44be-ef50-482d7b958f90"
      },
      "source": [
        "txt = '''Python is the most beautiful language that a human being has ever created.\n",
        "I recommend python for a first programming language'''\n",
        "\n",
        "# It return a list\n",
        "matches = re.findall('language', txt, re.I)\n",
        "print(matches)  # ['language', 'language']"
      ],
      "execution_count": 3,
      "outputs": [
        {
          "output_type": "stream",
          "text": [
            "['language', 'language']\n"
          ],
          "name": "stdout"
        }
      ]
    },
    {
      "cell_type": "markdown",
      "metadata": {
        "id": "lVVoPA0leBg0"
      },
      "source": [
        "As you can see, the word language was found two times in the string. Let's practice some more. Now we will look for both Python and python words in the string:"
      ]
    },
    {
      "cell_type": "code",
      "metadata": {
        "colab": {
          "base_uri": "https://localhost:8080/"
        },
        "id": "-L4hhY1bd_rZ",
        "outputId": "f2a06b9c-a4ae-4b4c-e4ee-dbe45fcc3e10"
      },
      "source": [
        "txt = '''Python is the most beautiful language that a human being has ever created.\n",
        "I recommend python for a first programming language'''\n",
        "\n",
        "# It returns list\n",
        "matches = re.findall('python', txt, re.I)\n",
        "print(matches)  # ['Python', 'python']"
      ],
      "execution_count": 4,
      "outputs": [
        {
          "output_type": "stream",
          "text": [
            "['Python', 'python']\n"
          ],
          "name": "stdout"
        }
      ]
    },
    {
      "cell_type": "markdown",
      "metadata": {
        "id": "3wq6m-FKehHQ"
      },
      "source": [
        "**Replacing a substring**\n",
        "\n"
      ]
    },
    {
      "cell_type": "code",
      "metadata": {
        "colab": {
          "base_uri": "https://localhost:8080/"
        },
        "id": "3HvHJ8ttecEA",
        "outputId": "d183d8fa-d93b-401f-d9ee-b3d90ad7ff15"
      },
      "source": [
        "txt = '''Python is the most beautiful language that a human being has ever created.\n",
        "I recommend python for a first programming language'''\n",
        "\n",
        "match_replaced = re.sub('Python|python', 'Smalltalk', txt, re.I)\n",
        "print(match_replaced)  # JavaScript is the most beautiful language that a human being has ever created.\n",
        "# OR\n",
        "match_replaced = re.sub('[Pp]ython', 'Smalltalk', txt, re.I)\n",
        "print(match_replaced)  # JavaScript is the most beautiful language that a human being has ever created."
      ],
      "execution_count": 6,
      "outputs": [
        {
          "output_type": "stream",
          "text": [
            "Smalltalk is the most beautiful language that a human being has ever created.\n",
            "I recommend Smalltalk for a first programming language\n",
            "Smalltalk is the most beautiful language that a human being has ever created.\n",
            "I recommend Smalltalk for a first programming language\n"
          ],
          "name": "stdout"
        }
      ]
    },
    {
      "cell_type": "markdown",
      "metadata": {
        "id": "ZPadAMiKgXSZ"
      },
      "source": [
        "**Splitting text**"
      ]
    },
    {
      "cell_type": "code",
      "metadata": {
        "colab": {
          "base_uri": "https://localhost:8080/"
        },
        "id": "VgK61dtde_EE",
        "outputId": "48e852ac-f91f-40f1-e93b-9e38353b3599"
      },
      "source": [
        "txt = '''I am teacher and  I love teaching.\n",
        "There is nothing as rewarding as educating and empowering people.\n",
        "I found teaching more interesting than any other jobs.\n",
        "Does this motivate you to be a teacher?'''\n",
        "print(re.split('\\n', txt)) # splitting using \\n - end of line symbol"
      ],
      "execution_count": 7,
      "outputs": [
        {
          "output_type": "stream",
          "text": [
            "['I am teacher and  I love teaching.', 'There is nothing as rewarding as educating and empowering people.', 'I found teaching more interesting than any other jobs.', 'Does this motivate you to be a teacher?']\n"
          ],
          "name": "stdout"
        }
      ]
    },
    {
      "cell_type": "markdown",
      "metadata": {
        "id": "ehZZDX1AhgCi"
      },
      "source": [
        "### Writing RegEx patterns\n",
        "\n",
        "To declare a string variable we use a single or double quote. To declare RegEx variable r''. The following pattern only identifies apple with lowercase, to make it case insensitive either we should rewrite our pattern or we should add a flag."
      ]
    },
    {
      "cell_type": "code",
      "metadata": {
        "colab": {
          "base_uri": "https://localhost:8080/"
        },
        "id": "jfLwQLj9gdIC",
        "outputId": "cae0a8b5-1f0d-4a59-d760-aa453f61f87e"
      },
      "source": [
        "import re\n",
        "\n",
        "regex_pattern = r'apple'\n",
        "txt = 'Apple and banana are fruits. An old cliche says an apple a day a doctor way has been replaced by a banana a day keeps the doctor far far away. '\n",
        "matches = re.findall(regex_pattern, txt)\n",
        "print(matches)  # ['apple']\n",
        "\n",
        "# To make case insensitive adding flag '\n",
        "matches = re.findall(regex_pattern, txt, re.I)\n",
        "print(matches)  # ['Apple', 'apple']\n",
        "# or we can use a set of characters method\n",
        "regex_pattern = r'[Aa]pple'  # this mean the first letter could be Apple or apple\n",
        "matches = re.findall(regex_pattern, txt)\n",
        "print(matches)  # ['Apple', 'apple']"
      ],
      "execution_count": 8,
      "outputs": [
        {
          "output_type": "stream",
          "text": [
            "['apple']\n",
            "['Apple', 'apple']\n",
            "['Apple', 'apple']\n"
          ],
          "name": "stdout"
        }
      ]
    },
    {
      "cell_type": "markdown",
      "metadata": {
        "id": "hDKdMYVgho9I"
      },
      "source": [
        "- []: A set of characters\n",
        "    - [a-c] means, a or b or c\n",
        "    - [a-z] means, any letter from a to z\n",
        "    - [A-Z] means, any character from A to Z\n",
        "    - [0-3] means, 0 or 1 or 2 or 3\n",
        "    - [0-9] means any number from 0 to 9\n",
        "    - [A-Za-z0-9] any single character, that is a to z, A to Z or 0 to 9\n",
        "- \\\\: uses to escape special characters\n",
        "  - \\d means: match where the string contains digits (numbers from 0-9)\n",
        "  - \\D means: match where the string does not contain digits\n",
        "- . : any character except new line character(\\n)\n",
        "- ^: starts with\n",
        "  - r'^substring' eg r'^love', a sentence that starts with a word love\n",
        "  - r'[^abc] means not a, not b, not c.\n",
        "- \\$: ends with\n",
        "  - r'substring\\$' eg r'love\\$', sentence that ends with a word love\n",
        "- \\*: zero or more times\n",
        "  - r'[a]*' means a optional or it can occur many times.\n",
        "- +: one or more times\n",
        "  - r'[a]+' means at least once (or more)\n",
        "- \\?: zero or one time\n",
        "  - r'[a]\\?' means zero times or once\n",
        "- {3}: Exactly 3 characters\n",
        "- {3,}: At least 3 characters\n",
        "- {3,8}: 3 to 8 characters\n",
        "- \\|: Either or\n",
        "  - r'apple\\|banana' means either apple or a banana\n",
        "- \\(\\): Capture and group\n"
      ]
    },
    {
      "cell_type": "markdown",
      "metadata": {
        "id": "M_fxOoAljGnG"
      },
      "source": [
        "**Square bracket - []**"
      ]
    },
    {
      "cell_type": "code",
      "metadata": {
        "colab": {
          "base_uri": "https://localhost:8080/"
        },
        "id": "lSVMiahChnNC",
        "outputId": "f9c41ab0-cfff-4308-c438-ba285ded30e2"
      },
      "source": [
        "# Example\n",
        "\n",
        "regex_pattern = r'[Aa]pple|[Bb]anana' # this square bracket means either A or a\n",
        "txt = 'Apple and banana are fruits. An old cliche says an apple a day a doctor way has been replaced by a banana a day keeps the doctor far far away. '\n",
        "matches = re.findall(regex_pattern, txt)\n",
        "print(matches)  # ['Apple', 'banana', 'apple', 'banana']"
      ],
      "execution_count": 9,
      "outputs": [
        {
          "output_type": "stream",
          "text": [
            "['Apple', 'banana', 'apple', 'banana']\n"
          ],
          "name": "stdout"
        }
      ]
    },
    {
      "cell_type": "markdown",
      "metadata": {
        "id": "wwqFhyPxjgoI"
      },
      "source": [
        "**Escape character(\\\\)**"
      ]
    },
    {
      "cell_type": "code",
      "metadata": {
        "colab": {
          "base_uri": "https://localhost:8080/"
        },
        "id": "shv2kSY3jeio",
        "outputId": "11020bb0-1864-46cb-e229-659b6e637d2e"
      },
      "source": [
        "# Example\n",
        "\n",
        "regex_pattern = r'\\d'  # d is a special character which means digits\n",
        "txt = 'This regular expression example was made on December 6,  2019.'\n",
        "matches = re.findall(regex_pattern, txt)\n",
        "print(matches)  # ['6', '2', '0', '1', '9'], this is not what we want"
      ],
      "execution_count": 10,
      "outputs": [
        {
          "output_type": "stream",
          "text": [
            "['6', '2', '0', '1', '9']\n"
          ],
          "name": "stdout"
        }
      ]
    },
    {
      "cell_type": "markdown",
      "metadata": {
        "id": "u-9tj9SMj7Oj"
      },
      "source": [
        "**One or more times(+)**"
      ]
    },
    {
      "cell_type": "code",
      "metadata": {
        "colab": {
          "base_uri": "https://localhost:8080/"
        },
        "id": "4DSq8hrgj6e3",
        "outputId": "d734fe21-cfb7-4bc5-b8d0-bc4868d771a5"
      },
      "source": [
        "# Example\n",
        "\n",
        "regex_pattern = r'\\d+'  # d is a special character which means digits, + mean one or more times\n",
        "txt = 'This regular expression example was made on December 6,  2019.'\n",
        "matches = re.findall(regex_pattern, txt)\n",
        "print(matches)  # ['6', '2019'] - now, this is better!"
      ],
      "execution_count": 11,
      "outputs": [
        {
          "output_type": "stream",
          "text": [
            "['6', '2019']\n"
          ],
          "name": "stdout"
        }
      ]
    },
    {
      "cell_type": "markdown",
      "metadata": {
        "id": "nVniKftwkD-f"
      },
      "source": [
        "**Period(.)**"
      ]
    },
    {
      "cell_type": "code",
      "metadata": {
        "colab": {
          "base_uri": "https://localhost:8080/"
        },
        "id": "bgCBUn85kDPv",
        "outputId": "13f4955b-a0eb-45e7-80b9-7e9dab502ffa"
      },
      "source": [
        "# Example\n",
        "\n",
        "regex_pattern = r'[a].'  # this square bracket means a and . means any character except new line\n",
        "txt = '''Apple and banana are fruits'''\n",
        "matches = re.findall(regex_pattern, txt)\n",
        "print(matches)  # ['an', 'an', 'an', 'a ', 'ar']\n",
        "\n",
        "regex_pattern = r'[a].+'  # . any character, + any character one or more times \n",
        "matches = re.findall(regex_pattern, txt)\n",
        "print(matches)  # ['and banana are fruits']"
      ],
      "execution_count": 12,
      "outputs": [
        {
          "output_type": "stream",
          "text": [
            "['an', 'an', 'an', 'a ', 'ar']\n",
            "['and banana are fruits']\n"
          ],
          "name": "stdout"
        }
      ]
    },
    {
      "cell_type": "markdown",
      "metadata": {
        "id": "mvTrIPUZkM3V"
      },
      "source": [
        "**Zero or more times(*)**"
      ]
    },
    {
      "cell_type": "code",
      "metadata": {
        "colab": {
          "base_uri": "https://localhost:8080/"
        },
        "id": "1_kbfHovkMQl",
        "outputId": "1a282a6e-3354-4766-9ae6-46e8f793656a"
      },
      "source": [
        "# Example\n",
        "\n",
        "regex_pattern = r'[a].*'  # . any character, * any character zero or more times \n",
        "txt = '''Apple and banana are fruits'''\n",
        "matches = re.findall(regex_pattern, txt)\n",
        "print(matches)  # ['and banana are fruits']"
      ],
      "execution_count": 13,
      "outputs": [
        {
          "output_type": "stream",
          "text": [
            "['and banana are fruits']\n"
          ],
          "name": "stdout"
        }
      ]
    },
    {
      "cell_type": "markdown",
      "metadata": {
        "id": "pKoHClf2kVlY"
      },
      "source": [
        "**Zero or one time(?)**"
      ]
    },
    {
      "cell_type": "code",
      "metadata": {
        "colab": {
          "base_uri": "https://localhost:8080/"
        },
        "id": "kFy7u9pVkU0D",
        "outputId": "5cf581e4-0874-4074-c6bc-cf1c1bf4708b"
      },
      "source": [
        "txt = '''I am not sure if there is a convention how to write the word e-mail.\n",
        "Some people write it email others may write it as Email or E-mail.'''\n",
        "regex_pattern = r'[Ee]-?mail'  # ? means here that '-' is optional\n",
        "matches = re.findall(regex_pattern, txt)\n",
        "print(matches)  # ['e-mail', 'email', 'Email', 'E-mail']"
      ],
      "execution_count": 14,
      "outputs": [
        {
          "output_type": "stream",
          "text": [
            "['e-mail', 'email', 'Email', 'E-mail']\n"
          ],
          "name": "stdout"
        }
      ]
    },
    {
      "cell_type": "markdown",
      "metadata": {
        "id": "Ndvf8UQ2ka-3"
      },
      "source": [
        "**Quantifier in RegEx**\n",
        "\n",
        "We can specify the length of the substring we are looking for in a text, using a curly bracket. Lets imagine, we are interested in a substring with a length of 4 characters:"
      ]
    },
    {
      "cell_type": "code",
      "metadata": {
        "colab": {
          "base_uri": "https://localhost:8080/"
        },
        "id": "V5lWkpgYkbad",
        "outputId": "fb0f8bbe-a1d3-483d-e36d-7beebc5b0574"
      },
      "source": [
        "txt = 'This regular expression example was made on December 6,  2019.'\n",
        "regex_pattern = r'\\d{4}'  # exactly four times\n",
        "matches = re.findall(regex_pattern, txt)\n",
        "print(matches)  # ['2019']\n",
        "\n",
        "txt = 'This regular expression example was made on December 6,  2019.'\n",
        "regex_pattern = r'\\d{1, 4}'   # 1 to 4\n",
        "matches = re.findall(regex_pattern, txt)\n",
        "print(matches)  # ['6', '2019']"
      ],
      "execution_count": 15,
      "outputs": [
        {
          "output_type": "stream",
          "text": [
            "['2019']\n",
            "[]\n"
          ],
          "name": "stdout"
        }
      ]
    },
    {
      "cell_type": "markdown",
      "metadata": {
        "id": "P71AI1aOkbo4"
      },
      "source": [
        "**Cart ^**\n",
        "\n",
        "- Starts with"
      ]
    },
    {
      "cell_type": "code",
      "metadata": {
        "colab": {
          "base_uri": "https://localhost:8080/"
        },
        "id": "VZ4UNZy9kb0g",
        "outputId": "9e1431fd-e643-4a4b-ab8c-aa913f2850ed"
      },
      "source": [
        "txt = 'This regular expression example was made on December 6,  2019.'\n",
        "regex_pattern = r'^This'  # ^ means starts with\n",
        "matches = re.findall(regex_pattern, txt)\n",
        "print(matches)  # ['This']"
      ],
      "execution_count": 16,
      "outputs": [
        {
          "output_type": "stream",
          "text": [
            "['This']\n"
          ],
          "name": "stdout"
        }
      ]
    },
    {
      "cell_type": "markdown",
      "metadata": {
        "id": "eObcBecykxh1"
      },
      "source": [
        "- Negation"
      ]
    },
    {
      "cell_type": "code",
      "metadata": {
        "colab": {
          "base_uri": "https://localhost:8080/"
        },
        "id": "ZVY7nt3jkwzc",
        "outputId": "1c721db1-261b-46ce-a5f9-ca85cf0245a7"
      },
      "source": [
        "txt = 'This regular expression example was made on December 6,  2019.'\n",
        "regex_pattern = r'[^A-Za-z ]+'  # ^ in set character means negation, not A to Z, not a to z, no space\n",
        "matches = re.findall(regex_pattern, txt)\n",
        "print(matches)  # ['6,', '2019.']"
      ],
      "execution_count": 17,
      "outputs": [
        {
          "output_type": "stream",
          "text": [
            "['6,', '2019.']\n"
          ],
          "name": "stdout"
        }
      ]
    },
    {
      "cell_type": "markdown",
      "metadata": {
        "id": "hXo08XaCk2cK"
      },
      "source": [
        "## Resources\n",
        "\n",
        "https://github.com/Asabeneh/30-Days-Of-Python/blob/master/18_Day_Regular_expressions/18_regular_expressions.md#escape-character-in-regex\n",
        "\n",
        "https://www.utic.edu.py/citil/images/Manuales/Python_para_todos.pdf"
      ]
    },
    {
      "cell_type": "code",
      "metadata": {
        "id": "pJuxsaG6k8Bq"
      },
      "source": [
        ""
      ],
      "execution_count": null,
      "outputs": []
    }
  ]
}