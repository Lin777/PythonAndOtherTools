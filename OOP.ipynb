{
  "nbformat": 4,
  "nbformat_minor": 0,
  "metadata": {
    "colab": {
      "name": "OOP.ipynb",
      "provenance": [],
      "authorship_tag": "ABX9TyMKd8Bqp6RBQmGKDMeQcQsb",
      "include_colab_link": true
    },
    "kernelspec": {
      "name": "python3",
      "display_name": "Python 3"
    }
  },
  "cells": [
    {
      "cell_type": "markdown",
      "metadata": {
        "id": "view-in-github",
        "colab_type": "text"
      },
      "source": [
        "<a href=\"https://colab.research.google.com/github/Lin777/PythonAndOtherTools/blob/master/OOP.ipynb\" target=\"_parent\"><img src=\"https://colab.research.google.com/assets/colab-badge.svg\" alt=\"Open In Colab\"/></a>"
      ]
    },
    {
      "cell_type": "markdown",
      "metadata": {
        "id": "AgNRBtMdUnpv"
      },
      "source": [
        "# Object Oriented Programming\n",
        "\n",
        "Object Oriented Programming (OOP) is a programming paradigm based on the concept of \"objects\", which can contain data and code: data in the form of fields (often known as attributes or properties), and code, in the form of procedures (often known as methods).\n",
        "\n",
        "The concept of OOP in Python focuses on creating reusable code. This concept is also known as DRY (Don't Repeat Yourself).\n",
        "\n",
        "\n",
        "\n"
      ]
    },
    {
      "cell_type": "markdown",
      "metadata": {
        "id": "YXDGrd2TaNnM"
      },
      "source": [
        "## Classes\n",
        "\n",
        "A class is nothing more than a generic template from which to instantiate objects; template in which it is defined which attributes and methods the objects of that class will have.\n",
        "\n",
        "In object-oriented programming, a class is a blueprint for creating objects (a particular data structure), providing initial values for state (member variables or attributes), and implementations of behavior (member functions or methods). "
      ]
    },
    {
      "cell_type": "markdown",
      "metadata": {
        "id": "LSLvcfzvayHz"
      },
      "source": [
        "**Creating a class**\n",
        "To create a class we need the key word class followed by the name and colon. Class name should be *CamelCase*.\n",
        "```\n",
        "# syntax\n",
        "class ClassName:\n",
        "  code goes here\n",
        "```"
      ]
    },
    {
      "cell_type": "code",
      "metadata": {
        "id": "EfDg0QmW10TZ"
      },
      "source": [
        "# Example\n",
        "\n",
        "class Person:\n",
        "  pass"
      ],
      "execution_count": 1,
      "outputs": []
    },
    {
      "cell_type": "markdown",
      "metadata": {
        "id": "L_-GdZHYaWlc"
      },
      "source": [
        "## Objects\n",
        "\n",
        "An object is an entity that groups together a related state and functionality. The state of the object is defined through variables called attributes, while the functionality is modeled through functions that are known by the name of object methods."
      ]
    },
    {
      "cell_type": "markdown",
      "metadata": {
        "id": "v4xNwQVqdcMo"
      },
      "source": [
        "**Creating a Object** \n",
        "\n",
        "We can create an object by calling the class."
      ]
    },
    {
      "cell_type": "code",
      "metadata": {
        "id": "k2viTW3caW2e",
        "outputId": "c4d436a5-a456-4a3f-ed84-39b94ef5354a",
        "colab": {
          "base_uri": "https://localhost:8080/"
        }
      },
      "source": [
        "p = Person()\n",
        "print(p)"
      ],
      "execution_count": 2,
      "outputs": [
        {
          "output_type": "stream",
          "text": [
            "<__main__.Person object at 0x7f3a2306bb70>\n"
          ],
          "name": "stdout"
        }
      ]
    },
    {
      "cell_type": "markdown",
      "metadata": {
        "id": "WKBgL26kdnbq"
      },
      "source": [
        "## Class constructor\n",
        "\n",
        "In the examples above, we have created an object from the Person class. However, Class without a constructor is not really useful in real applications. Let's use constructor function to make our class more useful. Like the constructor function in Java or JavaScript, python has also a built-in init() constructor function. The init constructor function has self parameter which is a reference to the current instance of the class"
      ]
    },
    {
      "cell_type": "code",
      "metadata": {
        "id": "nHb_BiOVdnyT",
        "outputId": "4b1c9681-0006-4901-d69b-022087563b68",
        "colab": {
          "base_uri": "https://localhost:8080/"
        }
      },
      "source": [
        "# Example\n",
        "\n",
        "class Person:\n",
        "      def __init__ (self, name):\n",
        "          self.name =name\n",
        "\n",
        "p = Person('Evelyn')\n",
        "print(p.name)\n",
        "print(p)"
      ],
      "execution_count": 4,
      "outputs": [
        {
          "output_type": "stream",
          "text": [
            "Evelyn\n",
            "<__main__.Person object at 0x7f3a22819ba8>\n"
          ],
          "name": "stdout"
        }
      ]
    },
    {
      "cell_type": "markdown",
      "metadata": {
        "id": "VJur-iNwdoAX"
      },
      "source": [
        "Let's add more parameters to the constructor function.\n",
        "\n"
      ]
    },
    {
      "cell_type": "code",
      "metadata": {
        "id": "mLmzKvQidoSX",
        "outputId": "beb855e2-5eba-40ad-a3be-c9a6f5ebdae0",
        "colab": {
          "base_uri": "https://localhost:8080/"
        }
      },
      "source": [
        "class Person:\n",
        "      def __init__(self, firstname, lastname, age, country, city):\n",
        "          self.firstname = firstname\n",
        "          self.lastname = lastname\n",
        "          self.age = age\n",
        "          self.country = country\n",
        "          self.city = city\n",
        "\n",
        "\n",
        "p = Person('Evelyn', 'Cusi', 25, 'Bolivia', 'Cochabamba')\n",
        "print(p.firstname)\n",
        "print(p.lastname)\n",
        "print(p.age)\n",
        "print(p.country)\n",
        "print(p.city)"
      ],
      "execution_count": 5,
      "outputs": [
        {
          "output_type": "stream",
          "text": [
            "Evelyn\n",
            "Cusi\n",
            "25\n",
            "Bolivia\n",
            "Cochabamba\n"
          ],
          "name": "stdout"
        }
      ]
    },
    {
      "cell_type": "markdown",
      "metadata": {
        "id": "rkT4u663ytww"
      },
      "source": [
        "## Method to Modify Class Default Values\n",
        "\n",
        "In the example below, the person class, all the constructor parameters have default values. In addition to that, we have skills parameter, which we can access using a method. Let's create add_skill method to add skills to the skills list."
      ]
    },
    {
      "cell_type": "code",
      "metadata": {
        "id": "RBFiuIxayu4T",
        "outputId": "bc7db1a7-2b5d-4e4f-ebe4-25892fc85ece",
        "colab": {
          "base_uri": "https://localhost:8080/"
        }
      },
      "source": [
        "# Example\n",
        "\n",
        "class Person:\n",
        "      def __init__(self, firstname='Asabeneh', lastname='Yetayeh', age=250, country='Finland', city='Helsinki'):\n",
        "          self.firstname = firstname\n",
        "          self.lastname = lastname\n",
        "          self.age = age\n",
        "          self.country = country\n",
        "          self.city = city\n",
        "          self.skills = []\n",
        "\n",
        "      def person_info(self):\n",
        "        return f'{self.firstname} {self.lastname} is {self.age} years old. He lives in {self.city}, {self.country}.'\n",
        "      def add_skill(self, skill):\n",
        "          self.skills.append(skill)\n",
        "\n",
        "p1 = Person()\n",
        "print(p1.person_info())\n",
        "p1.add_skill('HTML')\n",
        "p1.add_skill('CSS')\n",
        "p1.add_skill('JavaScript')\n",
        "p2 = Person('John', 'Doe', 30, 'Nomanland', 'Noman city')\n",
        "print(p2.person_info())\n",
        "print(p1.skills)\n",
        "print(p2.skills)"
      ],
      "execution_count": 9,
      "outputs": [
        {
          "output_type": "stream",
          "text": [
            "Asabeneh Yetayeh is 250 years old. He lives in Helsinki, Finland.\n",
            "John Doe is 30 years old. He lives in Noman city, Nomanland.\n",
            "['HTML', 'CSS', 'JavaScript']\n",
            "[]\n"
          ],
          "name": "stdout"
        }
      ]
    },
    {
      "cell_type": "markdown",
      "metadata": {
        "id": "mGbFFwkmeYaM"
      },
      "source": [
        "There are three concepts that are basic to any object-oriented programming language: encapsulation, inheritance, and polymorphism.\n",
        "\n",
        "## Inheritance\n",
        "\n",
        "In an object-oriented language when we make a class (subclass) inherit from another class (superclass) we are making the subclass contain all the attributes and methods that the superclass had. However, the act of inheriting from a class is also often called \"extending a class\".\n",
        "\n",
        "Let's create a student class by inheriting from person class."
      ]
    },
    {
      "cell_type": "code",
      "metadata": {
        "id": "8ghss0xFeYnW",
        "outputId": "99f658e2-bb9b-4585-de7a-ea5f0fb9b7b9",
        "colab": {
          "base_uri": "https://localhost:8080/"
        }
      },
      "source": [
        "class Student(Person):\n",
        "    pass\n",
        "\n",
        "s1 = Student('Evelyn', 'Cusi', 25, 'Bolivia', 'Cochabamba')\n",
        "s2 = Student('Joe', 'Doe', 28, 'Finland', 'Espoo')\n",
        "print(s1)"
      ],
      "execution_count": 6,
      "outputs": [
        {
          "output_type": "stream",
          "text": [
            "<__main__.Student object at 0x7f3a228276d8>\n"
          ],
          "name": "stdout"
        }
      ]
    },
    {
      "cell_type": "markdown",
      "metadata": {
        "id": "t2vQjYQCeY1j"
      },
      "source": [
        "We didn't call the **init()** constructor in the child class. If we didn't call it then we can still access all the properties from the parent. But if we do call the constructor we can access the parent properties by calling **super**.\n",
        "We can add a new method to the child or we can overwrite the parent class by creating the same method name in the child class. When we add the **init()** function, the child class will no longer inherit the parent's **init()** function."
      ]
    },
    {
      "cell_type": "markdown",
      "metadata": {
        "id": "-sXiKtsdj93X"
      },
      "source": [
        "### Multiple inheritance\n",
        "\n",
        "In Python, unlike other languages such as Java or C #, multiple inheritance is allowed, that is, a class can inherit from several classes at the same time.\n",
        "\n",
        "```\n",
        "class ClassA:\n",
        "    pass\n",
        "\n",
        "class ClassB:\n",
        "    pass\n",
        "\n",
        "class ClassC(ClassA, ClassB):\n",
        "    pass\n",
        "```\n",
        "In the event that any of the parent classes had methods with the same name and number of parameters, the classes would overwrite the implementation of the methods of the classes further to their right in the definition."
      ]
    },
    {
      "cell_type": "markdown",
      "metadata": {
        "id": "P2saJ9jcodmE"
      },
      "source": [
        "## Polymorphism\n",
        "\n",
        "The word polymorphism, from the Greek *poly morphos* (various forms), refers to the ability of objects of different kinds to respond to the same message. This can be achieved through inheritance: an object of a derived class is at the same time an object of the parent class, so where an object of the parent class is required, one of the child class can also be used.\n",
        "\n",
        "Python, being dynamically typed, does not impose restrictions on the types that can be passed to a function, for example, beyond the object behaving as expected: if a method **f ()** of the object passed as a parameter, for example, obviously the object will have to have that method. For this reason, unlike statically typed languages like Java or C ++, polymorphism in Python is not of great importance."
      ]
    },
    {
      "cell_type": "markdown",
      "metadata": {
        "id": "xiHeDn4QrxML"
      },
      "source": [
        "## Encapsulation\n",
        "\n",
        "Encapsulation refers to preventing access to certain methods and attributes of objects, thus establishing what can be used from outside the class. \n",
        "\n",
        "This is achieved in other programming languages such as Java by using access modifiers that define whether anyone can access that function or variable (public) or if access to the class itself is restricted (private).\n",
        "\n",
        "In Python there are no access modifiers, and what is usually done is that access to a variable or function is determined by its name: if the name begins with two underscores (and does not also end with two underscores) it is of a private variable or function, otherwise it is public. Methods whose names begin and end with two underscores are special methods that Python calls automatically under certain circumstances."
      ]
    },
    {
      "cell_type": "code",
      "metadata": {
        "id": "WNW-CcYseZDX",
        "outputId": "1bf39f8f-f34f-4983-f4e4-cd7777c422ff",
        "colab": {
          "base_uri": "https://localhost:8080/",
          "height": 256
        }
      },
      "source": [
        "# Example\n",
        "\n",
        "class ExampleClass:\n",
        "  def public(self):\n",
        "    print(\"Public\")\n",
        "  \n",
        "  def __private(self):        \n",
        "    print(\"Private\")\n",
        "  \n",
        "ej = ExampleClass()\n",
        "ej.public()\n",
        "ej.__private()"
      ],
      "execution_count": 8,
      "outputs": [
        {
          "output_type": "stream",
          "text": [
            "Public\n"
          ],
          "name": "stdout"
        },
        {
          "output_type": "error",
          "ename": "AttributeError",
          "evalue": "ignored",
          "traceback": [
            "\u001b[0;31m---------------------------------------------------------------------------\u001b[0m",
            "\u001b[0;31mAttributeError\u001b[0m                            Traceback (most recent call last)",
            "\u001b[0;32m<ipython-input-8-32bc5d78859b>\u001b[0m in \u001b[0;36m<module>\u001b[0;34m()\u001b[0m\n\u001b[1;32m     10\u001b[0m \u001b[0mej\u001b[0m \u001b[0;34m=\u001b[0m \u001b[0mExampleClass\u001b[0m\u001b[0;34m(\u001b[0m\u001b[0;34m)\u001b[0m\u001b[0;34m\u001b[0m\u001b[0;34m\u001b[0m\u001b[0m\n\u001b[1;32m     11\u001b[0m \u001b[0mej\u001b[0m\u001b[0;34m.\u001b[0m\u001b[0mpublic\u001b[0m\u001b[0;34m(\u001b[0m\u001b[0;34m)\u001b[0m\u001b[0;34m\u001b[0m\u001b[0;34m\u001b[0m\u001b[0m\n\u001b[0;32m---> 12\u001b[0;31m \u001b[0mej\u001b[0m\u001b[0;34m.\u001b[0m\u001b[0m__private\u001b[0m\u001b[0;34m(\u001b[0m\u001b[0;34m)\u001b[0m\u001b[0;34m\u001b[0m\u001b[0;34m\u001b[0m\u001b[0m\n\u001b[0m",
            "\u001b[0;31mAttributeError\u001b[0m: 'ExampleClass' object has no attribute '__private'"
          ]
        }
      ]
    },
    {
      "cell_type": "markdown",
      "metadata": {
        "id": "cRz7pxvDeZQ3"
      },
      "source": [
        "### Special methods\n",
        "\n",
        "There are methods with special meanings, whose names always begin and end with two underscores. Some especially useful ones are listed below."
      ]
    },
    {
      "cell_type": "markdown",
      "metadata": {
        "id": "zQXb1F8iu2Rt"
      },
      "source": [
        "- **__init__(self, args)**: Method called after creating the object to perform initialization tasks.\n",
        "- **__new__(cls, args)**: A method unique to the new-style classes that executes before __init__ and that is responsible for constructing and returning the object itself. It is equivalent to the C ++ or Java constructors. It is a static method, that is, it exists independently of the instances of the class: it is a class method, not an object method, and therefore the first parameter is not self, but the class itself: cls.\n",
        "- **__del__(self)**: Method called when the object is to be deleted. Also called a destructor, it is used to perform cleaning tasks.\n",
        "- **__str__(self)**: Method called to create a text string that represents our object. It is used when we use print to display our object or when we use the str (obj) function to create a string from our object.\n",
        "- **__cmp__(self, other)**: Method called when the comparison operators are used to check if our object is less than, greater than or equal to the object passed as a parameter. It must return a negative number if our object is less, zero if they are equal, and a positive number if our object is greater. If this method is not defined and an attempt is made to compare the object using the <, <=,> or> = operators, an exception will be thrown. If the == or! = Operators are used to check if two objects are equal, it is checked if they are the same object (if they have the same id).\n",
        "- **__len__(self)**: Method called to check the length of the object. It is used, for example, when the len (obj) function is called on our object. As you might expect, the method should return the length of the object."
      ]
    },
    {
      "cell_type": "markdown",
      "metadata": {
        "id": "BZQrya3XaaVk"
      },
      "source": [
        "## Resources\n",
        "\n",
        "https://en.wikipedia.org/wiki/Object-oriented_programming\n",
        "\n",
        "https://www.programiz.com/python-programming/object-oriented-programming\n",
        "\n",
        "https://brilliant.org/wiki/classes-oop/\n",
        "\n",
        "https://www.utic.edu.py/citil/images/Manuales/Python_para_todos.pdf\n",
        "\n",
        "https://github.com/Asabeneh/30-Days-Of-Python/blob/master/21_Day_Classes_and_objects/21_classes_and_objects.md"
      ]
    },
    {
      "cell_type": "code",
      "metadata": {
        "id": "18db1ZY-zl_L"
      },
      "source": [
        ""
      ],
      "execution_count": null,
      "outputs": []
    }
  ]
}