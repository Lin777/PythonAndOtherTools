{
  "nbformat": 4,
  "nbformat_minor": 0,
  "metadata": {
    "colab": {
      "name": "Threads.ipynb",
      "provenance": [],
      "authorship_tag": "ABX9TyMbBJ58E0RkWUwiIbc3JMUp",
      "include_colab_link": true
    },
    "kernelspec": {
      "name": "python3",
      "display_name": "Python 3"
    }
  },
  "cells": [
    {
      "cell_type": "markdown",
      "metadata": {
        "id": "view-in-github",
        "colab_type": "text"
      },
      "source": [
        "<a href=\"https://colab.research.google.com/github/Lin777/PythonAndOtherTools/blob/master/Threads.ipynb\" target=\"_parent\"><img src=\"https://colab.research.google.com/assets/colab-badge.svg\" alt=\"Open In Colab\"/></a>"
      ]
    },
    {
      "cell_type": "markdown",
      "metadata": {
        "id": "fXCqL4zgumOI"
      },
      "source": [
        "# Threads\n",
        "\n",
        "Python threading allows you to have different parts of your program run concurrently and can simplify your design.\n",
        "\n"
      ]
    },
    {
      "cell_type": "markdown",
      "metadata": {
        "id": "DOZPvqVTwS-z"
      },
      "source": [
        "## What's a Thread?\n",
        "\n",
        "A thread is a separate flow of execution. This means that your program will have two things happening at once.\n",
        "\n",
        "The threads are executed within a process, and the process threads share resources with each other, such as memory, for example.\n",
        "\n",
        "**Multithreading** is defined as the ability of a processor to execute multiple threads concurrently.\n",
        "\n",
        "## Threads in Python\n",
        "\n",
        "In Python, the threading module provides a very simple and intuitive API for spawning multiple threads in a program.\n",
        "\n"
      ]
    },
    {
      "cell_type": "code",
      "metadata": {
        "id": "8BvpWDPit8qn"
      },
      "source": [
        "# Example\n",
        "\n",
        "\n",
        "# Python program to illustrate the concept \n",
        "# of threading \n",
        "# importing the threading module \n",
        "import threading \n",
        "  \n",
        "def print_cube(num): \n",
        "    \"\"\" \n",
        "    function to print cube of given num \n",
        "    \"\"\"\n",
        "    print(\"Cube: {}\".format(num * num * num)) \n",
        "  \n",
        "def print_square(num): \n",
        "    \"\"\" \n",
        "    function to print square of given num \n",
        "    \"\"\"\n",
        "    print(\"Square: {}\".format(num * num)) \n",
        "  \n",
        "if __name__ == \"__main__\": \n",
        "    # creating thread \n",
        "    t1 = threading.Thread(target=print_square, args=(10,)) \n",
        "    t2 = threading.Thread(target=print_cube, args=(10,)) \n",
        "  \n",
        "    # starting thread 1 \n",
        "    t1.start() \n",
        "    # starting thread 2 \n",
        "    t2.start() \n",
        "  \n",
        "    # wait until thread 1 is completely executed \n",
        "    t1.join() \n",
        "    # wait until thread 2 is completely executed \n",
        "    t2.join() \n",
        "  \n",
        "    # both threads completely executed \n",
        "    print(\"Done!\") "
      ],
      "execution_count": null,
      "outputs": []
    },
    {
      "cell_type": "markdown",
      "metadata": {
        "id": "-BIEVGi1vs27"
      },
      "source": [
        "## References\n",
        "\n",
        "https://realpython.com/intro-to-python-threading/\n",
        "\n",
        "https://www.utic.edu.py/citil/images/Manuales/Python_para_todos.pdf\n",
        "\n",
        "https://www.geeksforgeeks.org/multithreading-python-set-1/\n",
        "\n"
      ]
    }
  ]
}