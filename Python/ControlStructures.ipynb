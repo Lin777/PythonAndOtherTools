{
  "nbformat": 4,
  "nbformat_minor": 0,
  "metadata": {
    "colab": {
      "name": "ControlStructures.ipynb",
      "provenance": [],
      "authorship_tag": "ABX9TyMLVAW3+JdRL1Fej51E/c1A",
      "include_colab_link": true
    },
    "kernelspec": {
      "name": "python3",
      "display_name": "Python 3"
    }
  },
  "cells": [
    {
      "cell_type": "markdown",
      "metadata": {
        "id": "view-in-github",
        "colab_type": "text"
      },
      "source": [
        "<a href=\"https://colab.research.google.com/github/Lin777/PythonAndOtherTools/blob/master/ControlStructures.ipynb\" target=\"_parent\"><img src=\"https://colab.research.google.com/assets/colab-badge.svg\" alt=\"Open In Colab\"/></a>"
      ]
    },
    {
      "cell_type": "markdown",
      "metadata": {
        "id": "VB-263BjufIG"
      },
      "source": [
        "# Control structures\n",
        "\n",
        "Everything you have seen so far has consisted of sequential execution, in which statements are always performed one after the next, in exactly the order specified.\n",
        "\n",
        "But the world is often more complicated than that. Frequently, a program needs to skip over some statements, execute a series of statements repetitively, or choose between alternate sets of statements to execute.\n",
        "\n",
        "That is where control structures come in. A control structure directs the order of execution of the statements in a program (referred to as the program’s control flow)."
      ]
    },
    {
      "cell_type": "markdown",
      "metadata": {
        "id": "nT_Oi_ievYik"
      },
      "source": [
        "## Conditionals\n",
        "\n",
        "A block of one or more statements will be executed if a certain expression is true."
      ]
    },
    {
      "cell_type": "markdown",
      "metadata": {
        "id": "pNQY3eRNv14K"
      },
      "source": [
        "### If Condition\n",
        "\n",
        "In python and other programming languages the key word if we use to check if a condition is true and to execute the block code. Remember the indentation after the colon.\n",
        "\n",
        "```\n",
        "# syntax\n",
        "if condition:\n",
        "    this part of code runs for truthy conditions\n",
        "```"
      ]
    },
    {
      "cell_type": "code",
      "metadata": {
        "id": "6DflpNlsuELH",
        "outputId": "18d3ae38-f086-40ca-98a6-b4cee65a33b1",
        "colab": {
          "base_uri": "https://localhost:8080/"
        }
      },
      "source": [
        "# Example\n",
        "\n",
        "a = 3\n",
        "if a > 0:\n",
        "    print('A is a positive number')"
      ],
      "execution_count": 1,
      "outputs": [
        {
          "output_type": "stream",
          "text": [
            "A is a positive number\n"
          ],
          "name": "stdout"
        }
      ]
    },
    {
      "cell_type": "markdown",
      "metadata": {
        "id": "wge7n1EUwFZJ"
      },
      "source": [
        "As you can see in the example above, 3 is greater than 0. The condition was true and the block code was executed. However, if the condition is false, we do not see the result. In order to see the result of the falsy condition, we should have another block, which is going to be else."
      ]
    },
    {
      "cell_type": "markdown",
      "metadata": {
        "id": "4OQ9lQBdwjKl"
      },
      "source": [
        "### If Else\n",
        "\n",
        "If condition is true the first block will be executed, if not the else condition will run.\n",
        "\n",
        "```\n",
        "# syntax\n",
        "if condition:\n",
        "    this part of code runs for truthy conditions\n",
        "else:\n",
        "     this part of code runs for false conditions\n",
        "```"
      ]
    },
    {
      "cell_type": "code",
      "metadata": {
        "id": "jC-De1WOwFlv",
        "outputId": "38d84c20-1017-4303-cd8f-bf6fb8a5d6ba",
        "colab": {
          "base_uri": "https://localhost:8080/"
        }
      },
      "source": [
        "# Example\n",
        "\n",
        "a = 3\n",
        "if a < 0:\n",
        "    print('A is a negative number')\n",
        "else:\n",
        "    print('A is a positive number')"
      ],
      "execution_count": 2,
      "outputs": [
        {
          "output_type": "stream",
          "text": [
            "A is a positive number\n"
          ],
          "name": "stdout"
        }
      ]
    },
    {
      "cell_type": "markdown",
      "metadata": {
        "id": "6scq4Y5jwFx1"
      },
      "source": [
        "The condition above proves false, therefore the else block was executed. How about if our condition is more than two? We could use _ elif_."
      ]
    },
    {
      "cell_type": "markdown",
      "metadata": {
        "id": "LJvjgdB0w1Yn"
      },
      "source": [
        "### If Elif Else\n",
        "\n",
        "In our daily life, we make decisions on daily basis. We make decisions not by checking one or two conditions but multiple conditions. As similar to life, programming is also full of conditions. We use elif when we have multiple conditions.\n",
        "\n",
        "```\n",
        "# syntax\n",
        "if condition:\n",
        "    code\n",
        "elif condition:\n",
        "    code\n",
        "else:\n",
        "    code\n",
        "```"
      ]
    },
    {
      "cell_type": "code",
      "metadata": {
        "id": "Bvm2lwZkwF-q",
        "outputId": "877c3b6b-cedf-4cf0-a83b-eb4056a26976",
        "colab": {
          "base_uri": "https://localhost:8080/"
        }
      },
      "source": [
        "# Example\n",
        "\n",
        "a = 0\n",
        "if a > 0:\n",
        "    print('A is a positive number')\n",
        "elif a < 0:\n",
        "    print('A is a negative number')\n",
        "else:\n",
        "    print('A is zero')"
      ],
      "execution_count": 3,
      "outputs": [
        {
          "output_type": "stream",
          "text": [
            "A is zero\n"
          ],
          "name": "stdout"
        }
      ]
    },
    {
      "cell_type": "markdown",
      "metadata": {
        "id": "ArtEnkxwwGLj"
      },
      "source": [
        "### Nested Conditions\n",
        "\n",
        "Conditions can be nested\n",
        "```\n",
        "# syntax\n",
        "if condition:\n",
        "    code\n",
        "    if condition:\n",
        "    code\n",
        "```"
      ]
    },
    {
      "cell_type": "code",
      "metadata": {
        "id": "3hpC9aH8wGYr",
        "outputId": "b43c32af-266f-4783-ebb0-7e7bcc9aa412",
        "colab": {
          "base_uri": "https://localhost:8080/"
        }
      },
      "source": [
        "# Example\n",
        "a = 0\n",
        "if a > 0:\n",
        "    if a % 2 == 0:\n",
        "        print('A is a positive and even integer')\n",
        "    else:\n",
        "        print('A is a positive number')\n",
        "elif a == 0:\n",
        "    print('A is zero')\n",
        "else:\n",
        "    print('A is a negative number')"
      ],
      "execution_count": 5,
      "outputs": [
        {
          "output_type": "stream",
          "text": [
            "A is zero\n"
          ],
          "name": "stdout"
        }
      ]
    },
    {
      "cell_type": "markdown",
      "metadata": {
        "id": "U-EQWEBmwGlW"
      },
      "source": [
        "We can avoid writing nested condition by using logical operator and.\n",
        "\n",
        "### If Condition and Logical Operators\n",
        "\n",
        "```\n",
        "# syntax\n",
        "if condition and condition:\n",
        "    code\n",
        "```"
      ]
    },
    {
      "cell_type": "code",
      "metadata": {
        "id": "Drn6Mn-jwG2J",
        "outputId": "7d0df7c0-2678-44c6-f9db-d835fdc491a2",
        "colab": {
          "base_uri": "https://localhost:8080/"
        }
      },
      "source": [
        "# Example\n",
        "\n",
        "a = 0\n",
        "if a > 0 and a % 2 == 0:\n",
        "        print('A is an even and positive integer')\n",
        "elif a > 0 and a % 2 != 0:\n",
        "     print('A is a positive integer')\n",
        "elif a == 0:\n",
        "    print('A is zero')\n",
        "else:\n",
        "    print('A is negative')"
      ],
      "execution_count": 8,
      "outputs": [
        {
          "output_type": "stream",
          "text": [
            "A is zero\n"
          ],
          "name": "stdout"
        }
      ]
    },
    {
      "cell_type": "markdown",
      "metadata": {
        "id": "niMA_NMfx0nL"
      },
      "source": [
        "### If and Or Logical Operators\n",
        "```\n",
        "# syntax\n",
        "if condition or condition:\n",
        "    code\n",
        "```"
      ]
    },
    {
      "cell_type": "code",
      "metadata": {
        "id": "T3q8zs3Tx094",
        "outputId": "b576fb5e-fa94-47af-ed9c-9dc9d5c2eabd",
        "colab": {
          "base_uri": "https://localhost:8080/"
        }
      },
      "source": [
        "# Example\n",
        "\n",
        "user = 'James'\n",
        "access_level = 3\n",
        "if user == 'admin' or access_level >= 4:\n",
        "        print('Access granted!')\n",
        "else:\n",
        "    print('Access denied!')"
      ],
      "execution_count": 9,
      "outputs": [
        {
          "output_type": "stream",
          "text": [
            "Access denied!\n"
          ],
          "name": "stdout"
        }
      ]
    },
    {
      "cell_type": "markdown",
      "metadata": {
        "id": "miZmY7p1x4T_"
      },
      "source": [
        "## Loops\n",
        "\n",
        "In order to handle repetitive task programming languages provide loops. Python programming language also provides the following types of two loops:\n",
        "\n",
        "- while loop\n",
        "- for loop\n"
      ]
    },
    {
      "cell_type": "markdown",
      "metadata": {
        "id": "I7zV7FqyyjsT"
      },
      "source": [
        "### While loop\n",
        "\n",
        "We use the reserved word while to make a while loop. It is used to execute a block of statements repeatedly until a given condition is satisfied. When the condition becomes false, the lines of code after the loop will be continued to be executed.\n",
        "\n",
        "```\n",
        "# syntax\n",
        "while condition:\n",
        "    code goes here\n",
        "```"
      ]
    },
    {
      "cell_type": "code",
      "metadata": {
        "id": "napdzHr8x4k1",
        "outputId": "9ca92ad5-15e0-42c3-d98e-4829d408b65c",
        "colab": {
          "base_uri": "https://localhost:8080/"
        }
      },
      "source": [
        "# Example\n",
        "\n",
        "count = 0\n",
        "while count < 5:\n",
        "    print(count)\n",
        "    count = count + 1"
      ],
      "execution_count": 10,
      "outputs": [
        {
          "output_type": "stream",
          "text": [
            "0\n",
            "1\n",
            "2\n",
            "3\n",
            "4\n"
          ],
          "name": "stdout"
        }
      ]
    },
    {
      "cell_type": "markdown",
      "metadata": {
        "id": "qXeCMsu8x4zp"
      },
      "source": [
        "In the above while loop, the condition becomes false when count is 5. That is when the loop stops. If we are interested to run block of code once the condition is no longer true, we can use else.\n",
        "```\n",
        "# syntax\n",
        "while condition:\n",
        "    code goes here\n",
        "else:\n",
        "    code goes here\n",
        "```"
      ]
    },
    {
      "cell_type": "code",
      "metadata": {
        "id": "xs1eX53Rx5A6",
        "outputId": "6adb3766-afce-428e-a9e3-98157ccc4333",
        "colab": {
          "base_uri": "https://localhost:8080/"
        }
      },
      "source": [
        "# Example\n",
        "\n",
        "count = 0\n",
        "while count < 5:\n",
        "    print(count)\n",
        "    count = count + 1\n",
        "else:\n",
        "    print('Else: '+ str(count))"
      ],
      "execution_count": 12,
      "outputs": [
        {
          "output_type": "stream",
          "text": [
            "0\n",
            "1\n",
            "2\n",
            "3\n",
            "4\n",
            "Else: 5\n"
          ],
          "name": "stdout"
        }
      ]
    },
    {
      "cell_type": "markdown",
      "metadata": {
        "id": "NsuMWsrHx5PM"
      },
      "source": [
        "The above loop condition will be false when count is 5 and the loop stops, and execution starts the else statement. As a result 5 will be printed.\n",
        "\n",
        "#### Break and Continue - Part 1\n",
        "\n",
        "- Break: We use break when we like to get out of or stop the loop.\n",
        "```\n",
        "# syntax\n",
        "while condition:\n",
        "    code goes here\n",
        "    if another_condition:\n",
        "        break\n",
        "```"
      ]
    },
    {
      "cell_type": "code",
      "metadata": {
        "id": "___Kacnyx5bf",
        "outputId": "07e33a57-b7b4-4a61-f885-8e7cc33fa7ab",
        "colab": {
          "base_uri": "https://localhost:8080/"
        }
      },
      "source": [
        "# Example\n",
        "\n",
        "count = 0\n",
        "while count < 5:\n",
        "    print(count)\n",
        "    count = count + 1\n",
        "    if count == 3:\n",
        "        break"
      ],
      "execution_count": 13,
      "outputs": [
        {
          "output_type": "stream",
          "text": [
            "0\n",
            "1\n",
            "2\n"
          ],
          "name": "stdout"
        }
      ]
    },
    {
      "cell_type": "markdown",
      "metadata": {
        "id": "rC0XsAdEzT3Y"
      },
      "source": [
        "The above while loop only prints 0, 1, 2, but when it reaches 3 it stops.\n",
        "\n",
        "- Continue: With the continue statement we can stop the current iteration, and continue with the next:\n",
        "```\n",
        "# syntax\n",
        "while condition:\n",
        "    code goes here\n",
        "    if another_condition:\n",
        "        continue\n",
        "```"
      ]
    },
    {
      "cell_type": "code",
      "metadata": {
        "id": "Kc2x_4O7zUDT",
        "outputId": "5ab5d667-240e-4e67-fa2c-3e640d72fe1c",
        "colab": {
          "base_uri": "https://localhost:8080/"
        }
      },
      "source": [
        "# Example\n",
        "\n",
        "count = 0\n",
        "while count < 5:\n",
        "    count = count + 1\n",
        "    if count == 3:\n",
        "        continue\n",
        "    print(count)"
      ],
      "execution_count": 16,
      "outputs": [
        {
          "output_type": "stream",
          "text": [
            "1\n",
            "2\n",
            "4\n",
            "5\n"
          ],
          "name": "stdout"
        }
      ]
    },
    {
      "cell_type": "markdown",
      "metadata": {
        "id": "USdBt0GVzUOq"
      },
      "source": [
        "The above while loop only prints 0, 1, 2 and 4 (skips 3)."
      ]
    },
    {
      "cell_type": "markdown",
      "metadata": {
        "id": "5mSbVEZA0Csh"
      },
      "source": [
        "## For Loop\n",
        "\n",
        "Loop is used for iterating over a sequence (that is either a list, a tuple, a dictionary, a set, or a string).\n",
        "\n",
        "- For loop with list\n",
        "```\n",
        "# syntax\n",
        "for iterator in lst:\n",
        "    code goes here\n",
        "```"
      ]
    },
    {
      "cell_type": "code",
      "metadata": {
        "id": "66S4j8ZzzUcC",
        "outputId": "838b8013-29c4-4306-82fa-7323348eddc6",
        "colab": {
          "base_uri": "https://localhost:8080/"
        }
      },
      "source": [
        "# Example\n",
        "numbers = [0, 1, 2, 3, 4, 5]\n",
        "for number in numbers: # number is temporary name to refer to the list's items, valid only inside this loop\n",
        "    print(number)       # the numbers will be printed line by line, from 0 to 5"
      ],
      "execution_count": 17,
      "outputs": [
        {
          "output_type": "stream",
          "text": [
            "0\n",
            "1\n",
            "2\n",
            "3\n",
            "4\n",
            "5\n"
          ],
          "name": "stdout"
        }
      ]
    },
    {
      "cell_type": "markdown",
      "metadata": {
        "id": "XZco4uDpzUpD"
      },
      "source": [
        "- For loop with string\n",
        "```\n",
        "# syntax\n",
        "for iterator in string:\n",
        "    code goes here\n",
        "```"
      ]
    },
    {
      "cell_type": "code",
      "metadata": {
        "id": "5RED3bYfzU0M",
        "outputId": "e6aaab58-7443-4fc2-fae3-02dde80a0c9e",
        "colab": {
          "base_uri": "https://localhost:8080/"
        }
      },
      "source": [
        "# Example\n",
        "\n",
        "language = 'Python'\n",
        "for letter in language:\n",
        "    print(letter)"
      ],
      "execution_count": 18,
      "outputs": [
        {
          "output_type": "stream",
          "text": [
            "P\n",
            "y\n",
            "t\n",
            "h\n",
            "o\n",
            "n\n"
          ],
          "name": "stdout"
        }
      ]
    },
    {
      "cell_type": "markdown",
      "metadata": {
        "id": "RS7t2zcIzVBQ"
      },
      "source": [
        "- For loop with tuple\n",
        "```\n",
        "# syntax\n",
        "for iterator in tpl:\n",
        "    code goes here\n",
        "```"
      ]
    },
    {
      "cell_type": "code",
      "metadata": {
        "id": "kvMr7JdWzVOm",
        "outputId": "73cf5da8-ccc2-4e27-cdc9-a7ade051f4c5",
        "colab": {
          "base_uri": "https://localhost:8080/"
        }
      },
      "source": [
        "# Example\n",
        "\n",
        "numbers = (0,1,2,3,4,5)\n",
        "for number in numbers:\n",
        "    print(number)"
      ],
      "execution_count": 19,
      "outputs": [
        {
          "output_type": "stream",
          "text": [
            "0\n",
            "1\n",
            "2\n",
            "3\n",
            "4\n",
            "5\n"
          ],
          "name": "stdout"
        }
      ]
    },
    {
      "cell_type": "markdown",
      "metadata": {
        "id": "EQ3nQmvT2H44"
      },
      "source": [
        "- For loop with dictionary Looping through a dictionary gives you the key of the dictionary.\n",
        "```\n",
        "# syntax\n",
        "for iterator in dct:\n",
        "    code goes here\n",
        "```"
      ]
    },
    {
      "cell_type": "code",
      "metadata": {
        "id": "-C6_v0RW2IEy",
        "outputId": "aa2fec76-21b6-48a9-b376-f5d0315cfa7c",
        "colab": {
          "base_uri": "https://localhost:8080/"
        }
      },
      "source": [
        "#Example\n",
        "\n",
        "person = {\n",
        "    'first_name':'Evelyn',\n",
        "    'last_name':'Cusi',\n",
        "    'age':25,\n",
        "    'country':'Bolivia',\n",
        "    'is_marred': False,\n",
        "    'skills':['Smalltalk', 'Java', 'Django', 'MongoDB', 'Python'],\n",
        "    'address': {\n",
        "        'street':'Inti street',\n",
        "        'zipcode':'0000'\n",
        "    }\n",
        "}\n",
        "for key in person:\n",
        "    print(key)\n",
        "\n",
        "for key, value in person.items():\n",
        "    print(key,': ', value) # this way we get both keys and values printed out"
      ],
      "execution_count": 22,
      "outputs": [
        {
          "output_type": "stream",
          "text": [
            "first_name\n",
            "last_name\n",
            "age\n",
            "country\n",
            "is_marred\n",
            "skills\n",
            "address\n",
            "first_name :  Evelyn\n",
            "last_name :  Cusi\n",
            "age :  25\n",
            "country :  Bolivia\n",
            "is_marred :  False\n",
            "skills :  ['Smalltalk', 'Java', 'Django', 'MongoDB', 'Python']\n",
            "address :  {'street': 'Inti street', 'zipcode': '0000'}\n"
          ],
          "name": "stdout"
        }
      ]
    },
    {
      "cell_type": "markdown",
      "metadata": {
        "id": "jbvd5U1f2IP-"
      },
      "source": [
        "- Loops in set\n",
        "```\n",
        "# syntax\n",
        "for iterator in st:\n",
        "    code goes here\n",
        "```"
      ]
    },
    {
      "cell_type": "code",
      "metadata": {
        "id": "I-GFFW9X2IhS",
        "outputId": "8de5c166-e32d-42b2-efa9-783e9e6919ea",
        "colab": {
          "base_uri": "https://localhost:8080/"
        }
      },
      "source": [
        "# Example\n",
        "\n",
        "it_companies = {'Facebook', 'Google', 'Microsoft', 'Apple', 'IBM', 'Oracle', 'Amazon'}\n",
        "for company in it_companies:\n",
        "    print(company)"
      ],
      "execution_count": 23,
      "outputs": [
        {
          "output_type": "stream",
          "text": [
            "Google\n",
            "Amazon\n",
            "Apple\n",
            "IBM\n",
            "Facebook\n",
            "Microsoft\n",
            "Oracle\n"
          ],
          "name": "stdout"
        }
      ]
    },
    {
      "cell_type": "markdown",
      "metadata": {
        "id": "MBixw6vE2Itn"
      },
      "source": [
        "### Break and Continue - Part 2\n",
        "\n",
        "Short reminder: \n",
        "\n",
        "- **Break:** We use break when we like to stop our loop before it is completed.\n",
        "```\n",
        "# syntax\n",
        "for iterator in sequence:\n",
        "    code goes here\n",
        "    if condition:\n",
        "        break\n",
        "```"
      ]
    },
    {
      "cell_type": "code",
      "metadata": {
        "id": "mkGnIHgH2I5c",
        "outputId": "f2cc22a6-6a59-47de-951f-7711c074d54d",
        "colab": {
          "base_uri": "https://localhost:8080/"
        }
      },
      "source": [
        "# Example\n",
        "\n",
        "numbers = (0,1,2,3,4,5)\n",
        "for number in numbers:\n",
        "    print(number)\n",
        "    if number == 3:\n",
        "        break"
      ],
      "execution_count": 24,
      "outputs": [
        {
          "output_type": "stream",
          "text": [
            "0\n",
            "1\n",
            "2\n",
            "3\n"
          ],
          "name": "stdout"
        }
      ]
    },
    {
      "cell_type": "markdown",
      "metadata": {
        "id": "ZqlS-aTh5pGd"
      },
      "source": [
        "In the above example, the loop stops when it reaches 3.\n",
        "\n",
        "- **Continue:** We use continue when we like to skip some of the steps in the iteration of the loop.\n",
        "\n",
        "```\n",
        "# syntax\n",
        "for iterator in sequence:\n",
        "    code goes here\n",
        "    if condition:\n",
        "        continue\n",
        "```"
      ]
    },
    {
      "cell_type": "code",
      "metadata": {
        "id": "lmUPhJh75pR7",
        "outputId": "d2102cb3-3d7d-48c7-d545-db63d160e110",
        "colab": {
          "base_uri": "https://localhost:8080/"
        }
      },
      "source": [
        "# Examples\n",
        "numbers = (0,1,2,3,4,5)\n",
        "for number in numbers:\n",
        "    print(number)\n",
        "    if number == 3:\n",
        "        continue\n",
        "    print('Next number should be ', number + 1) if number != 5 else print(\"loop's end\") # for short hand conditions need both if and else statements\n",
        "print('outside the loop')"
      ],
      "execution_count": 25,
      "outputs": [
        {
          "output_type": "stream",
          "text": [
            "0\n",
            "Next number should be  1\n",
            "1\n",
            "Next number should be  2\n",
            "2\n",
            "Next number should be  3\n",
            "3\n",
            "4\n",
            "Next number should be  5\n",
            "5\n",
            "loop's end\n",
            "outside the loop\n"
          ],
          "name": "stdout"
        }
      ]
    },
    {
      "cell_type": "markdown",
      "metadata": {
        "id": "gUfY0mGF5pom"
      },
      "source": [
        "In the example above, if the number equals 3, the step after the condition (but inside the loop) is skipped and the execution of the loop continues if there are any iterations left."
      ]
    },
    {
      "cell_type": "markdown",
      "metadata": {
        "id": "8TewD21MAM23"
      },
      "source": [
        "### The Range Function\n",
        "\n",
        "The range() function is used to loop through a set of code a certain number of times. The range(start,end, step) takes three parameters: starting, ending and increment. By default it starts from 0 and the increment is 1. The range sequence needs at least 1 argument (end). Creating sequences using range"
      ]
    },
    {
      "cell_type": "code",
      "metadata": {
        "id": "v_6_1w-f5p0h",
        "outputId": "5b5be2cc-2907-4562-d60c-5cc5f8ed4622",
        "colab": {
          "base_uri": "https://localhost:8080/"
        }
      },
      "source": [
        "lst = list(range(11)) \n",
        "print(lst) # [0, 1, 2, 3, 4, 5, 6, 7, 8, 9, 10]\n",
        "\n",
        "st = set(range(1, 11))    # 2 arguments indicate start and end of the sequence, step set to default 1\n",
        "print(st) # {1, 2, 3, 4, 5, 6, 7, 8, 9, 10}\n",
        "\n",
        "lst = list(range(0,11,2))\n",
        "print(lst) # [0, 2, 4, 6, 8, 10]"
      ],
      "execution_count": 26,
      "outputs": [
        {
          "output_type": "stream",
          "text": [
            "[0, 1, 2, 3, 4, 5, 6, 7, 8, 9, 10]\n",
            "{1, 2, 3, 4, 5, 6, 7, 8, 9, 10}\n",
            "[0, 2, 4, 6, 8, 10]\n"
          ],
          "name": "stdout"
        }
      ]
    },
    {
      "cell_type": "markdown",
      "metadata": {
        "id": "N4Ry9BT05qCm"
      },
      "source": [
        "```\n",
        "# syntax\n",
        "for iterator in range(start, end, increment):\n",
        "```"
      ]
    },
    {
      "cell_type": "code",
      "metadata": {
        "id": "1nxCL52u5qPF",
        "outputId": "2a0ce32c-d94d-4d3b-9647-8be31ba0ad2d",
        "colab": {
          "base_uri": "https://localhost:8080/"
        }
      },
      "source": [
        "# Example\n",
        "for number in range(11):\n",
        "    print(number)   # prints 0 to 10, not including 11"
      ],
      "execution_count": 27,
      "outputs": [
        {
          "output_type": "stream",
          "text": [
            "0\n",
            "1\n",
            "2\n",
            "3\n",
            "4\n",
            "5\n",
            "6\n",
            "7\n",
            "8\n",
            "9\n",
            "10\n"
          ],
          "name": "stdout"
        }
      ]
    },
    {
      "cell_type": "markdown",
      "metadata": {
        "id": "zAhWlIt7A4kE"
      },
      "source": [
        "### Nested For Loop\n",
        "\n",
        "We can write loops inside a loop.\n",
        "\n",
        "```\n",
        "# syntax\n",
        "for x in y:\n",
        "    for t in s:\n",
        "        print(t)\n",
        "```"
      ]
    },
    {
      "cell_type": "code",
      "metadata": {
        "id": "OU179BzvA40e",
        "outputId": "5c67bb63-d412-44e2-8b48-7171cb9322ae",
        "colab": {
          "base_uri": "https://localhost:8080/"
        }
      },
      "source": [
        "# Example\n",
        "\n",
        "person = {\n",
        "    'first_name':'Evelyn',\n",
        "    'last_name':'Cusi',\n",
        "    'age':25,\n",
        "    'country':'Bolivia',\n",
        "    'is_marred': False,\n",
        "    'skills':['Smalltalk', 'Java', 'Django', 'MongoDB', 'Python'],\n",
        "    'address': {\n",
        "        'street':'Inti street',\n",
        "        'zipcode':'0000'\n",
        "    }\n",
        "}\n",
        "\n",
        "for key in person:\n",
        "    if key == 'skills':\n",
        "        for skill in person['skills']:\n",
        "            print(skill)"
      ],
      "execution_count": 28,
      "outputs": [
        {
          "output_type": "stream",
          "text": [
            "Smalltalk\n",
            "Java\n",
            "Django\n",
            "MongoDB\n",
            "Python\n"
          ],
          "name": "stdout"
        }
      ]
    },
    {
      "cell_type": "markdown",
      "metadata": {
        "id": "eHLXo6UGA5Af"
      },
      "source": [
        "## For Else\n",
        "\n",
        "If we want to execute some message when the loop ends, we use else.\n",
        "\n",
        "```\n",
        "# syntax\n",
        "for iterator in range(start, end, increment):\n",
        "    do something\n",
        "else:\n",
        "    print('The loop ended')\n",
        "```"
      ]
    },
    {
      "cell_type": "code",
      "metadata": {
        "id": "yE03mXBGA5L4",
        "outputId": "e3143652-b3d0-4217-9875-5030ad8ae0cf",
        "colab": {
          "base_uri": "https://localhost:8080/"
        }
      },
      "source": [
        "# Example\n",
        "\n",
        "for number in range(11):\n",
        "    print(number)   # prints 0 to 10, not including 11\n",
        "else:\n",
        "    print('The loop stops at', number)"
      ],
      "execution_count": 29,
      "outputs": [
        {
          "output_type": "stream",
          "text": [
            "0\n",
            "1\n",
            "2\n",
            "3\n",
            "4\n",
            "5\n",
            "6\n",
            "7\n",
            "8\n",
            "9\n",
            "10\n",
            "The loop stops at 10\n"
          ],
          "name": "stdout"
        }
      ]
    },
    {
      "cell_type": "markdown",
      "metadata": {
        "id": "fxyQ0GqdA5W3"
      },
      "source": [
        "### Pass\n",
        "\n",
        "In python when statement is required (after semicolon), but we don't like to execute any code there, we can write the word pass to avoid errors. Also we can use it as a placeholder, for future statements."
      ]
    },
    {
      "cell_type": "code",
      "metadata": {
        "id": "BFgYTBRfA5iU"
      },
      "source": [
        "# Example\n",
        "\n",
        "for number in range(6):\n",
        "    pass"
      ],
      "execution_count": 30,
      "outputs": []
    },
    {
      "cell_type": "markdown",
      "metadata": {
        "id": "nGMeWw90vcZ4"
      },
      "source": [
        "## Resources\n",
        "\n",
        "https://realpython.com/python-conditional-statements/\n",
        "\n",
        "https://github.com/Asabeneh/30-Days-Of-Python/blob/master/10_Day_Loops/10_loops.md\n"
      ]
    }
  ]
}