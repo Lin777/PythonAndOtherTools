{
  "nbformat": 4,
  "nbformat_minor": 0,
  "metadata": {
    "colab": {
      "name": "FunctionalProgramming.ipynb",
      "provenance": [],
      "collapsed_sections": [],
      "authorship_tag": "ABX9TyOm5Lpq/cOySfQSf4AXwZ/R",
      "include_colab_link": true
    },
    "kernelspec": {
      "name": "python3",
      "display_name": "Python 3"
    }
  },
  "cells": [
    {
      "cell_type": "markdown",
      "metadata": {
        "id": "view-in-github",
        "colab_type": "text"
      },
      "source": [
        "<a href=\"https://colab.research.google.com/github/Lin777/PythonAndOtherTools/blob/master/FunctionalProgramming.ipynb\" target=\"_parent\"><img src=\"https://colab.research.google.com/assets/colab-badge.svg\" alt=\"Open In Colab\"/></a>"
      ]
    },
    {
      "cell_type": "markdown",
      "metadata": {
        "id": "61oBJtK00gaL"
      },
      "source": [
        "#Functional programming\n",
        "\n",
        "Functional programming is a paradigm in which programming is based almost entirely on functions, understanding the concept of function according to its mathematical definition, and not like the simple subprograms of imperative languages that we have seen so far.\n",
        "\n",
        "In pure functional languages, a program consists exclusively of applying different functions to an input value to obtain an output value.\n",
        "\n",
        "Python, without being a purely functional language, includes several characteristics taken from functional languages such as higher order functions or lambda functions (anonymous functions)."
      ]
    },
    {
      "cell_type": "markdown",
      "metadata": {
        "id": "iGXV9o-l1KbM"
      },
      "source": [
        "## Higher order functions\n",
        "\n",
        "The concept of higher order functions refers to the use of functions as if they were any value, making it possible to pass functions as parameters of other functions or to return functions as return values.\n",
        "\n",
        "This is possible because, as we have already insisted on several occasions, in Python everything are objects. And functions are no exception."
      ]
    },
    {
      "cell_type": "markdown",
      "metadata": {
        "id": "hwTDkuUflz3a"
      },
      "source": [
        "**Function as a parameter**"
      ]
    },
    {
      "cell_type": "code",
      "metadata": {
        "id": "HJLQI5NA0BHb",
        "outputId": "ffcf36ff-9919-4203-ea0c-eee8444f3d17",
        "colab": {
          "base_uri": "https://localhost:8080/"
        }
      },
      "source": [
        "def sum_numbers(nums):  # normal function\n",
        "    return sum(nums)    # a sad function abusing the built-in sum function :<\n",
        "\n",
        "def higher_order_function(f, *args):  # function as a parameter\n",
        "    summation = f(*args)\n",
        "    return summation\n",
        "result = higher_order_function(sum_numbers, [1, 2, 3, 4, 5])\n",
        "print(result)       # 15"
      ],
      "execution_count": 1,
      "outputs": [
        {
          "output_type": "stream",
          "text": [
            "15\n"
          ],
          "name": "stdout"
        }
      ]
    },
    {
      "cell_type": "markdown",
      "metadata": {
        "id": "vDvTD3-el5Zg"
      },
      "source": [
        "**Function as a return value**"
      ]
    },
    {
      "cell_type": "code",
      "metadata": {
        "id": "Yyo-dET9l5pq",
        "outputId": "359dfa19-60ef-4c96-f24d-abc49a981833",
        "colab": {
          "base_uri": "https://localhost:8080/"
        }
      },
      "source": [
        "def square(x):          # a square function\n",
        "    return x ** 2\n",
        "\n",
        "def cube(x):            # a cube function\n",
        "    return x ** 3\n",
        "\n",
        "def absolute(x):        # an absolute value function\n",
        "    if x >= 0:\n",
        "        return x\n",
        "    else:\n",
        "        return -(x)\n",
        "\n",
        "def higher_order_function(type): # a higher order function returning a function\n",
        "    if type == 'square':\n",
        "        return square\n",
        "    elif type == 'cube':\n",
        "        return cube\n",
        "    elif type == 'absolute':\n",
        "        return absolute\n",
        "\n",
        "result = higher_order_function('square')\n",
        "print(result(3))       # 9\n",
        "result = higher_order_function('cube')\n",
        "print(result(3))       # 27\n",
        "result = higher_order_function('absolute')\n",
        "print(result(-3))      # 3"
      ],
      "execution_count": 2,
      "outputs": [
        {
          "output_type": "stream",
          "text": [
            "9\n",
            "27\n",
            "3\n"
          ],
          "name": "stdout"
        }
      ]
    },
    {
      "cell_type": "markdown",
      "metadata": {
        "id": "cCDI4tbil56M"
      },
      "source": [
        "You can see from the above example that the higher order function is returning different functions depending on the passed parameter."
      ]
    },
    {
      "cell_type": "markdown",
      "metadata": {
        "id": "SW5KY0pppXyz"
      },
      "source": [
        "## Higher order iterations on lists\n",
        "\n",
        "One of the most interesting things we can do with our higher-order functions is pass them as arguments to the **map, filter, and reduce** functions. These functions allow us to replace the typical loops of imperative languages with equivalent constructions."
      ]
    },
    {
      "cell_type": "markdown",
      "metadata": {
        "id": "ERI7ZhEbpv-I"
      },
      "source": [
        "### map(function, sequence[, sequence, ...])\n",
        "\n",
        "The map() function is a built-in function that takes a function and iterable as parameters.\n",
        "\n",
        "```\n",
        "# syntax\n",
        "    map(function, iterable)\n",
        "```"
      ]
    },
    {
      "cell_type": "code",
      "metadata": {
        "id": "5rT0jIxAl6H1",
        "outputId": "96dfd32e-9d5c-4dbd-b015-e2322a1f3134",
        "colab": {
          "base_uri": "https://localhost:8080/"
        }
      },
      "source": [
        "# Example1\n",
        "\n",
        "def square(n):\n",
        "  return n ** 2\n",
        "  \n",
        "l = [1, 2, 3]\n",
        "l2 = map(square, l)\n",
        "print(list(l2))"
      ],
      "execution_count": 7,
      "outputs": [
        {
          "output_type": "stream",
          "text": [
            "[1, 4, 9]\n"
          ],
          "name": "stdout"
        }
      ]
    },
    {
      "cell_type": "markdown",
      "metadata": {
        "id": "aQ1_scy0qS0U"
      },
      "source": [
        "### filter(function, sequence)\n",
        "\n",
        "The filter() function calls the specified function which returns boolean for each item of the specified iterable (list). It filters the items that satisfy the filtering criteria.\n",
        "\n",
        "```\n",
        "# syntax\n",
        "    filter(function, iterable)\n",
        "```"
      ]
    },
    {
      "cell_type": "code",
      "metadata": {
        "id": "olPYdM8SqUey",
        "outputId": "a3a542f0-f99a-4e7f-d27e-49bf6d321eb3",
        "colab": {
          "base_uri": "https://localhost:8080/"
        }
      },
      "source": [
        "# Example1\n",
        "\n",
        "def is_even(num):\n",
        "  return num % 2 == 0\n",
        "\n",
        "numbers = [1, 2, 3, 4, 5]  # iterable\n",
        "even_numbers = filter(is_even, numbers)\n",
        "print(list(even_numbers))       # [2, 4]"
      ],
      "execution_count": 9,
      "outputs": [
        {
          "output_type": "stream",
          "text": [
            "[2, 4]\n"
          ],
          "name": "stdout"
        }
      ]
    },
    {
      "cell_type": "markdown",
      "metadata": {
        "id": "oGlj5jkVqS_L"
      },
      "source": [
        "### reduce(function, sequence[, initial])\n",
        "\n",
        "The reduce() function is defined in the functools module and we should import it from this module. Like map and filter it takes two parameters, a function and an iterable. However, it doesn't return another iterable, instead it returns a single value."
      ]
    },
    {
      "cell_type": "code",
      "metadata": {
        "id": "u29c8exyl6pB",
        "outputId": "bdf08c8f-00bf-417c-ab67-d0c9427ebe93",
        "colab": {
          "base_uri": "https://localhost:8080/"
        }
      },
      "source": [
        "# Example1\n",
        "import functools\n",
        "\n",
        "def sum_numbers(x, y):\n",
        "  return x + y\n",
        "  \n",
        "l = [1, 2, 3]\n",
        "l2 = functools.reduce(sum_numbers, l)\n",
        "print(l2)"
      ],
      "execution_count": 13,
      "outputs": [
        {
          "output_type": "stream",
          "text": [
            "6\n"
          ],
          "name": "stdout"
        }
      ]
    },
    {
      "cell_type": "markdown",
      "metadata": {
        "id": "K0yCn36dl6XM"
      },
      "source": [
        "## Lambda functions\n",
        "\n",
        "The lambda operator is used to create anonymous functions online. As they are anonymous functions, that is, without a name, they cannot be referenced later.\n",
        "\n",
        "Lambda functions are constructed using the lambda operator, the function parameters separated by commas (attention, NO parentheses-sis), a colon (:), and the function code."
      ]
    },
    {
      "cell_type": "code",
      "metadata": {
        "id": "lBd58ar7qUWn",
        "outputId": "e5502a69-1c3e-4458-9ffe-83380ca829ad",
        "colab": {
          "base_uri": "https://localhost:8080/"
        }
      },
      "source": [
        "# Example1\n",
        "\n",
        "l = [1, 2, 3]\n",
        "l2 = map(lambda x : x ** 2, l)\n",
        "print(list(l2)) "
      ],
      "execution_count": 14,
      "outputs": [
        {
          "output_type": "stream",
          "text": [
            "[1, 4, 9]\n"
          ],
          "name": "stdout"
        }
      ]
    },
    {
      "cell_type": "code",
      "metadata": {
        "id": "bOju-dwi0OyP",
        "outputId": "044dde74-8c61-4a20-f90e-20e4de75ed56",
        "colab": {
          "base_uri": "https://localhost:8080/"
        }
      },
      "source": [
        "# Example2\n",
        "\n",
        "l = [1, 2, 3]\n",
        "l2 = filter(lambda n: n % 2.0 == 0, l)\n",
        "print(list(l2)) "
      ],
      "execution_count": 15,
      "outputs": [
        {
          "output_type": "stream",
          "text": [
            "[2]\n"
          ],
          "name": "stdout"
        }
      ]
    },
    {
      "cell_type": "markdown",
      "metadata": {
        "id": "moWW7FcK0Jqq"
      },
      "source": [
        "Lambda functions are restricted by syntax to a single expression."
      ]
    },
    {
      "cell_type": "markdown",
      "metadata": {
        "id": "ZMXIMZ8J0AmJ"
      },
      "source": [
        "## List Comprehension\n",
        "\n",
        "List comprehension is a feature taken from the Haskell functional programming language that has been present in Python since version 2.0 and consists of a construction that allows you to create lists from other lists.\n",
        "\n",
        "Each of these constructions consists of an expression that determines how to modify the element of the original list, followed by one or more **for** clauses and optionally one or more **if** clauses.\n",
        "\n",
        "Let's look at an example of how list comprehension could be used to square all items in a list, as we did in our map example."
      ]
    },
    {
      "cell_type": "code",
      "metadata": {
        "id": "US-QIULP0A1i",
        "outputId": "031ff814-f004-4dd6-bb0d-f6ecb9d4d4d7",
        "colab": {
          "base_uri": "https://localhost:8080/"
        }
      },
      "source": [
        "# Example\n",
        "\n",
        "list = [1, 2, 3, 4, 5]\n",
        "l2 = [n ** 2 for n in list]\n",
        "print(l2)"
      ],
      "execution_count": 17,
      "outputs": [
        {
          "output_type": "stream",
          "text": [
            "[1, 4, 9, 16, 25]\n"
          ],
          "name": "stdout"
        }
      ]
    },
    {
      "cell_type": "markdown",
      "metadata": {
        "id": "HkwBUyd316Au"
      },
      "source": [
        "On the other hand, the example that we use for the filter function (keep only the numbers that are even) could be expressed with list comprehension like this:"
      ]
    },
    {
      "cell_type": "code",
      "metadata": {
        "id": "STZ-wMF016Nk",
        "outputId": "54ad2880-0f52-457d-ee39-b6fa9a542dda",
        "colab": {
          "base_uri": "https://localhost:8080/"
        }
      },
      "source": [
        "# Example\n",
        "\n",
        "list = [1, 2, 3, 4, 5]\n",
        "l2 = [n for n in list if n % 2.0 == 0]\n",
        "print(l2)"
      ],
      "execution_count": 18,
      "outputs": [
        {
          "output_type": "stream",
          "text": [
            "[2, 4]\n"
          ],
          "name": "stdout"
        }
      ]
    },
    {
      "cell_type": "markdown",
      "metadata": {
        "id": "8bz2YfTG16cp"
      },
      "source": [
        "**Example list comprehension with several for clauses**"
      ]
    },
    {
      "cell_type": "code",
      "metadata": {
        "id": "Q5nSLxWK16pX",
        "outputId": "24a67a86-ef2e-40fa-997c-499c5b472b21",
        "colab": {
          "base_uri": "https://localhost:8080/"
        }
      },
      "source": [
        "# Example\n",
        "\n",
        "l = [0, 1, 2, 3]\n",
        "m = ['a', 'b']\n",
        "n = [s * v for s in m\n",
        "          for v in l\n",
        "          if v > 0]\n",
        "print(n)"
      ],
      "execution_count": 20,
      "outputs": [
        {
          "output_type": "stream",
          "text": [
            "['a', 'aa', 'aaa', 'b', 'bb', 'bbb']\n"
          ],
          "name": "stdout"
        }
      ]
    },
    {
      "cell_type": "markdown",
      "metadata": {
        "id": "HGJl2wYv3bR7"
      },
      "source": [
        "This construction would be equivalent to a series of nested for-ins:"
      ]
    },
    {
      "cell_type": "code",
      "metadata": {
        "id": "ZjmMJVrP2olR",
        "outputId": "55f84a7f-5309-4aee-f7f0-b424524316b6",
        "colab": {
          "base_uri": "https://localhost:8080/"
        }
      },
      "source": [
        "# Example\n",
        "\n",
        "l = [0, 1, 2, 3]\n",
        "m = ['a', 'b']\n",
        "n = []\n",
        "for s in m:\n",
        "  for v in l:\n",
        "    if v > 0:\n",
        "      n.append(s* v)\n",
        "print(n)"
      ],
      "execution_count": 21,
      "outputs": [
        {
          "output_type": "stream",
          "text": [
            "['a', 'aa', 'aaa', 'b', 'bb', 'bbb']\n"
          ],
          "name": "stdout"
        }
      ]
    },
    {
      "cell_type": "markdown",
      "metadata": {
        "id": "kWTwAMi430ct"
      },
      "source": [
        "## Generators\n",
        "\n",
        "Generator expressions work in much the same way as list comprehension. In fact its syntax is exactly the same, except that parentheses are used instead of square brackets:"
      ]
    },
    {
      "cell_type": "code",
      "metadata": {
        "id": "fu9nxVIn4k5_",
        "outputId": "fdbd226a-75fd-487c-eaa4-135108a62a1f",
        "colab": {
          "base_uri": "https://localhost:8080/"
        }
      },
      "source": [
        "# Example\n",
        "\n",
        "list = [1, 2, 3, 4]\n",
        "l2 = (n ** 2 for n in list)\n",
        "print(l2)"
      ],
      "execution_count": 22,
      "outputs": [
        {
          "output_type": "stream",
          "text": [
            "<generator object <genexpr> at 0x7f5eae4d7b48>\n"
          ],
          "name": "stdout"
        }
      ]
    },
    {
      "cell_type": "markdown",
      "metadata": {
        "id": "u13NgxXR4zWd"
      },
      "source": [
        "However, generator expressions differ from list comprehension in that it does not return a list, but rather a generator.\n",
        "\n",
        "A generator is a special kind of function that generates values to iterate over. To return the next value to iterate over, use the **yield** keyword instead of return. Let's see for example a generator that returns numbers from **n** to **m** with a jump **s**."
      ]
    },
    {
      "cell_type": "code",
      "metadata": {
        "id": "rgveppox4zjf",
        "outputId": "264c2113-c582-40bb-8aa4-d72cac17248a",
        "colab": {
          "base_uri": "https://localhost:8080/"
        }
      },
      "source": [
        "# Example\n",
        "\n",
        "def my_generator(n, m, s):\n",
        "  while(n <= m):\n",
        "    yield n\n",
        "    n += s\n",
        "\n",
        "x = my_generator(0, 5, 1)\n",
        "x"
      ],
      "execution_count": 23,
      "outputs": [
        {
          "output_type": "execute_result",
          "data": {
            "text/plain": [
              "<generator object mi_generador at 0x7f5eae4d76d0>"
            ]
          },
          "metadata": {
            "tags": []
          },
          "execution_count": 23
        }
      ]
    },
    {
      "cell_type": "markdown",
      "metadata": {
        "id": "3l1fWaOm4zvr"
      },
      "source": [
        "As we are not creating a complete list in memory, but generating a single value each time it is needed, in situations where it is not necessary to have the complete list, the use of generators can make a big difference in memory.\n"
      ]
    },
    {
      "cell_type": "markdown",
      "metadata": {
        "id": "zB91X66S7Mpb"
      },
      "source": [
        "## Decorators\n",
        "\n",
        "A decorator is nothing more than a function that receives a function as a parameter and returns another function as a result. \n",
        "\n",
        "**Simple decorators**\n",
        "\n",
        "Let’s start with an example:"
      ]
    },
    {
      "cell_type": "code",
      "metadata": {
        "id": "AtoAWwtP4z8i",
        "outputId": "dbf757dd-c2e3-46c1-96f0-70bcfee99b79",
        "colab": {
          "base_uri": "https://localhost:8080/"
        }
      },
      "source": [
        "def my_decorator(func):\n",
        "    def wrapper():\n",
        "        print(\"Something is happening before the function is called.\")\n",
        "        func()\n",
        "        print(\"Something is happening after the function is called.\")\n",
        "    return wrapper\n",
        "\n",
        "def say_whee():\n",
        "    print(\"Whee!\")\n",
        "\n",
        "say_whee_result = my_decorator(say_whee)\n",
        "say_whee_result()"
      ],
      "execution_count": 25,
      "outputs": [
        {
          "output_type": "stream",
          "text": [
            "Something is happening before the function is called.\n",
            "Whee!\n",
            "Something is happening after the function is called.\n"
          ],
          "name": "stdout"
        }
      ]
    },
    {
      "cell_type": "markdown",
      "metadata": {
        "id": "Z33iG0Uv_Qge"
      },
      "source": [
        "**Syntactic Sugar!**\n",
        "\n",
        "The way you decorated say_whee() above is a little clunky. First of all, you end up typing the name say_whee three times. In addition, the decoration gets a bit hidden away below the definition of the function.\n",
        "\n",
        "Instead, Python allows you to use decorators in a simpler way with the @ symbol, sometimes called the “pie” syntax. The following example does the exact same thing as the first decorator example:"
      ]
    },
    {
      "cell_type": "code",
      "metadata": {
        "id": "duQ08mUt_QtY",
        "outputId": "6d0f0984-3bfe-4c6b-c48b-a6a34e5f1e5e",
        "colab": {
          "base_uri": "https://localhost:8080/"
        }
      },
      "source": [
        "# Example\n",
        "\n",
        "def my_decorator(func):\n",
        "    def wrapper():\n",
        "        print(\"Something is happening before the function is called.\")\n",
        "        func()\n",
        "        print(\"Something is happening after the function is called.\")\n",
        "    return wrapper\n",
        "\n",
        "@my_decorator\n",
        "def say_whee():\n",
        "    print(\"Whee!\")\n",
        "\n",
        "say_whee()"
      ],
      "execution_count": 27,
      "outputs": [
        {
          "output_type": "stream",
          "text": [
            "Something is happening before the function is called.\n",
            "Whee!\n",
            "Something is happening after the function is called.\n"
          ],
          "name": "stdout"
        }
      ]
    },
    {
      "cell_type": "markdown",
      "metadata": {
        "id": "v5Ryz0vl_Q5i"
      },
      "source": [
        "So, @my_decorator is just an easier way of saying say_whee = my_decorator(say_whee). It’s how you apply a decorator to a function."
      ]
    },
    {
      "cell_type": "markdown",
      "metadata": {
        "id": "8mGPek9DBoLZ"
      },
      "source": [
        "### Decorating Functions With Arguments\n",
        "\n"
      ]
    },
    {
      "cell_type": "code",
      "metadata": {
        "id": "9wQPs6Aw_RFo",
        "outputId": "11a5d8ea-c7f5-4824-b515-e23f074519c8",
        "colab": {
          "base_uri": "https://localhost:8080/"
        }
      },
      "source": [
        "# Example\n",
        "\n",
        "def do_twice(func):\n",
        "    def wrapper_do_twice(*args, **kwargs):\n",
        "        func(*args, **kwargs)\n",
        "        func(*args, **kwargs)\n",
        "    return wrapper_do_twice\n",
        "\n",
        "@do_twice\n",
        "def greet(name):\n",
        "    print(f\"Hello {name}\")\n",
        "\n",
        "@do_twice\n",
        "def say_whee():\n",
        "    print(\"Whee!\")\n",
        "\n",
        "say_whee()\n",
        "greet(\"World\")"
      ],
      "execution_count": 28,
      "outputs": [
        {
          "output_type": "stream",
          "text": [
            "Whee!\n",
            "Whee!\n",
            "Hello World\n",
            "Hello World\n"
          ],
          "name": "stdout"
        }
      ]
    },
    {
      "cell_type": "markdown",
      "metadata": {
        "id": "5JVm8crICI6j"
      },
      "source": [
        "### Returning Values From Decorated Functions\n",
        "\n",
        "What happens to the return value of decorated functions? Well, that’s up to the decorator to decide. Let’s say you decorate a simple function as follows:"
      ]
    },
    {
      "cell_type": "code",
      "metadata": {
        "id": "J3FN3G4OCKz2",
        "outputId": "7d9e5054-7e78-4fb3-d138-67b5d931a3ad",
        "colab": {
          "base_uri": "https://localhost:8080/",
          "height": 69
        }
      },
      "source": [
        "# Example\n",
        "\n",
        "def do_twice(func):\n",
        "    def wrapper_do_twice(*args, **kwargs):\n",
        "        func(*args, **kwargs)\n",
        "        return func(*args, **kwargs)\n",
        "    return wrapper_do_twice\n",
        "\n",
        "@do_twice\n",
        "def return_greeting(name):\n",
        "    print(\"Creating greeting\")\n",
        "    return f\"Hi {name}\"\n",
        "\n",
        "return_greeting(\"Adam\")"
      ],
      "execution_count": 29,
      "outputs": [
        {
          "output_type": "stream",
          "text": [
            "Creating greeting\n",
            "Creating greeting\n"
          ],
          "name": "stdout"
        },
        {
          "output_type": "execute_result",
          "data": {
            "application/vnd.google.colaboratory.intrinsic+json": {
              "type": "string"
            },
            "text/plain": [
              "'Hi Adam'"
            ]
          },
          "metadata": {
            "tags": []
          },
          "execution_count": 29
        }
      ]
    },
    {
      "cell_type": "markdown",
      "metadata": {
        "id": "X8-S4Oi8DKjt"
      },
      "source": [
        "\n",
        "\n",
        "If we wanted to apply more than one decorator, it would be enough to add a new line with the new decorator. \n",
        "```\n",
        "@ other_decorator \n",
        "@ my_decorator\n",
        "def imp(s):\n",
        "  print s\n",
        "```  \n",
        "It is important to note that the decorators will be executed from bottom to top. That is, in this example my_decorator would be executed first and then another_decorator."
      ]
    },
    {
      "cell_type": "markdown",
      "metadata": {
        "id": "qluD7j5h2iiu"
      },
      "source": [
        "## Resources\n",
        "\n",
        "https://www.utic.edu.py/citil/images/Manuales/Python_para_todos.pdf\n",
        "\n",
        "https://github.com/Asabeneh/30-Days-Of-Python/blob/master/14_Day_Higher_order_functions/14_higher_order_functions.md\n",
        "\n",
        "https://realpython.com/primer-on-python-decorators/\n"
      ]
    }
  ]
}