{
  "nbformat": 4,
  "nbformat_minor": 0,
  "metadata": {
    "colab": {
      "name": "IntroductionToPython.ipynb",
      "provenance": [],
      "collapsed_sections": [],
      "authorship_tag": "ABX9TyM8WfhLDusC35QsiofuqpbZ",
      "include_colab_link": true
    },
    "kernelspec": {
      "name": "python3",
      "display_name": "Python 3"
    }
  },
  "cells": [
    {
      "cell_type": "markdown",
      "metadata": {
        "id": "view-in-github",
        "colab_type": "text"
      },
      "source": [
        "<a href=\"https://colab.research.google.com/github/Lin777/PythonAndOtherTools/blob/master/IntroductionToPython.ipynb\" target=\"_parent\"><img src=\"https://colab.research.google.com/assets/colab-badge.svg\" alt=\"Open In Colab\"/></a>"
      ]
    },
    {
      "cell_type": "markdown",
      "metadata": {
        "id": "Z6m_jmC22UCB"
      },
      "source": [
        "# Introduction to Python\n",
        "\n"
      ]
    },
    {
      "cell_type": "markdown",
      "metadata": {
        "id": "PweCRPAzTyt_"
      },
      "source": [
        "## What is Python?\n",
        "\n",
        "Python is an interpreted, object-oriented, high-level programming language with dynamic semantics. Python's simple, easy to learn syntax emphasizes readability and therefore reduces the cost of program maintenance. It's portable and it's popular :D \n",
        "\n",
        "Like any other programming language, we need to have some understanding of the syntax of Python to be able to program in it. So let's look at some of the basic building blocks.\n",
        "\n"
      ]
    },
    {
      "cell_type": "markdown",
      "metadata": {
        "id": "ShtjGo_STzAp"
      },
      "source": [
        "## Variables\n",
        "\n",
        "Variables store data in a computer memory. A variable can have a short name (like x,y,z), but a more descriptive name (firstname, lastname, age, country) is highly recommended. \n",
        "\n",
        "Python Variable Name Rules\n",
        "\n",
        "- A variable name must start with a letter or the underscore character\n",
        "- A variable name cannot start with a number\n",
        "- A variable name can only contain alpha-numeric characters and underscores (A-z, 0-9, and _ )\n",
        "- Variable names are case-sensitive (firstname, Firstname, FirstName and FIRSTNAME are different variables)\n",
        "\n",
        "When we assign a certain data type to a variable, it is called variable declaration. For instance in the example below my first name is assigned to a variable first_name. The equal sign is an assignment operator. Assigning means storing data in the variable.\n",
        "\n",
        "Example:\n"
      ]
    },
    {
      "cell_type": "code",
      "metadata": {
        "id": "wqchV0Lj2gKI"
      },
      "source": [
        "# Variables in Python\n",
        "\n",
        "first_name = 'Evelyn'\n",
        "last_name = 'Cusi'\n",
        "country = 'Bolivia <3'\n",
        "city = 'Cochabamba'\n",
        "age = 25\n",
        "is_married = False # =D"
      ],
      "execution_count": null,
      "outputs": []
    },
    {
      "cell_type": "markdown",
      "metadata": {
        "id": "jWTEwow63QLQ"
      },
      "source": [
        "## Data Types\n",
        "\n",
        "There are several data types in python. To identify the data type we use the type builtin function. \n",
        "\n"
      ]
    },
    {
      "cell_type": "markdown",
      "metadata": {
        "id": "hlo-IeA4SujJ"
      },
      "source": [
        "### Numbers\n",
        "\n",
        "Number data types in python:\n",
        "\n",
        "1. Integers: Integer(negative, zero and positive) numbers Example: ... -3, -2, -1, 0, 1, 2, 3 ...\n",
        "2. Floating Point Numbers(Decimal numbers) Example: ... -3.5, -2.25, -1.0, 0.0, 1.1, 2.2, 3.5 ...\n",
        "3. Complex Numbers Example: 1 + j, 2 + 4j, 1 - 1j\n"
      ]
    },
    {
      "cell_type": "code",
      "metadata": {
        "id": "Ib7LZQhx2ncx"
      },
      "source": [
        "# Example\n",
        "\n",
        "integer_number = 3 # integer\n",
        "float_number = 3.5 # float\n",
        "complex_number = 1j #complex"
      ],
      "execution_count": null,
      "outputs": []
    },
    {
      "cell_type": "markdown",
      "metadata": {
        "id": "ZNhaFD3236Xx"
      },
      "source": [
        "#### Operators\n",
        "\n",
        "Python language supports several types of operators. In this section, we will focus on few of them."
      ]
    },
    {
      "cell_type": "code",
      "metadata": {
        "id": "YFcWzVO134QW",
        "outputId": "35fd9ce9-5c27-4b3b-a754-aef0d00fefb6",
        "colab": {
          "base_uri": "https://localhost:8080/"
        }
      },
      "source": [
        "# Example\n",
        "\n",
        "2 + 4 - 1         # Addtion and substraction"
      ],
      "execution_count": null,
      "outputs": [
        {
          "output_type": "execute_result",
          "data": {
            "text/plain": [
              "5"
            ]
          },
          "metadata": {
            "tags": []
          },
          "execution_count": 3
        }
      ]
    },
    {
      "cell_type": "code",
      "metadata": {
        "id": "a1LdzwgN6lD4",
        "outputId": "d3578d1f-6714-4adc-d4e5-ee919bce6cd6",
        "colab": {
          "base_uri": "https://localhost:8080/"
        }
      },
      "source": [
        "4 * 3 / 2.0       # Multiplication and division"
      ],
      "execution_count": null,
      "outputs": [
        {
          "output_type": "execute_result",
          "data": {
            "text/plain": [
              "6.0"
            ]
          },
          "metadata": {
            "tags": []
          },
          "execution_count": 5
        }
      ]
    },
    {
      "cell_type": "code",
      "metadata": {
        "id": "jhL61J626mEH",
        "outputId": "3d02bb2e-d29a-4cff-e6ed-86bf28633224",
        "colab": {
          "base_uri": "https://localhost:8080/"
        }
      },
      "source": [
        "5 / 2             # Note that integer division returns float"
      ],
      "execution_count": null,
      "outputs": [
        {
          "output_type": "execute_result",
          "data": {
            "text/plain": [
              "2.5"
            ]
          },
          "metadata": {
            "tags": []
          },
          "execution_count": 6
        }
      ]
    },
    {
      "cell_type": "code",
      "metadata": {
        "id": "2mt7SlIP64__",
        "outputId": "54d0cd2d-3c70-4740-c626-bc7d7a071a59",
        "colab": {
          "base_uri": "https://localhost:8080/"
        }
      },
      "source": [
        "5 // 2            # But the operator // does an integer divide"
      ],
      "execution_count": null,
      "outputs": [
        {
          "output_type": "execute_result",
          "data": {
            "text/plain": [
              "2"
            ]
          },
          "metadata": {
            "tags": []
          },
          "execution_count": 7
        }
      ]
    },
    {
      "cell_type": "code",
      "metadata": {
        "id": "nMgrfxCP7BUe",
        "outputId": "24cdebf4-37bb-4007-8976-e45d9246a70c",
        "colab": {
          "base_uri": "https://localhost:8080/"
        }
      },
      "source": [
        "5 % 2             # Remainder for integer division"
      ],
      "execution_count": null,
      "outputs": [
        {
          "output_type": "execute_result",
          "data": {
            "text/plain": [
              "1"
            ]
          },
          "metadata": {
            "tags": []
          },
          "execution_count": 8
        }
      ]
    },
    {
      "cell_type": "code",
      "metadata": {
        "id": "ZOJcv8eB7H_n",
        "outputId": "6ed303fb-b594-418c-b464-e97ed65f632c",
        "colab": {
          "base_uri": "https://localhost:8080/"
        }
      },
      "source": [
        "2 ** 3            # Power operator (also pow(2, 3) works)"
      ],
      "execution_count": null,
      "outputs": [
        {
          "output_type": "execute_result",
          "data": {
            "text/plain": [
              "8"
            ]
          },
          "metadata": {
            "tags": []
          },
          "execution_count": 9
        }
      ]
    },
    {
      "cell_type": "markdown",
      "metadata": {
        "id": "lNDMHyVe7UJ-"
      },
      "source": [
        "#### Conversions and casts\n",
        "\n",
        "Casting: Converting one data type to another data type. We use int(), float(), str().\n",
        "\n",
        "Example"
      ]
    },
    {
      "cell_type": "code",
      "metadata": {
        "id": "xNzd7rdF7QF0",
        "outputId": "d5cfef69-af43-45c6-81b5-bd161ff61fa9",
        "colab": {
          "base_uri": "https://localhost:8080/"
        }
      },
      "source": [
        "float_number = 3.5\n",
        "int(float_number)        # Cast the float result into an integer"
      ],
      "execution_count": null,
      "outputs": [
        {
          "output_type": "execute_result",
          "data": {
            "text/plain": [
              "3"
            ]
          },
          "metadata": {
            "tags": []
          },
          "execution_count": 10
        }
      ]
    },
    {
      "cell_type": "code",
      "metadata": {
        "id": "vw2xT45XAh0G",
        "outputId": "c3b7b9e5-16ce-412d-bb52-fa5c064509ec",
        "colab": {
          "base_uri": "https://localhost:8080/"
        }
      },
      "source": [
        "integer_number = 8\n",
        "float(integer_number)    # Cast an int into a float"
      ],
      "execution_count": null,
      "outputs": [
        {
          "output_type": "execute_result",
          "data": {
            "text/plain": [
              "8.0"
            ]
          },
          "metadata": {
            "tags": []
          },
          "execution_count": 11
        }
      ]
    },
    {
      "cell_type": "markdown",
      "metadata": {
        "id": "Yj2ueBUEBBaW"
      },
      "source": [
        "### Strings\n",
        "\n",
        "Text is a string data type. Any data type written as text is a string. Any data under single or double quote are strings. \n"
      ]
    },
    {
      "cell_type": "code",
      "metadata": {
        "id": "QTMNvr8fAxr6",
        "outputId": "94f25edd-07be-4f6d-af34-ca7aca663441",
        "colab": {
          "base_uri": "https://localhost:8080/"
        }
      },
      "source": [
        "# Example\n",
        "\n",
        "text = \"Hi, I hope you are enjoying this summary of Python\" # We also can use simple quote\n",
        "print(text)     # With this function we print all text"
      ],
      "execution_count": null,
      "outputs": [
        {
          "output_type": "stream",
          "text": [
            "Hi, I hope you are enjoying this summary of Python\n"
          ],
          "name": "stdout"
        }
      ]
    },
    {
      "cell_type": "code",
      "metadata": {
        "id": "dHwlJFrOCLgr",
        "outputId": "850713e9-f48a-433a-f70d-5e77b14a2fa9",
        "colab": {
          "base_uri": "https://localhost:8080/"
        }
      },
      "source": [
        "len(text)       # len() function let us know the length of a string, in this case of TEXT"
      ],
      "execution_count": null,
      "outputs": [
        {
          "output_type": "execute_result",
          "data": {
            "text/plain": [
              "50"
            ]
          },
          "metadata": {
            "tags": []
          },
          "execution_count": 14
        }
      ]
    },
    {
      "cell_type": "markdown",
      "metadata": {
        "id": "zoKn-_72FUap"
      },
      "source": [
        "Multiline string is created by using triple single (''') or double quotes (\"\"\"). See the example below."
      ]
    },
    {
      "cell_type": "code",
      "metadata": {
        "id": "EzFWIx18Dnuu",
        "outputId": "3baf2234-677c-4eb7-e3ad-6d2a6ae073ee",
        "colab": {
          "base_uri": "https://localhost:8080/"
        }
      },
      "source": [
        "multiline_string = '''I am a teacher and enjoy teaching.\n",
        "I didn't find anything as rewarding as empowering people.\n",
        "That is why I created 30 days of python.'''\n",
        "print(multiline_string)"
      ],
      "execution_count": null,
      "outputs": [
        {
          "output_type": "stream",
          "text": [
            "I am a teacher and enjoy teaching.\n",
            "I didn't find anything as rewarding as empowering people.\n",
            "That is why I created 30 days of python.\n"
          ],
          "name": "stdout"
        }
      ]
    },
    {
      "cell_type": "markdown",
      "metadata": {
        "id": "q0vAU3ZWHzM3"
      },
      "source": [
        "**String concatenation**: We can connect strings together. Merging or connecting strings is called concatenation. See the example below:"
      ]
    },
    {
      "cell_type": "code",
      "metadata": {
        "id": "w1MnC30uFSV7",
        "outputId": "54be3e59-c826-456a-9452-727e8167dfb7",
        "colab": {
          "base_uri": "https://localhost:8080/"
        }
      },
      "source": [
        "first_name = 'Evelyn'\n",
        "last_name = 'Cusi'\n",
        "space = ' '\n",
        "full_name = first_name  +  space + last_name\n",
        "print(full_name)"
      ],
      "execution_count": 1,
      "outputs": [
        {
          "output_type": "stream",
          "text": [
            "Evelyn Cusi\n"
          ],
          "name": "stdout"
        }
      ]
    },
    {
      "cell_type": "markdown",
      "metadata": {
        "id": "i4cNB3-BI4Of"
      },
      "source": [
        "**String Formating** (str.format)"
      ]
    },
    {
      "cell_type": "code",
      "metadata": {
        "id": "6psmP8VoI5Tb",
        "outputId": "31c95039-8da7-48ae-c69a-65c2747ca25e",
        "colab": {
          "base_uri": "https://localhost:8080/"
        }
      },
      "source": [
        "first_name = 'Evelyn'\n",
        "last_name = 'Cusi'\n",
        "language = 'Python'\n",
        "formated_string = 'I am {} {}. I am learning {}'.format(first_name, last_name, language)\n",
        "print(formated_string)\n",
        "a = 4\n",
        "b = 3\n",
        "\n",
        "print('{} + {} = {}'.format(a, b, a + b))\n",
        "print('{} - {} = {}'.format(a, b, a - b))\n",
        "print('{} * {} = {}'.format(a, b, a * b))\n",
        "print('{} / {} = {:.2f}'.format(a, b, a / b)) # limits it to two digits after decimal\n",
        "print('{} % {} = {}'.format(a, b, a % b))\n",
        "print('{} // {} = {}'.format(a, b, a // b))\n",
        "print('{} ** {} = {}'.format(a, b, a ** b))"
      ],
      "execution_count": 6,
      "outputs": [
        {
          "output_type": "stream",
          "text": [
            "I am Evelyn Cusi. I am learning Python\n",
            "4 + 3 = 7\n",
            "4 - 3 = 1\n",
            "4 * 3 = 12\n",
            "4 / 3 = 1.33\n",
            "4 % 3 = 1\n",
            "4 // 3 = 1\n",
            "4 ** 3 = 64\n"
          ],
          "name": "stdout"
        }
      ]
    },
    {
      "cell_type": "markdown",
      "metadata": {
        "id": "SgXeycobJr_9"
      },
      "source": [
        "**String as Sequences of Characters**: Python strings are sequences of characters, and share their basic methods of access with other Python ordered sequences of objects.\n",
        "\n",
        "- *Unpacking Characters*"
      ]
    },
    {
      "cell_type": "code",
      "metadata": {
        "id": "eSqgPWK_JsZ-",
        "outputId": "af6271e4-5648-485e-be05-b0b31c5256d7",
        "colab": {
          "base_uri": "https://localhost:8080/"
        }
      },
      "source": [
        "language = 'Python'\n",
        "a,b,c,d,e,f = language # unpacking sequence characters into variables\n",
        "print(a) # P\n",
        "print(b) # y\n",
        "print(c) # t\n",
        "print(d) # h\n",
        "print(e) # o\n",
        "print(f) # n"
      ],
      "execution_count": 7,
      "outputs": [
        {
          "output_type": "stream",
          "text": [
            "P\n",
            "y\n",
            "t\n",
            "h\n",
            "o\n",
            "n\n"
          ],
          "name": "stdout"
        }
      ]
    },
    {
      "cell_type": "markdown",
      "metadata": {
        "id": "BvbZ16aHJ9uo"
      },
      "source": [
        "- *Accesing Characters in Strings by Index*: In programming counting starts from zero. Therefore the first letter of a string is at zero index and the last letter of a string is the length of a string minus one."
      ]
    },
    {
      "cell_type": "code",
      "metadata": {
        "id": "HHXkvAu6J9-j",
        "outputId": "63f07eee-1dc1-4b86-ff62-d26adfc03b97",
        "colab": {
          "base_uri": "https://localhost:8080/"
        }
      },
      "source": [
        "language = 'Python'\n",
        "first_letter = language[0]\n",
        "print(first_letter) # P\n",
        "second_letter = language[1]\n",
        "print(second_letter) # y\n",
        "last_index = len(language) - 1\n",
        "last_letter = language[last_index]\n",
        "print(last_letter) # n"
      ],
      "execution_count": 8,
      "outputs": [
        {
          "output_type": "stream",
          "text": [
            "P\n",
            "y\n",
            "n\n"
          ],
          "name": "stdout"
        }
      ]
    },
    {
      "cell_type": "markdown",
      "metadata": {
        "id": "Hnc5dPx0KaMI"
      },
      "source": [
        "- *Slicing Python Strings*: In python we can slice strings into substrings.\n",
        "\n"
      ]
    },
    {
      "cell_type": "code",
      "metadata": {
        "id": "LcZnVDfZKYbc",
        "outputId": "f3080c29-7996-4d7e-814a-2254e7a83861",
        "colab": {
          "base_uri": "https://localhost:8080/"
        }
      },
      "source": [
        "language = 'Python'\n",
        "first_three = language[0:3] # starts at zero index and up to 3 but not include 3\n",
        "last_three = language[3:6]\n",
        "print(last_three) # hon\n",
        "# Another way\n",
        "last_three = language[-3:]\n",
        "print(last_three)   # hon\n",
        "last_three = language[3:]\n",
        "print(last_three)   # hon"
      ],
      "execution_count": 9,
      "outputs": [
        {
          "output_type": "stream",
          "text": [
            "hon\n",
            "hon\n",
            "hon\n"
          ],
          "name": "stdout"
        }
      ]
    },
    {
      "cell_type": "markdown",
      "metadata": {
        "id": "8BD-AYMBKYGx"
      },
      "source": [
        "- *Reversing a String*"
      ]
    },
    {
      "cell_type": "code",
      "metadata": {
        "id": "t_o8Acp4Kt5B",
        "outputId": "7e70c054-d498-4473-c0b6-fcd545f81397",
        "colab": {
          "base_uri": "https://localhost:8080/"
        }
      },
      "source": [
        "greeting = 'Hello, World!'\n",
        "print(greeting[::-1]) # !dlroW ,olleH"
      ],
      "execution_count": 10,
      "outputs": [
        {
          "output_type": "stream",
          "text": [
            "!dlroW ,olleH\n"
          ],
          "name": "stdout"
        }
      ]
    },
    {
      "cell_type": "markdown",
      "metadata": {
        "id": "kX247UHPE8kk"
      },
      "source": [
        "#### String Methods\n",
        "There are many string methods which allow us to format strings. See some of the string methods in the following example:\n",
        "\n",
        "- **capitalize()**: Converts the first character to capital letter"
      ]
    },
    {
      "cell_type": "code",
      "metadata": {
        "id": "zxxOgOzwLkl_",
        "outputId": "c19c7d76-9689-429c-db1e-e08d106665e0",
        "colab": {
          "base_uri": "https://localhost:8080/",
          "height": 35
        }
      },
      "source": [
        "text = 'python is cool'\n",
        "text.capitalize()"
      ],
      "execution_count": 13,
      "outputs": [
        {
          "output_type": "execute_result",
          "data": {
            "application/vnd.google.colaboratory.intrinsic+json": {
              "type": "string"
            },
            "text/plain": [
              "'Python is cool'"
            ]
          },
          "metadata": {
            "tags": []
          },
          "execution_count": 13
        }
      ]
    },
    {
      "cell_type": "markdown",
      "metadata": {
        "id": "RsQsP5pVLrzk"
      },
      "source": [
        "- **upper()**: Converts all characters to uppercase"
      ]
    },
    {
      "cell_type": "code",
      "metadata": {
        "id": "XPp1uBnoH6O3",
        "outputId": "4656e30f-5f63-457e-a0e6-c225771df14d",
        "colab": {
          "base_uri": "https://localhost:8080/",
          "height": 35
        }
      },
      "source": [
        "text.upper()"
      ],
      "execution_count": 14,
      "outputs": [
        {
          "output_type": "execute_result",
          "data": {
            "application/vnd.google.colaboratory.intrinsic+json": {
              "type": "string"
            },
            "text/plain": [
              "'PYTHON IS COOL'"
            ]
          },
          "metadata": {
            "tags": []
          },
          "execution_count": 14
        }
      ]
    },
    {
      "cell_type": "markdown",
      "metadata": {
        "id": "WTdgFtLFMERc"
      },
      "source": [
        "- **title()**: Converts all first character of words to Uppercase"
      ]
    },
    {
      "cell_type": "code",
      "metadata": {
        "id": "6u1CqlT0H6WP",
        "outputId": "45f41f2e-57da-466b-ef18-dd5e3b5ab876",
        "colab": {
          "base_uri": "https://localhost:8080/",
          "height": 35
        }
      },
      "source": [
        "text.title()"
      ],
      "execution_count": 4,
      "outputs": [
        {
          "output_type": "execute_result",
          "data": {
            "application/vnd.google.colaboratory.intrinsic+json": {
              "type": "string"
            },
            "text/plain": [
              "'Python Is Cool'"
            ]
          },
          "metadata": {
            "tags": []
          },
          "execution_count": 4
        }
      ]
    },
    {
      "cell_type": "markdown",
      "metadata": {
        "id": "J9M3of7xM7Nu"
      },
      "source": [
        "- **find()**: Returns the character index where the substring starts"
      ]
    },
    {
      "cell_type": "code",
      "metadata": {
        "id": "De0J8lkhH6e5",
        "outputId": "f1632056-1d13-41f3-d090-770c5b8b27a6",
        "colab": {
          "base_uri": "https://localhost:8080/"
        }
      },
      "source": [
        "text.find('python')"
      ],
      "execution_count": 20,
      "outputs": [
        {
          "output_type": "execute_result",
          "data": {
            "text/plain": [
              "0"
            ]
          },
          "metadata": {
            "tags": []
          },
          "execution_count": 20
        }
      ]
    },
    {
      "cell_type": "markdown",
      "metadata": {
        "id": "auaWktyCNImB"
      },
      "source": [
        "- **endswith()**: Chacks if a string ends with a specified ending"
      ]
    },
    {
      "cell_type": "code",
      "metadata": {
        "id": "OcYlvQxeH6hx",
        "outputId": "1492acd7-cdd9-4bd3-bd5a-a7297c29fa4f",
        "colab": {
          "base_uri": "https://localhost:8080/"
        }
      },
      "source": [
        "print(text.endswith('ool'))   # True\n",
        "print(text.endswith('tion')) # False"
      ],
      "execution_count": 21,
      "outputs": [
        {
          "output_type": "stream",
          "text": [
            "True\n",
            "False\n"
          ],
          "name": "stdout"
        }
      ]
    },
    {
      "cell_type": "markdown",
      "metadata": {
        "id": "bXGolm6qNj3B"
      },
      "source": [
        "- **isalnum()**: Checks alphanumeric character"
      ]
    },
    {
      "cell_type": "code",
      "metadata": {
        "id": "I4nQoQq8H6kE",
        "outputId": "1ce3ea96-152a-4356-94e4-92439da77902",
        "colab": {
          "base_uri": "https://localhost:8080/"
        }
      },
      "source": [
        "text = 'PythonIsCool'\n",
        "print(text.isalnum()) # True\n",
        "\n",
        "text = 'python is cool'\n",
        "print(text.isalnum()) # False, space is not an alphanumeric character"
      ],
      "execution_count": 23,
      "outputs": [
        {
          "output_type": "stream",
          "text": [
            "True\n",
            "False\n"
          ],
          "name": "stdout"
        }
      ]
    },
    {
      "cell_type": "markdown",
      "metadata": {
        "id": "bJ81f9riNkoF"
      },
      "source": [
        "- **isalpha()**: Checks if all string elements are alphabet characters (a-z and A-Z)\n",
        "\n"
      ]
    },
    {
      "cell_type": "code",
      "metadata": {
        "id": "pd_3Sw11H6mS",
        "outputId": "1ec79b65-5d30-45e7-e1ba-dc2b1776ed55",
        "colab": {
          "base_uri": "https://localhost:8080/"
        }
      },
      "source": [
        "text = 'python is cool'\n",
        "print(text.isalpha()) # False, space is once again excluded\n",
        "text = 'PythonIsCool'\n",
        "print(text.isalpha()) # True\n",
        "num = '123'\n",
        "print(num.isalpha())      # False"
      ],
      "execution_count": 24,
      "outputs": [
        {
          "output_type": "stream",
          "text": [
            "False\n",
            "True\n",
            "False\n"
          ],
          "name": "stdout"
        }
      ]
    },
    {
      "cell_type": "markdown",
      "metadata": {
        "id": "ZNSzj2ZcOjxk"
      },
      "source": [
        "- **isdecimal()**: Checks if all characters in a string are decimal (0-9)"
      ]
    },
    {
      "cell_type": "code",
      "metadata": {
        "id": "lMvmaw6XOoM6",
        "outputId": "6abd8a67-ab3e-40bb-f7c5-63060d0ed225",
        "colab": {
          "base_uri": "https://localhost:8080/"
        }
      },
      "source": [
        "text = 'python is cool'\n",
        "print(text.isdecimal())  # False\n",
        "text = '123'\n",
        "print(text.isdecimal())  # True\n",
        "text = '12 3'\n",
        "print(text.isdecimal())  # False, no space allowed"
      ],
      "execution_count": 26,
      "outputs": [
        {
          "output_type": "stream",
          "text": [
            "False\n",
            "True\n",
            "False\n"
          ],
          "name": "stdout"
        }
      ]
    },
    {
      "cell_type": "markdown",
      "metadata": {
        "id": "vwPyiNiLOton"
      },
      "source": [
        "- **isdigit()**: Checks if all characters in a string are numbers (0-9 and some other unicode characters for numbers)\n"
      ]
    },
    {
      "cell_type": "code",
      "metadata": {
        "id": "60KzzKoOOt99",
        "outputId": "ecef220d-eeda-4a0d-9b01-55b05c449881",
        "colab": {
          "base_uri": "https://localhost:8080/"
        }
      },
      "source": [
        "text = 'Thirty'\n",
        "print(text.isdigit()) # False\n",
        "text = '30'\n",
        "print(text.isdigit())   # True"
      ],
      "execution_count": 27,
      "outputs": [
        {
          "output_type": "stream",
          "text": [
            "False\n",
            "True\n"
          ],
          "name": "stdout"
        }
      ]
    },
    {
      "cell_type": "markdown",
      "metadata": {
        "id": "E0vr_iWqPe4N"
      },
      "source": [
        "- **isnumeric()**: Checks if all characters in a string are numbers or number related (just like isdigit(), just accepts more symbols, like ½)"
      ]
    },
    {
      "cell_type": "code",
      "metadata": {
        "id": "tUsnFSrcPfH_",
        "outputId": "15020dab-65f4-4f31-872b-82444ac3e58e",
        "colab": {
          "base_uri": "https://localhost:8080/"
        }
      },
      "source": [
        "num = '10'\n",
        "print(num.isnumeric()) # True\n",
        "num = '\\u00BD' # ½\n",
        "print(num.isnumeric()) # True\n",
        "num = '10.5'\n",
        "print(num.isnumeric()) # False"
      ],
      "execution_count": 28,
      "outputs": [
        {
          "output_type": "stream",
          "text": [
            "True\n",
            "True\n",
            "False\n"
          ],
          "name": "stdout"
        }
      ]
    },
    {
      "cell_type": "markdown",
      "metadata": {
        "id": "VCyhvzRrPfuz"
      },
      "source": [
        "- **join()**: Returns a concatenated string"
      ]
    },
    {
      "cell_type": "code",
      "metadata": {
        "id": "UxzoibWvPf94",
        "outputId": "9621f553-2264-4ab8-bf7e-d5a21d725ed4",
        "colab": {
          "base_uri": "https://localhost:8080/"
        }
      },
      "source": [
        "web_tech = ['HTML', 'CSS', 'JavaScript', 'React']\n",
        "result = '# '.join(web_tech)\n",
        "print(result) # 'HTML# CSS# JavaScript# React'"
      ],
      "execution_count": 29,
      "outputs": [
        {
          "output_type": "stream",
          "text": [
            "HTML# CSS# JavaScript# React\n"
          ],
          "name": "stdout"
        }
      ]
    },
    {
      "cell_type": "markdown",
      "metadata": {
        "id": "atjzPuEiPgPG"
      },
      "source": [
        "- **strip()**: Removes all given characters starting from the beggining and end of the string"
      ]
    },
    {
      "cell_type": "code",
      "metadata": {
        "id": "QjzOUU8WPgi3",
        "outputId": "f3ad3357-dee8-4c2d-8a21-34d6481c8691",
        "colab": {
          "base_uri": "https://localhost:8080/"
        }
      },
      "source": [
        "text = 'python is cool'\n",
        "print(text.strip('py')) # 'thon is cool'"
      ],
      "execution_count": 33,
      "outputs": [
        {
          "output_type": "stream",
          "text": [
            "thon is cool\n"
          ],
          "name": "stdout"
        }
      ]
    },
    {
      "cell_type": "markdown",
      "metadata": {
        "id": "G8ApkqedRFEW"
      },
      "source": [
        "- **replace()**: Replaces substring with a given string"
      ]
    },
    {
      "cell_type": "code",
      "metadata": {
        "id": "s6fpavuvRFUN",
        "outputId": "8418cf9b-6d61-498f-e61a-66fee2817cc8",
        "colab": {
          "base_uri": "https://localhost:8080/"
        }
      },
      "source": [
        "text = 'python is cool'\n",
        "print(text.replace('cool', 'easy')) # 'python is easy'"
      ],
      "execution_count": 34,
      "outputs": [
        {
          "output_type": "stream",
          "text": [
            "python is easy\n"
          ],
          "name": "stdout"
        }
      ]
    },
    {
      "cell_type": "markdown",
      "metadata": {
        "id": "6qc-4PL6RF6x"
      },
      "source": [
        "- **split()**: Splits the string, using given string as a separator"
      ]
    },
    {
      "cell_type": "code",
      "metadata": {
        "id": "sZaJ2AXTRGJo",
        "outputId": "3ce7af79-e196-4adb-d0c3-0b10ff936c51",
        "colab": {
          "base_uri": "https://localhost:8080/"
        }
      },
      "source": [
        "text = 'python is cool'\n",
        "print(text.split()) # ['python', 'is', 'cool']\n",
        "text = 'python, is, cool'\n",
        "print(text.split(', ')) # ['python', 'is', 'cool']"
      ],
      "execution_count": 35,
      "outputs": [
        {
          "output_type": "stream",
          "text": [
            "['python', 'is', 'cool']\n",
            "['python', 'is', 'cool']\n"
          ],
          "name": "stdout"
        }
      ]
    },
    {
      "cell_type": "markdown",
      "metadata": {
        "id": "quID-8dTR6vY"
      },
      "source": [
        "- **startswith()**: Checks if String Starts with the Specified String"
      ]
    },
    {
      "cell_type": "code",
      "metadata": {
        "id": "f-351S8TR69v",
        "outputId": "c25a035a-980a-48be-c624-aaf28b985863",
        "colab": {
          "base_uri": "https://localhost:8080/"
        }
      },
      "source": [
        "text = 'python is cool'\n",
        "print(text.startswith('python')) # True\n",
        "\n",
        "print(text.startswith('cool')) # False"
      ],
      "execution_count": 36,
      "outputs": [
        {
          "output_type": "stream",
          "text": [
            "True\n",
            "False\n"
          ],
          "name": "stdout"
        }
      ]
    },
    {
      "cell_type": "markdown",
      "metadata": {
        "id": "gd9bV1QESXc4"
      },
      "source": [
        "### Lists\n",
        "\n",
        "There are four collection data types in python:\n",
        "\n",
        "- **List**: is a collection which is ordered and changeable(modifiable). Allows duplicate members.\n",
        "- **Tuple**: is a collection which is ordered and unchangeable or unmodifiable(immutable). Allows duplicate members.\n",
        "- **Set**: is a collection which is unordered, unindexed and unmodifiable, but you can add new items. No duplicate members.\n",
        "- **Dictionary**: is a collection which is unordered, changeable(modifiable) and indexed. No duplicate members.\n",
        "\n",
        "A list is collection of different data types which is ordered and modifiable(mutable). A list can be empty or it may have different data type items or items."
      ]
    },
    {
      "cell_type": "markdown",
      "metadata": {
        "id": "Z7Ge-0iESqxo"
      },
      "source": [
        "#### List\n",
        "\n",
        "In python we can create lists in two ways:\n",
        "\n",
        "- Using list built-in function"
      ]
    },
    {
      "cell_type": "code",
      "metadata": {
        "id": "PXeHaj_zUzvV"
      },
      "source": [
        "lst = list()"
      ],
      "execution_count": 37,
      "outputs": []
    },
    {
      "cell_type": "markdown",
      "metadata": {
        "id": "CM5IAc_tU0NN"
      },
      "source": [
        "- Using square brackets, []\n",
        " "
      ]
    },
    {
      "cell_type": "code",
      "metadata": {
        "id": "37o-gM0yU-2Z"
      },
      "source": [
        "lst = []"
      ],
      "execution_count": 38,
      "outputs": []
    },
    {
      "cell_type": "markdown",
      "metadata": {
        "id": "AwCA7TGbVGzW"
      },
      "source": [
        "Lists with initial values. We use len() to find the length of a list."
      ]
    },
    {
      "cell_type": "code",
      "metadata": {
        "id": "E8V9oBHFVHBI",
        "outputId": "e1723496-d035-4b8d-cfe5-d914601a5b72",
        "colab": {
          "base_uri": "https://localhost:8080/"
        }
      },
      "source": [
        "fruits = ['banana', 'orange', 'mango', 'lemon']                     # list of fruits\n",
        "\n",
        "# Print the lists and its length\n",
        "print('Fruits:', fruits)\n",
        "print('Number of fruits:', len(fruits))"
      ],
      "execution_count": 39,
      "outputs": [
        {
          "output_type": "stream",
          "text": [
            "Fruits: ['banana', 'orange', 'mango', 'lemon']\n",
            "Number of fruits: 4\n"
          ],
          "name": "stdout"
        }
      ]
    },
    {
      "cell_type": "markdown",
      "metadata": {
        "id": "S7tt_svpVZok"
      },
      "source": [
        "Lists can have items of different data types\n"
      ]
    },
    {
      "cell_type": "code",
      "metadata": {
        "id": "I8tOqiGSVZ24"
      },
      "source": [
        " lst = ['Asabeneh', 250, True, {'country':'Finland', 'city':'Helsinki'}] # list containing different data types"
      ],
      "execution_count": 40,
      "outputs": []
    },
    {
      "cell_type": "markdown",
      "metadata": {
        "id": "IctxdOgzVjfW"
      },
      "source": [
        "**Accesing List Items**\n",
        "\n",
        "- USING POSITIVE INDEXING\n",
        "\n",
        "We access each item in a list using their index. A list index starts from 0. (See Figure 1)\n",
        "\n",
        "![](https://drive.google.com/uc?export=view&id=1WQbT0HN7a0MT2MSckvA0cLH3C2wGUAl6)\n"
      ]
    },
    {
      "cell_type": "code",
      "metadata": {
        "id": "ADbE43QaVj5t",
        "outputId": "d0a2e242-d982-40ab-f09f-bd7767bc9ef7",
        "colab": {
          "base_uri": "https://localhost:8080/"
        }
      },
      "source": [
        "fruits = ['banana', 'orange', 'mango', 'lemon']\n",
        "first_fruit = fruits[0] # we are accessing the first item using its index\n",
        "print(first_fruit)      # banana\n",
        "second_fruit = fruits[1]\n",
        "print(second_fruit)     # orange"
      ],
      "execution_count": 41,
      "outputs": [
        {
          "output_type": "stream",
          "text": [
            "banana\n",
            "orange\n"
          ],
          "name": "stdout"
        }
      ]
    },
    {
      "cell_type": "markdown",
      "metadata": {
        "id": "J4K8klczXqfV"
      },
      "source": [
        "- USING NEGATIVE INDEXING\n",
        "\n",
        "Negative indexing means beginning from the end, -1 refers to the last item, -2 refers to the second last item.\n",
        "\n",
        "![](https://drive.google.com/uc?export=view&id=1ncgzk0Y6fTv90lZcZAFj2oCNUMgIAoIL)"
      ]
    },
    {
      "cell_type": "code",
      "metadata": {
        "id": "T7d7dlZMXqvy",
        "outputId": "3c2e0c50-a6e8-4938-e09e-9038010aadb2",
        "colab": {
          "base_uri": "https://localhost:8080/"
        }
      },
      "source": [
        "fruits = ['banana', 'orange', 'mango', 'lemon']\n",
        "first_fruit = fruits[-4]\n",
        "last_fruit = fruits[-1]\n",
        "print(first_fruit)      # banana\n",
        "print(last_fruit)       # lemon"
      ],
      "execution_count": 42,
      "outputs": [
        {
          "output_type": "stream",
          "text": [
            "banana\n",
            "lemon\n"
          ],
          "name": "stdout"
        }
      ]
    },
    {
      "cell_type": "markdown",
      "metadata": {
        "id": "tx2MvMhoYba_"
      },
      "source": [
        "**Unpacking List Items**"
      ]
    },
    {
      "cell_type": "code",
      "metadata": {
        "id": "6bnywXk5Ybs7",
        "outputId": "79f241fb-ea09-4912-ac3a-e5c308f60621",
        "colab": {
          "base_uri": "https://localhost:8080/"
        }
      },
      "source": [
        "fruits = ['banana', 'orange', 'mango', 'lemon']\n",
        "first_fruit, second_fruit, *rest_fruits = fruits\n",
        "print(first_fruit)  # banana\n",
        "print(second_fruit) # orange\n",
        "print(rest_fruits)  # ['mango' 'lemon']"
      ],
      "execution_count": 44,
      "outputs": [
        {
          "output_type": "stream",
          "text": [
            "banana\n",
            "orange\n",
            "['mango', 'lemon']\n"
          ],
          "name": "stdout"
        }
      ]
    },
    {
      "cell_type": "code",
      "metadata": {
        "id": "kqvrLuWJZFwq",
        "outputId": "d9165eb5-ad61-454f-8923-8c8543a17faf",
        "colab": {
          "base_uri": "https://localhost:8080/"
        }
      },
      "source": [
        "fruits = ['banana', 'orange', 'mango', 'lemon']\n",
        "first_fruit, *middle_fruits, last_fruit = fruits\n",
        "print(first_fruit)  # banana\n",
        "print(middle_fruits) # ['orange' 'mango']\n",
        "print(last_fruit)  # lemon"
      ],
      "execution_count": 45,
      "outputs": [
        {
          "output_type": "stream",
          "text": [
            "banana\n",
            "['orange', 'mango']\n",
            "lemon\n"
          ],
          "name": "stdout"
        }
      ]
    },
    {
      "cell_type": "markdown",
      "metadata": {
        "id": "IgDjXrq8Yb9H"
      },
      "source": [
        "**Slicing items from a list**\n",
        "\n",
        "- POSITIVE INDEXING: We can specify a range of positive indexes by specifying the start, end and step, the return value will be a new list. (default values for start = 0, end = len(lst) - 1 (last item), step = 1)"
      ]
    },
    {
      "cell_type": "code",
      "metadata": {
        "id": "ZtrfvF9FYcOR"
      },
      "source": [
        "fruits = ['banana', 'orange', 'mango', 'lemon']\n",
        "all_fruits = fruits[0:4] # it returns all the fruits\n",
        "# this will also give the same result as the one above\n",
        "all_fruits = fruits[0:] # if we don't set where to stop it takes all the rest\n",
        "orange_and_mango = fruits[1:3] # it does not include the first index\n",
        "orange_mango_lemon = fruits[1:]\n",
        "orange_and_lemon = fruits[::2] # here we used a 3rd argument, step. It will take every 2cnd item - ['orange', 'lemon']"
      ],
      "execution_count": 46,
      "outputs": []
    },
    {
      "cell_type": "markdown",
      "metadata": {
        "id": "Slu7hlvtZ-nt"
      },
      "source": [
        "- NEGATIVE INDEXING: We can specify a range of negative indexes by specifying the start, end and step, the return value will be a new list."
      ]
    },
    {
      "cell_type": "code",
      "metadata": {
        "id": "3007VpffZ-29"
      },
      "source": [
        "fruits = ['banana', 'orange', 'mango', 'lemon']\n",
        "all_fruits = fruits[-4:] # it returns all the fruits\n",
        "orange_and_mango = fruits[-3:-1] # it does not include the last index\n",
        "orange_mango_lemon = fruits[-3:] # this will give the same result as the one above\n",
        "reverse_fruits = fruits[::-1] # a negative step will take the list in reverse order"
      ],
      "execution_count": 47,
      "outputs": []
    },
    {
      "cell_type": "markdown",
      "metadata": {
        "id": "nWbf0qrGaEw-"
      },
      "source": [
        "**Modifying lists**"
      ]
    },
    {
      "cell_type": "code",
      "metadata": {
        "id": "kYnSRoqpaFAt",
        "outputId": "4ee40657-d514-4f12-8328-c56df1dc9c55",
        "colab": {
          "base_uri": "https://localhost:8080/"
        }
      },
      "source": [
        "fruits = ['banana', 'orange', 'mango', 'lemon']\n",
        "fruits[0] = 'avocado'\n",
        "print(fruits)       #  ['avocado', 'orange', 'mango', 'lemon']\n",
        "fruits[1] = 'apple'\n",
        "print(fruits)       #  ['avocado', 'apple', 'mango', 'lemon']\n"
      ],
      "execution_count": 48,
      "outputs": [
        {
          "output_type": "stream",
          "text": [
            "['avocado', 'orange', 'mango', 'lemon']\n",
            "['avocado', 'apple', 'mango', 'lemon']\n"
          ],
          "name": "stdout"
        }
      ]
    },
    {
      "cell_type": "markdown",
      "metadata": {
        "id": "jvM6txhmaFYD"
      },
      "source": [
        "**Checking items in a list**"
      ]
    },
    {
      "cell_type": "code",
      "metadata": {
        "id": "7y49FLygaFnZ",
        "outputId": "af163d41-b285-463b-a616-e61a1c0880ce",
        "colab": {
          "base_uri": "https://localhost:8080/"
        }
      },
      "source": [
        "fruits = ['banana', 'orange', 'mango', 'lemon']\n",
        "does_exist = 'banana' in fruits\n",
        "print(does_exist)  # True\n",
        "does_exist = 'lime' in fruits\n",
        "print(does_exist)  # False"
      ],
      "execution_count": 49,
      "outputs": [
        {
          "output_type": "stream",
          "text": [
            "True\n",
            "False\n"
          ],
          "name": "stdout"
        }
      ]
    },
    {
      "cell_type": "markdown",
      "metadata": {
        "id": "9vZhmoZqavFx"
      },
      "source": [
        "**Adding items to a list**\n",
        "\n",
        "To add item to the end of an existing list we use the method"
      ]
    },
    {
      "cell_type": "code",
      "metadata": {
        "id": "Nea52rSPavTz",
        "outputId": "296af84b-81ff-45b6-99c3-40dc001120f1",
        "colab": {
          "base_uri": "https://localhost:8080/"
        }
      },
      "source": [
        "fruits = ['banana', 'orange', 'mango', 'lemon']\n",
        "fruits.append('apple')\n",
        "print(fruits)           # ['banana', 'orange', 'mango', 'lemon', 'apple']\n"
      ],
      "execution_count": 50,
      "outputs": [
        {
          "output_type": "stream",
          "text": [
            "['banana', 'orange', 'mango', 'lemon', 'apple']\n"
          ],
          "name": "stdout"
        }
      ]
    },
    {
      "cell_type": "markdown",
      "metadata": {
        "id": "DRfkgyShavn4"
      },
      "source": [
        "**Inserting items into a list**\n",
        "\n",
        "Use insert() method to insert a single item at a specified index in a list."
      ]
    },
    {
      "cell_type": "code",
      "metadata": {
        "id": "O--kxOWjav32",
        "outputId": "e3600e53-ecfb-41f9-c8d6-70682a1c0fbf",
        "colab": {
          "base_uri": "https://localhost:8080/"
        }
      },
      "source": [
        "fruits = ['banana', 'orange', 'mango', 'lemon']\n",
        "fruits.insert(2, 'apple') # insert apple between orange and mango\n",
        "print(fruits)"
      ],
      "execution_count": 51,
      "outputs": [
        {
          "output_type": "stream",
          "text": [
            "['banana', 'orange', 'apple', 'mango', 'lemon']\n"
          ],
          "name": "stdout"
        }
      ]
    },
    {
      "cell_type": "markdown",
      "metadata": {
        "id": "qss0tTL2bVBN"
      },
      "source": [
        "**Removing items from a list**\n",
        "\n",
        "The remove method removes a specified item from a list"
      ]
    },
    {
      "cell_type": "code",
      "metadata": {
        "id": "qMSOZAXCbVb2",
        "outputId": "3a3e5d51-ee57-48a0-f7f9-d700d3b010d1",
        "colab": {
          "base_uri": "https://localhost:8080/"
        }
      },
      "source": [
        "fruits = ['banana', 'orange', 'mango', 'lemon', 'banana']\n",
        "fruits.remove('banana')\n",
        "print(fruits)  # ['orange', 'mango', 'lemon', 'banana'] - this method removes the first occurence of the item in the list\n"
      ],
      "execution_count": 52,
      "outputs": [
        {
          "output_type": "stream",
          "text": [
            "['orange', 'mango', 'lemon', 'banana']\n"
          ],
          "name": "stdout"
        }
      ]
    },
    {
      "cell_type": "markdown",
      "metadata": {
        "id": "VCpwCkSnbVp4"
      },
      "source": [
        "**Removing items using pop**\n",
        "\n",
        "The pop() method removes the specified index, (or the last item if index is not specified):"
      ]
    },
    {
      "cell_type": "code",
      "metadata": {
        "id": "tnN9OWrJbV5s",
        "outputId": "b4ca8e2c-f1d7-430b-a64e-5b09b1e2450a",
        "colab": {
          "base_uri": "https://localhost:8080/"
        }
      },
      "source": [
        "fruits = ['banana', 'orange', 'mango', 'lemon']\n",
        "fruits.pop()\n",
        "print(fruits)       # ['banana', 'orange', 'mango']\n",
        "\n",
        "fruits.pop(0)\n",
        "print(fruits)       # ['orange', 'mango']"
      ],
      "execution_count": 53,
      "outputs": [
        {
          "output_type": "stream",
          "text": [
            "['banana', 'orange', 'mango']\n",
            "['orange', 'mango']\n"
          ],
          "name": "stdout"
        }
      ]
    },
    {
      "cell_type": "markdown",
      "metadata": {
        "id": "PxPkerttbWUK"
      },
      "source": [
        "**Removing Items Using Del**\n",
        "\n",
        "The del keyword removes the specified index and it can also be used to delete items within index range. It can also delete the list completely"
      ]
    },
    {
      "cell_type": "code",
      "metadata": {
        "id": "f8ldCkqibWid",
        "outputId": "23d87c3a-2aa1-4f39-caf1-68c8ad683104",
        "colab": {
          "base_uri": "https://localhost:8080/",
          "height": 254
        }
      },
      "source": [
        "fruits = ['banana', 'orange', 'mango', 'lemon', 'kiwi', 'lime']\n",
        "\n",
        "del fruits[2]\n",
        "print(fruits)       # ['banana', 'orange', 'lemon', 'kiwi', 'lime']\n",
        "\n",
        "del fruits[1:3]     # this deletes items between given indexes, so it does not delete the item with index 3!\n",
        "print(fruits)       # ['banana', 'kiwi', 'lime']\n",
        "\n",
        "del fruits\n",
        "print(fruits)       # This should give: NameError: name 'fruits' is not defined"
      ],
      "execution_count": 57,
      "outputs": [
        {
          "output_type": "stream",
          "text": [
            "['banana', 'orange', 'lemon', 'kiwi', 'lime']\n",
            "['banana', 'kiwi', 'lime']\n"
          ],
          "name": "stdout"
        },
        {
          "output_type": "error",
          "ename": "NameError",
          "evalue": "ignored",
          "traceback": [
            "\u001b[0;31m---------------------------------------------------------------------------\u001b[0m",
            "\u001b[0;31mNameError\u001b[0m                                 Traceback (most recent call last)",
            "\u001b[0;32m<ipython-input-57-1583ed05eb0c>\u001b[0m in \u001b[0;36m<module>\u001b[0;34m()\u001b[0m\n\u001b[1;32m      8\u001b[0m \u001b[0;34m\u001b[0m\u001b[0m\n\u001b[1;32m      9\u001b[0m \u001b[0;32mdel\u001b[0m \u001b[0mfruits\u001b[0m\u001b[0;34m\u001b[0m\u001b[0;34m\u001b[0m\u001b[0m\n\u001b[0;32m---> 10\u001b[0;31m \u001b[0mprint\u001b[0m\u001b[0;34m(\u001b[0m\u001b[0mfruits\u001b[0m\u001b[0;34m)\u001b[0m       \u001b[0;31m# This should give: NameError: name 'fruits' is not defined\u001b[0m\u001b[0;34m\u001b[0m\u001b[0;34m\u001b[0m\u001b[0m\n\u001b[0m",
            "\u001b[0;31mNameError\u001b[0m: name 'fruits' is not defined"
          ]
        }
      ]
    },
    {
      "cell_type": "markdown",
      "metadata": {
        "id": "6U-nuq7Eb6jm"
      },
      "source": [
        "**Clearing List Items**\n",
        "\n",
        "The clear() method empties the list:"
      ]
    },
    {
      "cell_type": "code",
      "metadata": {
        "id": "n0zPSNxjb7Iy",
        "outputId": "4c8e7316-6c4b-45ef-9428-35c15404b7b8",
        "colab": {
          "base_uri": "https://localhost:8080/"
        }
      },
      "source": [
        "fruits = ['banana', 'orange', 'mango', 'lemon']\n",
        "fruits.clear()\n",
        "print(fruits)       # []"
      ],
      "execution_count": 58,
      "outputs": [
        {
          "output_type": "stream",
          "text": [
            "[]\n"
          ],
          "name": "stdout"
        }
      ]
    },
    {
      "cell_type": "markdown",
      "metadata": {
        "id": "Se_o6Qykb7ln"
      },
      "source": [
        "**Copying a List**\n",
        "\n",
        "It is possible to copy a list by reassigning it to a new variable in the following way: list2 = list1. Now, list2 is a reference of list1, any changes we make in list2 will also modify the original, list2. But there are lots of case in which we do not like to modify the original instead we like to have a different copy. One of way avoid the problem above is using copy()."
      ]
    },
    {
      "cell_type": "code",
      "metadata": {
        "id": "b7Oeq588b70P",
        "outputId": "e98d5252-969b-4b9a-d5ba-e1a34d502bb1",
        "colab": {
          "base_uri": "https://localhost:8080/"
        }
      },
      "source": [
        "fruits = ['banana', 'orange', 'mango', 'lemon']\n",
        "fruits_copy = fruits.copy()\n",
        "print(fruits_copy)       # ['banana', 'orange', 'mango', 'lemon']\n",
        "\n",
        "del fruits_copy[2]\n",
        "print(fruits_copy)       # ['banana', 'orange', 'lemon']\n",
        "print(fruits)       # ['banana', 'orange', 'mango', 'lemon']"
      ],
      "execution_count": 59,
      "outputs": [
        {
          "output_type": "stream",
          "text": [
            "['banana', 'orange', 'mango', 'lemon']\n",
            "['banana', 'orange', 'lemon']\n",
            "['banana', 'orange', 'mango', 'lemon']\n"
          ],
          "name": "stdout"
        }
      ]
    },
    {
      "cell_type": "markdown",
      "metadata": {
        "id": "VH6BBDdLgFx4"
      },
      "source": [
        "**Joining Lists**\n",
        "\n",
        "There are several ways to join, or concatenate, two or more lists in Python.\n",
        "\n",
        "- Plus Operator (+)\n"
      ]
    },
    {
      "cell_type": "code",
      "metadata": {
        "id": "vGTLcCXrgF_I",
        "outputId": "2b77c774-6d30-47e4-ed18-011da9dee2f5",
        "colab": {
          "base_uri": "https://localhost:8080/"
        }
      },
      "source": [
        "positive_numbers = [1, 2, 3, 4, 5]\n",
        "zero = [0]\n",
        "negative_numbers = [-5,-4,-3,-2,-1]\n",
        "integers = negative_numbers + zero + positive_numbers\n",
        "print('Integers:', integers)"
      ],
      "execution_count": 62,
      "outputs": [
        {
          "output_type": "stream",
          "text": [
            "Integers: [-5, -4, -3, -2, -1, 0, 1, 2, 3, 4, 5]\n"
          ],
          "name": "stdout"
        }
      ]
    },
    {
      "cell_type": "markdown",
      "metadata": {
        "id": "ZRqXpIM4gGOK"
      },
      "source": [
        "- Joining using extend() method\n"
      ]
    },
    {
      "cell_type": "code",
      "metadata": {
        "id": "j01IMJTtgGf3",
        "outputId": "eb009a5d-83fa-4477-e300-a0e8dd9aae11",
        "colab": {
          "base_uri": "https://localhost:8080/"
        }
      },
      "source": [
        "negative_numbers = [-5,-4,-3,-2,-1]\n",
        "positive_numbers = [1, 2, 3,4,5]\n",
        "zero = [0]\n",
        "\n",
        "negative_numbers.extend(zero)\n",
        "negative_numbers.extend(positive_numbers)\n",
        "print('Integers:', negative_numbers)"
      ],
      "execution_count": 61,
      "outputs": [
        {
          "output_type": "stream",
          "text": [
            "Integers: [-5, -4, -3, -2, -1, 0, 1, 2, 3, 4, 5]\n"
          ],
          "name": "stdout"
        }
      ]
    },
    {
      "cell_type": "markdown",
      "metadata": {
        "id": "uwFqIBySgjEo"
      },
      "source": [
        "**Counting Items in a List**\n",
        "\n",
        "The count() method returns the number of times an item appears in a list:"
      ]
    },
    {
      "cell_type": "code",
      "metadata": {
        "id": "vVRnZGb-gjSZ",
        "outputId": "1cfdd983-7cb2-4390-bd80-d37cf16906db",
        "colab": {
          "base_uri": "https://localhost:8080/"
        }
      },
      "source": [
        "ages = [22, 19, 24, 25, 26, 24, 25, 24]\n",
        "print(ages.count(24))           # 3"
      ],
      "execution_count": 64,
      "outputs": [
        {
          "output_type": "stream",
          "text": [
            "3\n"
          ],
          "name": "stdout"
        }
      ]
    },
    {
      "cell_type": "markdown",
      "metadata": {
        "id": "eIJi95VAgvC1"
      },
      "source": [
        "**Finding Index of an Item**\n",
        "\n",
        "The index() method returns the index of an item in the list:"
      ]
    },
    {
      "cell_type": "code",
      "metadata": {
        "id": "pprQ1pwcgvQI",
        "outputId": "d79c61c6-ba1a-42fa-fbfa-d31a198c45cf",
        "colab": {
          "base_uri": "https://localhost:8080/"
        }
      },
      "source": [
        "ages = [22, 19, 24, 25, 26, 24, 25, 24]\n",
        "print(ages.index(24))           # 2, the first occurrence"
      ],
      "execution_count": 65,
      "outputs": [
        {
          "output_type": "stream",
          "text": [
            "2\n"
          ],
          "name": "stdout"
        }
      ]
    },
    {
      "cell_type": "markdown",
      "metadata": {
        "id": "8R99WJihgvd-"
      },
      "source": [
        "**Reversing a list**\n",
        "\n",
        "The reverse() method reverses the order of a list."
      ]
    },
    {
      "cell_type": "code",
      "metadata": {
        "id": "jEo2nXDwgvrk",
        "outputId": "5d4922cf-892a-4d5e-fe17-e8a7e6548d2d",
        "colab": {
          "base_uri": "https://localhost:8080/"
        }
      },
      "source": [
        "fruits = ['banana', 'orange', 'mango', 'lemon']\n",
        "fruits.reverse()\n",
        "print(fruits)"
      ],
      "execution_count": 67,
      "outputs": [
        {
          "output_type": "stream",
          "text": [
            "['lemon', 'mango', 'orange', 'banana']\n"
          ],
          "name": "stdout"
        }
      ]
    },
    {
      "cell_type": "markdown",
      "metadata": {
        "id": "qUthjsDThlVm"
      },
      "source": [
        "**Sorting list items**\n",
        "\n",
        "To sort lists we can use sort() method or sorted() built-in functions. The sort() method reorders the list items in ascending order and modifies the original list."
      ]
    },
    {
      "cell_type": "code",
      "metadata": {
        "id": "xW8siEJVhli8",
        "outputId": "8d68737a-7654-4b62-cac8-5af487ac1fd6",
        "colab": {
          "base_uri": "https://localhost:8080/"
        }
      },
      "source": [
        "ages = [22, 19, 24, 25, 26, 24, 25, 24]\n",
        "ages.sort()\n",
        "print(ages)\n",
        "ages.sort(reverse=True)\n",
        "print(ages)"
      ],
      "execution_count": 68,
      "outputs": [
        {
          "output_type": "stream",
          "text": [
            "[19, 22, 24, 24, 24, 25, 25, 26]\n",
            "[26, 25, 25, 24, 24, 24, 22, 19]\n"
          ],
          "name": "stdout"
        }
      ]
    },
    {
      "cell_type": "markdown",
      "metadata": {
        "id": "x-W8SzmFhlxz"
      },
      "source": [
        "- sorted(): returns the ordered list without modifying the original Example:"
      ]
    },
    {
      "cell_type": "code",
      "metadata": {
        "id": "pDsChJvihl-v",
        "outputId": "8b982728-524d-4266-be5a-9eeb8eb618c9",
        "colab": {
          "base_uri": "https://localhost:8080/"
        }
      },
      "source": [
        "ages = [22, 19, 24, 25, 26, 24, 25, 24]\n",
        "print(sorted(ages))\n",
        "print(ages)"
      ],
      "execution_count": 70,
      "outputs": [
        {
          "output_type": "stream",
          "text": [
            "[19, 22, 24, 24, 24, 25, 25, 26]\n",
            "[22, 19, 24, 25, 26, 24, 25, 24]\n"
          ],
          "name": "stdout"
        }
      ]
    },
    {
      "cell_type": "markdown",
      "metadata": {
        "id": "eHY2Qhm4iLrr"
      },
      "source": [
        "#### Tuples\n",
        "\n",
        "A tuple is a collection of different data types which is ordered and unchangeable (immutable). Tuples are written with round brackets, (). \n",
        "\n",
        "Methods related to tuples:\n",
        "\n",
        "- tuple(): to create an empty tuple\n",
        "- count(): to count the number of a specified item in a tuple\n",
        "- index(): to find the index of a specified item in a tuple\n",
        "  - operator: to join two or more tuples and to create a new tuple\n"
      ]
    },
    {
      "cell_type": "markdown",
      "metadata": {
        "id": "vFVHj_EBjUGl"
      },
      "source": [
        "**Creating a tuple**\n",
        "\n",
        "- Empty tuple: "
      ]
    },
    {
      "cell_type": "code",
      "metadata": {
        "id": "9_4QjpcDiL6A"
      },
      "source": [
        "# syntax\n",
        "empty_tuple = ()\n",
        "# or using the tuple constructor\n",
        "empty_tuple = tuple()"
      ],
      "execution_count": 71,
      "outputs": []
    },
    {
      "cell_type": "markdown",
      "metadata": {
        "id": "dm1M97iMiMIK"
      },
      "source": [
        "- Tuple with initial values"
      ]
    },
    {
      "cell_type": "code",
      "metadata": {
        "id": "QG70WshniMXX"
      },
      "source": [
        "fruits = ('banana', 'orange', 'mango', 'lemon')"
      ],
      "execution_count": 72,
      "outputs": []
    },
    {
      "cell_type": "markdown",
      "metadata": {
        "id": "aAD8MkJ6jkf0"
      },
      "source": [
        "Tuples share many methods similar to lists, such as: len (), accessing, checking items, join and slicing.\n",
        "\n",
        "**Changin tuples to lists**\n",
        "\n",
        "We can change tuples to lists and lists to tuples. Tuple is immutable if we want to modify a tuple we should change it to a list."
      ]
    },
    {
      "cell_type": "code",
      "metadata": {
        "id": "76NJtPXGjktA",
        "outputId": "ef0c6e06-2e1f-4e32-c693-fa443620302e",
        "colab": {
          "base_uri": "https://localhost:8080/"
        }
      },
      "source": [
        "fruits = ('banana', 'orange', 'mango', 'lemon')\n",
        "fruits = list(fruits)\n",
        "fruits[0] = 'apple'\n",
        "print(fruits)     # ['apple', 'orange', 'mango', 'lemon']\n",
        "fruits = tuple(fruits)\n",
        "print(fruits)     # ('apple', 'orange', 'mango', 'lemon')"
      ],
      "execution_count": 73,
      "outputs": [
        {
          "output_type": "stream",
          "text": [
            "['apple', 'orange', 'mango', 'lemon']\n",
            "('apple', 'orange', 'mango', 'lemon')\n"
          ],
          "name": "stdout"
        }
      ]
    },
    {
      "cell_type": "markdown",
      "metadata": {
        "id": "l5L-RyyXjk5m"
      },
      "source": [
        "#### Sets\n",
        "\n",
        "Set is a collection of unordered and unindexed distinct elements. In python set is used to store unique items, and it is possible to find the union, intersection, difference, symmetric difference, subset, super set and disjoint set among sets."
      ]
    },
    {
      "cell_type": "markdown",
      "metadata": {
        "id": "7DhVbudClEeK"
      },
      "source": [
        "**Creating a set**\n",
        "\n",
        "We use curly brackets, {} to create a set.\n",
        "\n",
        "- Creating an empty set"
      ]
    },
    {
      "cell_type": "code",
      "metadata": {
        "id": "C4PWggi4jlHy"
      },
      "source": [
        "# syntax\n",
        "st = {}\n",
        "# or\n",
        "st = set()"
      ],
      "execution_count": 74,
      "outputs": []
    },
    {
      "cell_type": "markdown",
      "metadata": {
        "id": "YhpxXErskmWP"
      },
      "source": [
        "- Creating a set with initial items"
      ]
    },
    {
      "cell_type": "code",
      "metadata": {
        "id": "hqpe6hVokmix"
      },
      "source": [
        "# syntax\n",
        "st = {'item1', 'item2', 'item3', 'item4'}"
      ],
      "execution_count": 75,
      "outputs": []
    },
    {
      "cell_type": "markdown",
      "metadata": {
        "id": "EzbF56cPkmuF"
      },
      "source": [
        "**Adding items to a set**\n",
        "\n",
        "Once a set is created we cannot change any items but we can add additional ones.\n",
        "\n",
        "- Add one item using add()\n"
      ]
    },
    {
      "cell_type": "code",
      "metadata": {
        "id": "ms4lwDawkm6c"
      },
      "source": [
        "fruits = {'banana', 'orange', 'mango', 'lemon'}\n",
        "fruits.add('lime')"
      ],
      "execution_count": 76,
      "outputs": []
    },
    {
      "cell_type": "markdown",
      "metadata": {
        "id": "rdrYnAFUknG0"
      },
      "source": [
        "- Add multiple items using update()"
      ]
    },
    {
      "cell_type": "code",
      "metadata": {
        "id": "OTi5W1eMknTv"
      },
      "source": [
        "fruits = {'banana', 'orange', 'mango', 'lemon'}\n",
        "vegetables = ('tomato', 'potato', 'cabbage','onion', 'carrot')\n",
        "fruits.update(vegetables)"
      ],
      "execution_count": 77,
      "outputs": []
    },
    {
      "cell_type": "markdown",
      "metadata": {
        "id": "KaQM4iV3l67F"
      },
      "source": [
        "**Removing items from a set**\n",
        "\n",
        "We can remove an item from a set using remove() method. If the item is not found remove() method will raise errors, so it is good to check if the item exist in the given set. However, discard() method doesn't raise any errors."
      ]
    },
    {
      "cell_type": "code",
      "metadata": {
        "id": "E9XbJMXcl8JB",
        "outputId": "84f950e1-6125-4217-91ca-6b7f80c79b0a",
        "colab": {
          "base_uri": "https://localhost:8080/"
        }
      },
      "source": [
        "# syntax\n",
        "st = {'item1', 'item2', 'item3', 'item4'}\n",
        "st.remove('item2')\n",
        "print(st)\n",
        "\n",
        "fruits = {'banana', 'orange', 'mango', 'lemon'}\n",
        "fruits.pop()  # removes the last element from the set\n",
        "print(fruits)\n",
        "\n",
        "fruits = {'banana', 'orange', 'mango', 'lemon'}\n",
        "fruits.discard('apple')\n",
        "print(fruits)"
      ],
      "execution_count": 81,
      "outputs": [
        {
          "output_type": "stream",
          "text": [
            "{'item3', 'item4', 'item1'}\n",
            "{'banana', 'mango', 'lemon'}\n",
            "{'orange', 'banana', 'mango', 'lemon'}\n"
          ],
          "name": "stdout"
        }
      ]
    },
    {
      "cell_type": "markdown",
      "metadata": {
        "id": "1SHXrCBJl6-9"
      },
      "source": [
        "**Clearing items in a set**\n",
        "\n",
        "If we want to clear or empty the set we use clear method."
      ]
    },
    {
      "cell_type": "code",
      "metadata": {
        "id": "Lcwt2jczl8_k",
        "outputId": "11c289e9-1ca7-46f4-e743-936c75b65c6c",
        "colab": {
          "base_uri": "https://localhost:8080/"
        }
      },
      "source": [
        "fruits = {'banana', 'orange', 'mango', 'lemon'}\n",
        "fruits.clear()\n",
        "print(fruits) # set()"
      ],
      "execution_count": 82,
      "outputs": [
        {
          "output_type": "stream",
          "text": [
            "set()\n"
          ],
          "name": "stdout"
        }
      ]
    },
    {
      "cell_type": "markdown",
      "metadata": {
        "id": "SITtzXHvm6Ru"
      },
      "source": [
        "**Converting List to Set**\n",
        "\n",
        "We can convert list to set and set to list back. Converting list to set removes duplicates and only unique items will be reserved."
      ]
    },
    {
      "cell_type": "code",
      "metadata": {
        "id": "LTlc8gLpm6gP",
        "outputId": "4652cbf0-9980-42bf-b004-ea08e62aebac",
        "colab": {
          "base_uri": "https://localhost:8080/"
        }
      },
      "source": [
        "fruits = ['banana', 'orange', 'mango', 'lemon','orange', 'banana']\n",
        "fruits = set(fruits) # {'mango', 'lemon', 'banana', 'orange'}\n",
        "print(fruits)"
      ],
      "execution_count": 84,
      "outputs": [
        {
          "output_type": "stream",
          "text": [
            "{'orange', 'banana', 'mango', 'lemon'}\n"
          ],
          "name": "stdout"
        }
      ]
    },
    {
      "cell_type": "markdown",
      "metadata": {
        "id": "V4tv-gIxm6uk"
      },
      "source": [
        "**Joining Sets**\n",
        "\n",
        "We can join two sets using the union() or update() method.\n",
        "\n",
        "- Union This method returns a new set\n"
      ]
    },
    {
      "cell_type": "code",
      "metadata": {
        "id": "ZgtRRx_zm69F",
        "outputId": "59ee12a2-42ec-4a77-8355-3bdb8e8f3904",
        "colab": {
          "base_uri": "https://localhost:8080/"
        }
      },
      "source": [
        "fruits = {'banana', 'orange', 'mango', 'lemon'}\n",
        "vegetables = {'tomato', 'potato', 'cabbage','onion', 'carrot'}\n",
        "print(fruits.union(vegetables)) # {'lemon', 'carrot', 'tomato', 'banana', 'mango', 'orange', 'cabbage', 'potato', 'onion'}"
      ],
      "execution_count": 85,
      "outputs": [
        {
          "output_type": "stream",
          "text": [
            "{'banana', 'lemon', 'mango', 'orange', 'carrot', 'cabbage', 'onion', 'tomato', 'potato'}\n"
          ],
          "name": "stdout"
        }
      ]
    },
    {
      "cell_type": "markdown",
      "metadata": {
        "id": "GRlAxs9_l9j4"
      },
      "source": [
        "- Update This method inserts a set into a given set"
      ]
    },
    {
      "cell_type": "code",
      "metadata": {
        "id": "XgoRo4sXl9wo",
        "outputId": "913f977f-8363-48d8-b9ca-628828595ff9",
        "colab": {
          "base_uri": "https://localhost:8080/"
        }
      },
      "source": [
        "fruits = {'banana', 'orange', 'mango', 'lemon'}\n",
        "vegetables = {'tomato', 'potato', 'cabbage','onion', 'carrot'}\n",
        "fruits.update(vegetables)\n",
        "print(fruits) # {'lemon', 'carrot', 'tomato', 'banana', 'mango', 'orange', 'cabbage', 'potato', 'onion'}"
      ],
      "execution_count": 86,
      "outputs": [
        {
          "output_type": "stream",
          "text": [
            "{'banana', 'lemon', 'mango', 'orange', 'carrot', 'cabbage', 'onion', 'tomato', 'potato'}\n"
          ],
          "name": "stdout"
        }
      ]
    },
    {
      "cell_type": "markdown",
      "metadata": {
        "id": "mHVHmeRCl99j"
      },
      "source": [
        "**Finding Intersection Items**\n",
        "\n",
        "Intersection returns a set of items which are in both the sets. "
      ]
    },
    {
      "cell_type": "code",
      "metadata": {
        "id": "0crCp7qUl-KS",
        "outputId": "f45d075f-e19b-40ff-988b-b580b4ae71b6",
        "colab": {
          "base_uri": "https://localhost:8080/"
        }
      },
      "source": [
        "python = {'p', 'y', 't', 'h', 'o','n'}\n",
        "dragon = {'d', 'r', 'a', 'g', 'o','n'}\n",
        "python.intersection(dragon)     # {'o', 'n'}"
      ],
      "execution_count": 87,
      "outputs": [
        {
          "output_type": "execute_result",
          "data": {
            "text/plain": [
              "{'n', 'o'}"
            ]
          },
          "metadata": {
            "tags": []
          },
          "execution_count": 87
        }
      ]
    },
    {
      "cell_type": "markdown",
      "metadata": {
        "id": "tNvlBeOrn9Ur"
      },
      "source": [
        "**Checking subset and super set**\n",
        "\n",
        "A set can be a subset or super set of other sets:\n",
        "\n",
        "- Subset: issubset()\n",
        "- Super set: issuperset\n"
      ]
    },
    {
      "cell_type": "code",
      "metadata": {
        "id": "es2l_U2nn9hR",
        "outputId": "e4bff1ff-bbb6-4adc-9d22-fbdebac2bcb4",
        "colab": {
          "base_uri": "https://localhost:8080/"
        }
      },
      "source": [
        "# syntax\n",
        "st1 = {'item1', 'item2', 'item3', 'item4'}\n",
        "st2 = {'item2', 'item3'}\n",
        "print(st2.issubset(st1)) # True\n",
        "print(st1.issuperset(st2)) # True"
      ],
      "execution_count": 89,
      "outputs": [
        {
          "output_type": "stream",
          "text": [
            "True\n",
            "True\n"
          ],
          "name": "stdout"
        }
      ]
    },
    {
      "cell_type": "markdown",
      "metadata": {
        "id": "WrvTbPyFn9sz"
      },
      "source": [
        "**Checking the difference between two sets**\n",
        "\n",
        "It returns the difference between two sets."
      ]
    },
    {
      "cell_type": "code",
      "metadata": {
        "id": "RTGMClXJn94G",
        "outputId": "a12a0935-5f6e-4cef-a5e1-ea705869b3c8",
        "colab": {
          "base_uri": "https://localhost:8080/"
        }
      },
      "source": [
        "# syntax\n",
        "st1 = {'item1', 'item2', 'item3', 'item4'}\n",
        "st2 = {'item2', 'item3'}\n",
        "print(st2.difference(st1)) # set()\n",
        "print(st1.difference(st2)) # {'item1', 'item4'} => st1\\st2"
      ],
      "execution_count": 91,
      "outputs": [
        {
          "output_type": "stream",
          "text": [
            "set()\n",
            "{'item4', 'item1'}\n"
          ],
          "name": "stdout"
        }
      ]
    },
    {
      "cell_type": "markdown",
      "metadata": {
        "id": "9zGV4U3Cn-Ez"
      },
      "source": [
        "**Finding symmetric difference between two sets**\n",
        "\n",
        "It returns the the symmetric difference between two sets. It means that it returns a set that contains all items from both sets, except items that are present in both sets, mathematically: (A\\B) ∪ (B\\A)"
      ]
    },
    {
      "cell_type": "code",
      "metadata": {
        "id": "lvVSvgJYn-Qd",
        "outputId": "3e904b98-3f40-404d-d522-bfe0e80c391a",
        "colab": {
          "base_uri": "https://localhost:8080/"
        }
      },
      "source": [
        "# syntax\n",
        "st1 = {'item1', 'item2', 'item3', 'item4'}\n",
        "st2 = {'item2', 'item3'}\n",
        "# it means (A\\B)∪(B)\n",
        "st2.symmetric_difference(st1) # {'item1', 'item4'}"
      ],
      "execution_count": 92,
      "outputs": [
        {
          "output_type": "execute_result",
          "data": {
            "text/plain": [
              "{'item1', 'item4'}"
            ]
          },
          "metadata": {
            "tags": []
          },
          "execution_count": 92
        }
      ]
    },
    {
      "cell_type": "markdown",
      "metadata": {
        "id": "Q9CvRKyWn-n_"
      },
      "source": [
        "**Joining sets**\n",
        "\n",
        "If two sets do not have a common item or items we call them disjoint sets. We can check if two sets are joint or disjoint using isdisjoint() method."
      ]
    },
    {
      "cell_type": "code",
      "metadata": {
        "id": "WFlAWWNGn-4c",
        "outputId": "ab65f32f-eb20-4a93-e527-ecaf5d17d212",
        "colab": {
          "base_uri": "https://localhost:8080/"
        }
      },
      "source": [
        "# syntax\n",
        "st1 = {'item1', 'item2', 'item3', 'item4'}\n",
        "st2 = {'item2', 'item3'}\n",
        "st2.isdisjoint(st1) # False"
      ],
      "execution_count": 93,
      "outputs": [
        {
          "output_type": "execute_result",
          "data": {
            "text/plain": [
              "False"
            ]
          },
          "metadata": {
            "tags": []
          },
          "execution_count": 93
        }
      ]
    },
    {
      "cell_type": "markdown",
      "metadata": {
        "id": "D2T_-_3Vo8WU"
      },
      "source": [
        "#### Dictionaries\n",
        "\n",
        "A dictionary is a collection of unordered, modifiable(mutable) paired (key: value) data type."
      ]
    },
    {
      "cell_type": "markdown",
      "metadata": {
        "id": "EYb1bmkwpVcj"
      },
      "source": [
        "**Creating a dictionary**\n",
        "\n",
        "To create a dictionary we use curly brackets, {}."
      ]
    },
    {
      "cell_type": "code",
      "metadata": {
        "id": "7KCKWqoCo8rT"
      },
      "source": [
        "# syntax\n",
        "empty_dict = {}\n",
        "# Dictionary with data values\n",
        "person = {\n",
        "    'first_name':'Evelyn',\n",
        "    'last_name':'Cusi',\n",
        "    'age':25,\n",
        "    'country':'Bolivia',\n",
        "    'is_marred': False,\n",
        "    'skills':['Smalltalk', 'Java', 'Django', 'MongoDB', 'Python'],\n",
        "    'address': {\n",
        "        'street':'Inti street',\n",
        "        'zipcode':'0000'\n",
        "    }\n",
        "}"
      ],
      "execution_count": 98,
      "outputs": []
    },
    {
      "cell_type": "markdown",
      "metadata": {
        "id": "9L9BAReQo84C"
      },
      "source": [
        "The dictionary above shows that a value could be any different data type:string, boolean, list, tuple, set or a dictionary.\n",
        "\n",
        "**Accessing dictionary items**\n",
        "\n",
        "We can access Dictionary items by referring to its key name."
      ]
    },
    {
      "cell_type": "code",
      "metadata": {
        "id": "FeK6fGrBo9Eh",
        "outputId": "15159a88-29d5-4efa-b995-791679dde8ff",
        "colab": {
          "base_uri": "https://localhost:8080/",
          "height": 289
        }
      },
      "source": [
        "print(person['first_name']) # Evelyn\n",
        "print(person['country'])    # Bolivia\n",
        "print(person['skills'])     # ['Smalltalk', 'Java', 'Django', 'MongoDB', 'Python']\n",
        "print(person['skills'][0])  # Smalltalk\n",
        "print(person['address']['street']) # Inti street\n",
        "print(person['city'])       # Error"
      ],
      "execution_count": 99,
      "outputs": [
        {
          "output_type": "stream",
          "text": [
            "Evelyn\n",
            "Bolivia\n",
            "['Smalltalk', 'Java', 'Django', 'MongoDB', 'Python']\n",
            "Smalltalk\n",
            "Inti street\n"
          ],
          "name": "stdout"
        },
        {
          "output_type": "error",
          "ename": "KeyError",
          "evalue": "ignored",
          "traceback": [
            "\u001b[0;31m---------------------------------------------------------------------------\u001b[0m",
            "\u001b[0;31mKeyError\u001b[0m                                  Traceback (most recent call last)",
            "\u001b[0;32m<ipython-input-99-07e526006c64>\u001b[0m in \u001b[0;36m<module>\u001b[0;34m()\u001b[0m\n\u001b[1;32m      4\u001b[0m \u001b[0mprint\u001b[0m\u001b[0;34m(\u001b[0m\u001b[0mperson\u001b[0m\u001b[0;34m[\u001b[0m\u001b[0;34m'skills'\u001b[0m\u001b[0;34m]\u001b[0m\u001b[0;34m[\u001b[0m\u001b[0;36m0\u001b[0m\u001b[0;34m]\u001b[0m\u001b[0;34m)\u001b[0m  \u001b[0;31m# Smalltalk\u001b[0m\u001b[0;34m\u001b[0m\u001b[0;34m\u001b[0m\u001b[0m\n\u001b[1;32m      5\u001b[0m \u001b[0mprint\u001b[0m\u001b[0;34m(\u001b[0m\u001b[0mperson\u001b[0m\u001b[0;34m[\u001b[0m\u001b[0;34m'address'\u001b[0m\u001b[0;34m]\u001b[0m\u001b[0;34m[\u001b[0m\u001b[0;34m'street'\u001b[0m\u001b[0;34m]\u001b[0m\u001b[0;34m)\u001b[0m \u001b[0;31m# Inti street\u001b[0m\u001b[0;34m\u001b[0m\u001b[0;34m\u001b[0m\u001b[0m\n\u001b[0;32m----> 6\u001b[0;31m \u001b[0mprint\u001b[0m\u001b[0;34m(\u001b[0m\u001b[0mperson\u001b[0m\u001b[0;34m[\u001b[0m\u001b[0;34m'city'\u001b[0m\u001b[0;34m]\u001b[0m\u001b[0;34m)\u001b[0m       \u001b[0;31m# Error\u001b[0m\u001b[0;34m\u001b[0m\u001b[0;34m\u001b[0m\u001b[0m\n\u001b[0m",
            "\u001b[0;31mKeyError\u001b[0m: 'city'"
          ]
        }
      ]
    },
    {
      "cell_type": "markdown",
      "metadata": {
        "id": "J7r2HAero9SO"
      },
      "source": [
        "Accessing an item by key name raises an error if the key does not exist. To avoid this error first we have to check if a key exist or we can use the get method. The get method returns None, which is a NoneType object data type, if the key does not exist."
      ]
    },
    {
      "cell_type": "code",
      "metadata": {
        "id": "ugLJsARVo9fL",
        "outputId": "414549e3-eddf-4388-b70b-271bd49e31aa",
        "colab": {
          "base_uri": "https://localhost:8080/"
        }
      },
      "source": [
        "print(person.get('first_name')) # Evelyn\n",
        "print(person.get('country'))    # Bolivia\n",
        "print(person.get('skills'))     # ['Smalltalk', 'Java', 'Django', 'MongoDB', 'Python']\n",
        "print(person.get('city'))       # None"
      ],
      "execution_count": 100,
      "outputs": [
        {
          "output_type": "stream",
          "text": [
            "Evelyn\n",
            "Bolivia\n",
            "['Smalltalk', 'Java', 'Django', 'MongoDB', 'Python']\n",
            "None\n"
          ],
          "name": "stdout"
        }
      ]
    },
    {
      "cell_type": "markdown",
      "metadata": {
        "id": "aklR-Jx_qpxq"
      },
      "source": [
        "**Adding items to a dictionary**\n",
        "\n",
        "We can add new key and value pairs to a dictionary"
      ]
    },
    {
      "cell_type": "code",
      "metadata": {
        "id": "zVdub59uqp9a",
        "outputId": "e2d2ea95-60b8-415d-bac6-706bfd67e40f",
        "colab": {
          "base_uri": "https://localhost:8080/"
        }
      },
      "source": [
        "person['job_title'] = 'Developer'\n",
        "person['skills'].append('Tensorflow')\n",
        "print(person)"
      ],
      "execution_count": 101,
      "outputs": [
        {
          "output_type": "stream",
          "text": [
            "{'first_name': 'Evelyn', 'last_name': 'Cusi', 'age': 25, 'country': 'Bolivia', 'is_marred': False, 'skills': ['Smalltalk', 'Java', 'Django', 'MongoDB', 'Python', 'Tensorflow'], 'address': {'street': 'Inti street', 'zipcode': '0000'}, 'job_title': 'Developer'}\n"
          ],
          "name": "stdout"
        }
      ]
    },
    {
      "cell_type": "markdown",
      "metadata": {
        "id": "0_4fCmkIqqK9"
      },
      "source": [
        "**Modifying items in a dictionary**\n",
        "\n",
        "We can modify items in a dictionary"
      ]
    },
    {
      "cell_type": "code",
      "metadata": {
        "id": "flWMFt2XqqW5",
        "outputId": "33652326-155d-49e4-e197-6a29728d9633",
        "colab": {
          "base_uri": "https://localhost:8080/"
        }
      },
      "source": [
        "person['first_name'] = 'Lin'\n",
        "person['age'] = 26\n",
        "print(person)"
      ],
      "execution_count": 102,
      "outputs": [
        {
          "output_type": "stream",
          "text": [
            "{'first_name': 'Lin', 'last_name': 'Cusi', 'age': 26, 'country': 'Bolivia', 'is_marred': False, 'skills': ['Smalltalk', 'Java', 'Django', 'MongoDB', 'Python', 'Tensorflow'], 'address': {'street': 'Inti street', 'zipcode': '0000'}, 'job_title': 'Developer'}\n"
          ],
          "name": "stdout"
        }
      ]
    },
    {
      "cell_type": "markdown",
      "metadata": {
        "id": "tRfcIFoQqqjC"
      },
      "source": [
        "**Checking keys in a dictionary**\n",
        "\n",
        "We use the in operator to check if a key exist in a dictionary"
      ]
    },
    {
      "cell_type": "code",
      "metadata": {
        "id": "otBr6ptwqqws",
        "outputId": "d63c7b13-c082-40e3-e808-00ac3fd73ca3",
        "colab": {
          "base_uri": "https://localhost:8080/"
        }
      },
      "source": [
        "dct = {'key1':'value1', 'key2':'value2', 'key3':'value3', 'key4':'value4'}\n",
        "print('key2' in dct) # True\n",
        "print('key5' in dct) # False"
      ],
      "execution_count": 103,
      "outputs": [
        {
          "output_type": "stream",
          "text": [
            "True\n",
            "False\n"
          ],
          "name": "stdout"
        }
      ]
    },
    {
      "cell_type": "markdown",
      "metadata": {
        "id": "zmL5KV8Mqq9O"
      },
      "source": [
        "**Removing key and value pairs from a dictionary**\n",
        "\n",
        "- **pop(key):** removes the item with the specified key name:\n",
        "- **popitem():** removes the last item\n",
        "- **del:** removes an item with specified key name\n"
      ]
    },
    {
      "cell_type": "code",
      "metadata": {
        "id": "fSqFagGCqrJ8"
      },
      "source": [
        "# syntax\n",
        "dct = {'key1':'value1', 'key2':'value2', 'key3':'value3', 'key4':'value4'}\n",
        "dct.pop('key1') # removes key1 item\n",
        "dct = {'key1':'value1', 'key2':'value2', 'key3':'value3', 'key4':'value4'}\n",
        "dct.popitem() # removes the last item\n",
        "del dct['key2'] # removes key2 item"
      ],
      "execution_count": 104,
      "outputs": []
    },
    {
      "cell_type": "markdown",
      "metadata": {
        "id": "urMbWGTcqrZV"
      },
      "source": [
        "**Changing dictionary to a list of items**\n",
        "\n",
        "The items() method changes dictionary to a list of tuples."
      ]
    },
    {
      "cell_type": "code",
      "metadata": {
        "id": "8_glv2PDqrpi",
        "outputId": "a7423fb8-ff8b-46f9-e13a-6000aad1b389",
        "colab": {
          "base_uri": "https://localhost:8080/"
        }
      },
      "source": [
        "dct = {'key1':'value1', 'key2':'value2', 'key3':'value3', 'key4':'value4'}\n",
        "print(dct.items()) # dict_items([('key1', 'value1'), ('key2', 'value2'), ('key3', 'value3'), ('key4', 'value4')])"
      ],
      "execution_count": 105,
      "outputs": [
        {
          "output_type": "stream",
          "text": [
            "dict_items([('key1', 'value1'), ('key2', 'value2'), ('key3', 'value3'), ('key4', 'value4')])\n"
          ],
          "name": "stdout"
        }
      ]
    },
    {
      "cell_type": "markdown",
      "metadata": {
        "id": "qjSdD8gRsNED"
      },
      "source": [
        "**Clearing a dictionary**\n",
        "\n",
        "If we don't want the items in a dictionary we can clear them using clear() method"
      ]
    },
    {
      "cell_type": "code",
      "metadata": {
        "id": "AB3WHPPBsNPj",
        "outputId": "a4f9fe9c-4818-431e-c032-007418725b78",
        "colab": {
          "base_uri": "https://localhost:8080/"
        }
      },
      "source": [
        "dct = {'key1':'value1', 'key2':'value2', 'key3':'value3', 'key4':'value4'}\n",
        "print(dct.clear()) # None"
      ],
      "execution_count": 106,
      "outputs": [
        {
          "output_type": "stream",
          "text": [
            "None\n"
          ],
          "name": "stdout"
        }
      ]
    },
    {
      "cell_type": "markdown",
      "metadata": {
        "id": "FiwA8WM6sNbv"
      },
      "source": [
        "**Getting dictionary keys as a list**\n",
        "\n",
        "The keys() method gives us all the keys of a a dictionary as a list."
      ]
    },
    {
      "cell_type": "code",
      "metadata": {
        "id": "Uk-wlwuPsOX8",
        "outputId": "ac4242b1-57d5-48b3-99cd-114b136e1d1c",
        "colab": {
          "base_uri": "https://localhost:8080/"
        }
      },
      "source": [
        "dct = {'key1':'value1', 'key2':'value2', 'key3':'value3', 'key4':'value4'}\n",
        "keys = dct.keys()\n",
        "print(keys)     # dict_keys(['key1', 'key2', 'key3', 'key4'])"
      ],
      "execution_count": 107,
      "outputs": [
        {
          "output_type": "stream",
          "text": [
            "dict_keys(['key1', 'key2', 'key3', 'key4'])\n"
          ],
          "name": "stdout"
        }
      ]
    },
    {
      "cell_type": "markdown",
      "metadata": {
        "id": "75XLFTYCsOpe"
      },
      "source": [
        "**Getting dictionary values as a list**\n",
        "\n",
        "The values method gives us all the values of a a dictionary as a list."
      ]
    },
    {
      "cell_type": "code",
      "metadata": {
        "id": "AFrDorqIsO1h",
        "outputId": "6764b8da-42ae-4a2e-e612-081c442d3b7a",
        "colab": {
          "base_uri": "https://localhost:8080/"
        }
      },
      "source": [
        "dct = {'key1':'value1', 'key2':'value2', 'key3':'value3', 'key4':'value4'}\n",
        "values = dct.values()\n",
        "print(values)     # dict_values(['value1', 'value2', 'value3', 'value4'])"
      ],
      "execution_count": 108,
      "outputs": [
        {
          "output_type": "stream",
          "text": [
            "dict_values(['value1', 'value2', 'value3', 'value4'])\n"
          ],
          "name": "stdout"
        }
      ]
    },
    {
      "cell_type": "markdown",
      "metadata": {
        "id": "PQ1ETpHrHIvT"
      },
      "source": [
        "## Resources\n",
        "\n",
        "https://github.com/Asabeneh/30-Days-Of-Python/blob/master/04_Day_Strings/04_strings.md\n",
        "\n",
        "https://indico.cern.ch/event/747653/contributions/3092133/attachments/1716863/2770740/presentation-insights.pdf\n"
      ]
    }
  ]
}