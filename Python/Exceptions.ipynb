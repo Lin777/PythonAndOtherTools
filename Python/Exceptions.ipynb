{
  "nbformat": 4,
  "nbformat_minor": 0,
  "metadata": {
    "colab": {
      "name": "Exceptions.ipynb",
      "provenance": [],
      "authorship_tag": "ABX9TyNJ0apAVU4M0xqm76cKXHD/",
      "include_colab_link": true
    },
    "kernelspec": {
      "name": "python3",
      "display_name": "Python 3"
    }
  },
  "cells": [
    {
      "cell_type": "markdown",
      "metadata": {
        "id": "view-in-github",
        "colab_type": "text"
      },
      "source": [
        "<a href=\"https://colab.research.google.com/github/Lin777/PythonAndOtherTools/blob/master/Exceptions.ipynb\" target=\"_parent\"><img src=\"https://colab.research.google.com/assets/colab-badge.svg\" alt=\"Open In Colab\"/></a>"
      ]
    },
    {
      "cell_type": "markdown",
      "metadata": {
        "id": "JOwM9fZyEW_Q"
      },
      "source": [
        "# Exceptions\n",
        "\n",
        "Exceptions are errors detected by Python during the execution of the program. When the interpreter encounters an exceptional situation, such as trying to divide a number by 0 or trying to access a file that does not exist, it generates or throws an exception, informing the user that there is a problem.\n",
        "\n",
        "If the exception is not caught, the flow of execution is interrupted and the information associated with the exception is displayed on the console so that the programmer can solve the problem."
      ]
    },
    {
      "cell_type": "code",
      "metadata": {
        "id": "iFZLgPnhETRD",
        "outputId": "91e8936b-3179-4c5a-f275-14f1bb218744",
        "colab": {
          "base_uri": "https://localhost:8080/",
          "height": 347
        }
      },
      "source": [
        "# Example\n",
        "\n",
        "def divide(a, b):\n",
        "  return a / b\n",
        "\n",
        "def calculate():\n",
        "  divide(1, 0)\n",
        "\n",
        "calculate()"
      ],
      "execution_count": 1,
      "outputs": [
        {
          "output_type": "error",
          "ename": "ZeroDivisionError",
          "evalue": "ignored",
          "traceback": [
            "\u001b[0;31m---------------------------------------------------------------------------\u001b[0m",
            "\u001b[0;31mZeroDivisionError\u001b[0m                         Traceback (most recent call last)",
            "\u001b[0;32m<ipython-input-1-df8f3465e563>\u001b[0m in \u001b[0;36m<module>\u001b[0;34m()\u001b[0m\n\u001b[1;32m      7\u001b[0m   \u001b[0mdivide\u001b[0m\u001b[0;34m(\u001b[0m\u001b[0;36m1\u001b[0m\u001b[0;34m,\u001b[0m \u001b[0;36m0\u001b[0m\u001b[0;34m)\u001b[0m\u001b[0;34m\u001b[0m\u001b[0;34m\u001b[0m\u001b[0m\n\u001b[1;32m      8\u001b[0m \u001b[0;34m\u001b[0m\u001b[0m\n\u001b[0;32m----> 9\u001b[0;31m \u001b[0mcalculate\u001b[0m\u001b[0;34m(\u001b[0m\u001b[0;34m)\u001b[0m\u001b[0;34m\u001b[0m\u001b[0;34m\u001b[0m\u001b[0m\n\u001b[0m",
            "\u001b[0;32m<ipython-input-1-df8f3465e563>\u001b[0m in \u001b[0;36mcalculate\u001b[0;34m()\u001b[0m\n\u001b[1;32m      5\u001b[0m \u001b[0;34m\u001b[0m\u001b[0m\n\u001b[1;32m      6\u001b[0m \u001b[0;32mdef\u001b[0m \u001b[0mcalculate\u001b[0m\u001b[0;34m(\u001b[0m\u001b[0;34m)\u001b[0m\u001b[0;34m:\u001b[0m\u001b[0;34m\u001b[0m\u001b[0;34m\u001b[0m\u001b[0m\n\u001b[0;32m----> 7\u001b[0;31m   \u001b[0mdivide\u001b[0m\u001b[0;34m(\u001b[0m\u001b[0;36m1\u001b[0m\u001b[0;34m,\u001b[0m \u001b[0;36m0\u001b[0m\u001b[0;34m)\u001b[0m\u001b[0;34m\u001b[0m\u001b[0;34m\u001b[0m\u001b[0m\n\u001b[0m\u001b[1;32m      8\u001b[0m \u001b[0;34m\u001b[0m\u001b[0m\n\u001b[1;32m      9\u001b[0m \u001b[0mcalculate\u001b[0m\u001b[0;34m(\u001b[0m\u001b[0;34m)\u001b[0m\u001b[0;34m\u001b[0m\u001b[0;34m\u001b[0m\u001b[0m\n",
            "\u001b[0;32m<ipython-input-1-df8f3465e563>\u001b[0m in \u001b[0;36mdivide\u001b[0;34m(a, b)\u001b[0m\n\u001b[1;32m      2\u001b[0m \u001b[0;34m\u001b[0m\u001b[0m\n\u001b[1;32m      3\u001b[0m \u001b[0;32mdef\u001b[0m \u001b[0mdivide\u001b[0m\u001b[0;34m(\u001b[0m\u001b[0ma\u001b[0m\u001b[0;34m,\u001b[0m \u001b[0mb\u001b[0m\u001b[0;34m)\u001b[0m\u001b[0;34m:\u001b[0m\u001b[0;34m\u001b[0m\u001b[0;34m\u001b[0m\u001b[0m\n\u001b[0;32m----> 4\u001b[0;31m   \u001b[0;32mreturn\u001b[0m \u001b[0ma\u001b[0m \u001b[0;34m/\u001b[0m \u001b[0mb\u001b[0m\u001b[0;34m\u001b[0m\u001b[0;34m\u001b[0m\u001b[0m\n\u001b[0m\u001b[1;32m      5\u001b[0m \u001b[0;34m\u001b[0m\u001b[0m\n\u001b[1;32m      6\u001b[0m \u001b[0;32mdef\u001b[0m \u001b[0mcalculate\u001b[0m\u001b[0;34m(\u001b[0m\u001b[0;34m)\u001b[0m\u001b[0;34m:\u001b[0m\u001b[0;34m\u001b[0m\u001b[0;34m\u001b[0m\u001b[0m\n",
            "\u001b[0;31mZeroDivisionError\u001b[0m: division by zero"
          ]
        }
      ]
    },
    {
      "cell_type": "markdown",
      "metadata": {
        "id": "DZusd56LGT1z"
      },
      "source": [
        "In Python a try-except construct is used to catch and handle exceptions. The \"try\" block defines the code snippet in which we think an exception might be thrown. The \"except\" block allows you to indicate the treatment that will be carried out if said exception occurs. Many times our treatment of the exception will simply consist of printing a more user-friendly message, other times we will be interested in recording errors and from time to time we can establish a strategy to solve the problem.\n"
      ]
    },
    {
      "cell_type": "code",
      "metadata": {
        "id": "8fiHKE7OFN41",
        "outputId": "bade34f1-f23f-49cd-ce10-61e9e39e2aef",
        "colab": {
          "base_uri": "https://localhost:8080/"
        }
      },
      "source": [
        "# Example\n",
        "\n",
        "def divide(a, b):\n",
        "  return a / b\n",
        "\n",
        "def calculate():\n",
        "  try:\n",
        "    divide(1, 0)\n",
        "  except:\n",
        "    print('Division by zero is not possible')\n",
        "\n",
        "calculate()"
      ],
      "execution_count": 2,
      "outputs": [
        {
          "output_type": "stream",
          "text": [
            "Division by zero is not possible\n"
          ],
          "name": "stdout"
        }
      ]
    },
    {
      "cell_type": "markdown",
      "metadata": {
        "id": "kquMfLU6HKD7"
      },
      "source": [
        "\n",
        "Python allows you to use several except for a single try block, so that we can treat the exception differently depending on the type of exception in question. This is good practice, and is as simple as indicating the name of type after except."
      ]
    },
    {
      "cell_type": "code",
      "metadata": {
        "id": "Cjkn7Y81HOCq",
        "outputId": "00b86c11-ba19-4de2-c673-f56663f9c6ac",
        "colab": {
          "base_uri": "https://localhost:8080/"
        }
      },
      "source": [
        "# Example\n",
        "\n",
        "try:\n",
        "  num = int('3a')\n",
        "  print('not exist')\n",
        "except NameError:\n",
        "  print('Variable not exist')\n",
        "except ValueError:\n",
        "  print('Value is not number')"
      ],
      "execution_count": 4,
      "outputs": [
        {
          "output_type": "stream",
          "text": [
            "Value is not number\n"
          ],
          "name": "stdout"
        }
      ]
    },
    {
      "cell_type": "markdown",
      "metadata": {
        "id": "wphFUR-HIpjA"
      },
      "source": [
        "When an exception is thrown in the try block, each except clause is searched for an appropriate handler for the type of error that occurred. In case it is not found, the exception is propagated.\n",
        "\n",
        "We can also make the same except serve to treat more than one exception using a tuple to list the types of errors that we want the block to treat:"
      ]
    },
    {
      "cell_type": "code",
      "metadata": {
        "id": "i30x8N1TH8kQ",
        "outputId": "affe1c6b-6446-4f31-80b9-fdc9c78e3563",
        "colab": {
          "base_uri": "https://localhost:8080/"
        }
      },
      "source": [
        "# Example\n",
        "\n",
        "try:\n",
        "  num = int('3a')\n",
        "  print('not exist')\n",
        "except (NameError, ValueError):\n",
        "  print('An error occurred')"
      ],
      "execution_count": 5,
      "outputs": [
        {
          "output_type": "stream",
          "text": [
            "An error occurred\n"
          ],
          "name": "stdout"
        }
      ]
    },
    {
      "cell_type": "markdown",
      "metadata": {
        "id": "kSczgc7_JbhQ"
      },
      "source": [
        "The try-except construction can also have an **else** clause, which defines a piece of code to be executed only if no exception has been thrown in the try."
      ]
    },
    {
      "cell_type": "code",
      "metadata": {
        "id": "C-qyJf3TJFua",
        "outputId": "583d195d-d9d2-4311-d403-1839dfdd9d13",
        "colab": {
          "base_uri": "https://localhost:8080/"
        }
      },
      "source": [
        "# Example\n",
        "\n",
        "try:\n",
        "  num = 33\n",
        "except:\n",
        "  print('There was an error! ')\n",
        "else:\n",
        "  print('Everything is fine')"
      ],
      "execution_count": 6,
      "outputs": [
        {
          "output_type": "stream",
          "text": [
            "Everything is fine\n"
          ],
          "name": "stdout"
        }
      ]
    },
    {
      "cell_type": "markdown",
      "metadata": {
        "id": "u5cBR_jzKLB6"
      },
      "source": [
        "There is also a **finally** clause that is always executed, whether an exception occurs or not. This clause is often used, among other things, for cleaning tasks."
      ]
    },
    {
      "cell_type": "code",
      "metadata": {
        "id": "F9tFykV8JzHV",
        "outputId": "883b9be6-3573-40a1-9244-18328f6bb802",
        "colab": {
          "base_uri": "https://localhost:8080/"
        }
      },
      "source": [
        "# Example\n",
        "\n",
        "def example(x, y):\n",
        "  try:\n",
        "    z = x / y\n",
        "  except ZeroDivisionError:    \n",
        "    print('Division by zero')\n",
        "  finally:\n",
        "    print('Cleaning')\n",
        "\n",
        "example(1, 0)\n",
        "print('==============================')\n",
        "example(1, 1)"
      ],
      "execution_count": 8,
      "outputs": [
        {
          "output_type": "stream",
          "text": [
            "Division by zero\n",
            "Cleaning\n",
            "==============================\n",
            "Cleaning\n"
          ],
          "name": "stdout"
        }
      ]
    },
    {
      "cell_type": "markdown",
      "metadata": {
        "id": "Fdp8lssDLCcF"
      },
      "source": [
        "It is also interesting to note that as programmers we can create and throw our own exceptions. Just create a class that inherits from Exception or any of its children and raise it."
      ]
    },
    {
      "cell_type": "code",
      "metadata": {
        "id": "0az6PxeCKgJz",
        "outputId": "5f45e29a-078d-4a42-8e40-92af907e664d",
        "colab": {
          "base_uri": "https://localhost:8080/"
        }
      },
      "source": [
        "# Example\n",
        "\n",
        "class MyError(Exception):\n",
        "  \n",
        "  def __init__(self, value):\n",
        "    self.value = value\n",
        "\n",
        "  def __str__(self):\n",
        "    return 'Error ' + str(self.value)\n",
        "\n",
        "try:\n",
        "  if 30 > 20:\n",
        "    raise MyError(33)\n",
        "except MyError as e:\n",
        "  print(e)"
      ],
      "execution_count": 12,
      "outputs": [
        {
          "output_type": "stream",
          "text": [
            "Error 33\n"
          ],
          "name": "stdout"
        }
      ]
    },
    {
      "cell_type": "markdown",
      "metadata": {
        "id": "sgaFZQKiMKpv"
      },
      "source": [
        "## Resources\n",
        "\n",
        "https://www.utic.edu.py/citil/images/Manuales/Python_para_todos.pdf"
      ]
    }
  ]
}