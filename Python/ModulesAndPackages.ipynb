{
  "nbformat": 4,
  "nbformat_minor": 0,
  "metadata": {
    "colab": {
      "name": "ModulesAndPackages.ipynb",
      "provenance": [],
      "authorship_tag": "ABX9TyNoDEMxOj2NINs/tPp7EI3u",
      "include_colab_link": true
    },
    "kernelspec": {
      "name": "python3",
      "display_name": "Python 3"
    }
  },
  "cells": [
    {
      "cell_type": "markdown",
      "metadata": {
        "id": "view-in-github",
        "colab_type": "text"
      },
      "source": [
        "<a href=\"https://colab.research.google.com/github/Lin777/PythonAndOtherTools/blob/master/ModulesAndPackages.ipynb\" target=\"_parent\"><img src=\"https://colab.research.google.com/assets/colab-badge.svg\" alt=\"Open In Colab\"/></a>"
      ]
    },
    {
      "cell_type": "markdown",
      "metadata": {
        "id": "cmj-1qRyDjes"
      },
      "source": [
        "# Modules and Packages\n",
        "\n"
      ]
    },
    {
      "cell_type": "markdown",
      "metadata": {
        "id": "S15ACF1eG06V"
      },
      "source": [
        "## Modules\n",
        "\n",
        "To facilitate maintenance and reading, programs that are too long can be divided into modules, grouping related elements. The modules are entities that allow an organization and logical division of our code. Files are their physical counterpart: each Python file stored on disk is equivalent to one module.\n",
        "\n",
        "### Creating a module\n",
        "\n",
        "First we must add a file called my_module.py with the following content:\n",
        "\n",
        "```\n",
        "def my_function():\n",
        "  print('a function')\n",
        "  \n",
        "class MyClass:\n",
        "  def __init__(self):\n",
        "    print('a class')\n",
        "    \n",
        "print('a module')\n",
        "```"
      ]
    },
    {
      "cell_type": "markdown",
      "metadata": {
        "id": "bTbM9-2SHQPs"
      },
      "source": [
        "### Importing a module\n",
        "\n",
        "If we wanted to use the functionality defined in this module in our program we would have to import it. To import a module, use the import keyword followed by the name of the module, which consists of the file name minus the extension. As an example, let's create a program.py file in the same directory where we save the module file (this is important, because if it is not in the same Python directory, it will not be able to find it), with the following content:\n",
        "\n",
        "```\n",
        "import my_module\n",
        "\n",
        "my_module.my_function()\n",
        "```\n",
        "\n",
        "The import not only makes everything defined within the module available, but it also executes the module's code. For this reason our program, in addition to printing the text \"a function\" when calling my_function, would also print the text \"a module\", due to the print of the imported module. However, the text \"a class\" would not be printed, since what was done in the module was only to define the class, not to instantiate it."
      ]
    },
    {
      "cell_type": "markdown",
      "metadata": {
        "id": "1Dv_NTvXJxZT"
      },
      "source": [
        "### Import functions or objects from a module\n",
        "\n",
        "It is possible to use the from-import construction to save us having to indicate the name of the module before the object or function that interests us. In this way the object (s) or function (s) that we indicate are imported into the current namespace.\n",
        "\n",
        "```\n",
        "from my_module import my_function\n",
        "my_funtion()\n",
        "```\n",
        "Although it is considered bad practice, it is also possible to import all module names into the current namespace using the * character:\n",
        "\n",
        "```\n",
        "from my_module import *\n",
        "```\n",
        "The import clause also allows importing several modules on the same line.\n",
        "\n",
        "```\n",
        "import os, sys, time\n",
        "print(time.asctime())\n",
        "```\n",
        "\n",
        "**Renaming**\n",
        "\n",
        "During importing we can rename the name of the module.\n",
        "\n",
        "```\n",
        "from my_module import my_function as renamed_function\n",
        "\n",
        "renamed_function()\n",
        "```\n",
        "\n",
        "In the event that Python did not find a module with the specified name, an exception of type **ImportError** would be thrown.\n",
        "\n",
        "Finally, it is interesting to comment that in Python modules are also objects; of type module in particular. Of course this means that they can have attributes and methods. One of its attributes, __name__, is often used to include executable code in a module but only run if the module is called as a program, and not when imported. To achieve this, it is enough to know that when the module is executed directly __name__ has the value \"__main__\", while when it is imported, the value of __name__ is the name of the module.\n",
        "\n",
        "```\n",
        "print('It is always shown')\n",
        "\n",
        "if __name__ == '__main__':\n",
        "    print('It is shown if it is not import')\n",
        "```"
      ]
    },
    {
      "cell_type": "markdown",
      "metadata": {
        "id": "k8prhk0sQ08s"
      },
      "source": [
        "## Packages\n",
        "If modules are used to organize code, packages are used to organize modules. Packages are special types of modules (both are of type module) that allow grouping related modules. While modules correspond on a physical level to files, packages are represented by directories.\n"
      ]
    },
    {
      "cell_type": "markdown",
      "metadata": {
        "id": "cPZErOvPTXpv"
      },
      "source": [
        "### Creating packages\n",
        "To make Python process a directory as a package, you need to create a file __init__.py in that folder. In this file you can define elements that belong to that package.\n",
        "\n",
        "### Importing packages\n",
        "\n",
        "Like modules, import from-import and the character . to separate packages, sub-packages and modules.\n",
        "\n",
        "```\n",
        "import pack.subpack.module\n",
        "paq.subpack.module.func ()\n",
        "```"
      ]
    },
    {
      "cell_type": "markdown",
      "metadata": {
        "id": "-gVRMgH3UbJy"
      },
      "source": [
        "## Resources\n",
        "\n",
        "https://www.utic.edu.py/citil/images/Manuales/Python_para_todos.pdf\n",
        "\n",
        "https://github.com/Asabeneh/30-Days-Of-Python/blob/master/12_Day_Modules/12_modules.md"
      ]
    }
  ]
}