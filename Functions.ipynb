{
  "nbformat": 4,
  "nbformat_minor": 0,
  "metadata": {
    "colab": {
      "name": "Functions.ipynb",
      "provenance": [],
      "authorship_tag": "ABX9TyNNMGOlOQ5CfKgpBvZKAb9c",
      "include_colab_link": true
    },
    "kernelspec": {
      "name": "python3",
      "display_name": "Python 3"
    }
  },
  "cells": [
    {
      "cell_type": "markdown",
      "metadata": {
        "id": "view-in-github",
        "colab_type": "text"
      },
      "source": [
        "<a href=\"https://colab.research.google.com/github/Lin777/PythonAndOtherTools/blob/master/Functions.ipynb\" target=\"_parent\"><img src=\"https://colab.research.google.com/assets/colab-badge.svg\" alt=\"Open In Colab\"/></a>"
      ]
    },
    {
      "cell_type": "markdown",
      "metadata": {
        "id": "dGhLhvPkCHbs"
      },
      "source": [
        "# Functions\n",
        "\n",
        "A function is a block of organized, reusable code that is used to perform a single, related action. Functions provide better modularity for your application and a high degree of code reusing.\n",
        "\n",
        "As you already know, Python gives you many built-in functions like print(), etc. but you can also create your own functions. These functions are called user-defined functions."
      ]
    },
    {
      "cell_type": "markdown",
      "metadata": {
        "id": "Gw6X3ldvC854"
      },
      "source": [
        "## Defining and calling a Function\n",
        "\n",
        "You can define functions to provide the required functionality. Here are simple rules to define a function in Python.\n",
        "\n",
        "- Function blocks begin with the keyword def followed by the function name and parentheses ( ( ) ).\n",
        "\n",
        "- Any input parameters or arguments should be placed within these parentheses. You can also define parameters inside these parentheses.\n",
        "\n",
        "- The first statement of a function can be an optional statement - the documentation string of the function or docstring.\n",
        "\n",
        "- The code block within every function starts with a colon (:) and is indented.\n",
        "\n",
        "- The statement return [expression] exits a function, optionally passing back an expression to the caller. A return statement with no arguments is the same as return None.\n",
        "``` \n",
        "# syntax\n",
        "# Declaring a function\n",
        "def function_name():\n",
        "    codes\n",
        "    codes\n",
        "# Calling a function\n",
        "function_name()\n",
        "```\n"
      ]
    },
    {
      "cell_type": "markdown",
      "metadata": {
        "id": "9YYsuwjYDYvg"
      },
      "source": [
        "## Function without Parameters\n",
        "\n",
        "Function can be declared without parameters."
      ]
    },
    {
      "cell_type": "code",
      "metadata": {
        "id": "H080Vcv6CCxj",
        "outputId": "090a1b79-ab04-413c-e463-3257252c1568",
        "colab": {
          "base_uri": "https://localhost:8080/"
        }
      },
      "source": [
        "# Example\n",
        "def generate_full_name ():\n",
        "    first_name = 'Evelyn'\n",
        "    last_name = 'Cusi'\n",
        "    space = ' '\n",
        "    full_name = first_name + space + last_name\n",
        "    print(full_name)\n",
        "generate_full_name () # calling a function\n",
        "\n",
        "def add_two_numbers ():\n",
        "    num_one = 2\n",
        "    num_two = 3\n",
        "    total = num_one + num_two\n",
        "    print(total)\n",
        "add_two_numbers()"
      ],
      "execution_count": 2,
      "outputs": [
        {
          "output_type": "stream",
          "text": [
            "Evelyn Cusi\n",
            "5\n"
          ],
          "name": "stdout"
        }
      ]
    },
    {
      "cell_type": "markdown",
      "metadata": {
        "id": "rPmWIOELDl6x"
      },
      "source": [
        "## Function Returning a Value - Part 1\n",
        "\n",
        "Function can also return values, if a function does not return any, the value of the function is None. Lets rewrite the above functions using return. From now on, we get a value when calling the function, instead of printing it."
      ]
    },
    {
      "cell_type": "code",
      "metadata": {
        "id": "l_DmkN1ZDXr_",
        "outputId": "edb61064-d37a-4538-e61d-b41d7c097c00",
        "colab": {
          "base_uri": "https://localhost:8080/"
        }
      },
      "source": [
        "# Example\n",
        "\n",
        "def generate_full_name ():\n",
        "    first_name = 'Evelyn'\n",
        "    last_name = 'Cusi'\n",
        "    space = ' '\n",
        "    full_name = first_name + space + last_name\n",
        "    return full_name\n",
        "print(generate_full_name())\n",
        "\n",
        "def add_two_numbers ():\n",
        "    num_one = 2\n",
        "    num_two = 3\n",
        "    total = num_one + num_two\n",
        "    return total\n",
        "print(add_two_numbers())"
      ],
      "execution_count": 3,
      "outputs": [
        {
          "output_type": "stream",
          "text": [
            "Evelyn Cusi\n",
            "5\n"
          ],
          "name": "stdout"
        }
      ]
    },
    {
      "cell_type": "markdown",
      "metadata": {
        "id": "Zh0BtNYmCqP3"
      },
      "source": [
        "## Function with Parameters\n",
        "\n",
        "In a function we can pass different data types(number, string, boolean, list, tuple, dictionary or set) as a parameter\n",
        "\n",
        "- **Single Parameter:** If our function takes a parameter we should call our function with an argument\n",
        "```\n",
        "# syntax\n",
        "  # Declaring a function\n",
        "  def function_name(parameter):\n",
        "    codes\n",
        "    codes\n",
        "  # Calling function\n",
        "  function_name(parameter)\n",
        "```"
      ]
    },
    {
      "cell_type": "code",
      "metadata": {
        "id": "ciH1Mu9nDzCf",
        "outputId": "54ae7a4a-1710-467b-9dd6-20f6830c49cc",
        "colab": {
          "base_uri": "https://localhost:8080/"
        }
      },
      "source": [
        "# Example\n",
        "\n",
        "def greetings (name):\n",
        "    message = name + ', welcome to Python for Everyone!'\n",
        "    return message\n",
        "\n",
        "print(greetings('Evelyn'))\n",
        "\n",
        "def add_ten(num):\n",
        "    ten = 10\n",
        "    return num + ten\n",
        "print(add_ten(90))"
      ],
      "execution_count": 4,
      "outputs": [
        {
          "output_type": "stream",
          "text": [
            "Evelyn, welcome to Python for Everyone!\n",
            "100\n"
          ],
          "name": "stdout"
        }
      ]
    },
    {
      "cell_type": "markdown",
      "metadata": {
        "id": "1-gpS36vDzR0"
      },
      "source": [
        "- **Two Parameter:** A function may or may not have a parameter or parameters. A function may have two or more parameters. If our function takes parameters we should call it with arguments. Let's check a function with two parameters:\n",
        "\n",
        "```\n",
        "# syntax\n",
        "  # Declaring a function\n",
        "  def function_name(para1, para2):\n",
        "    codes\n",
        "    codes\n",
        "  # Calling function\n",
        "  function_name(arg1, arg2)\n",
        "```"
      ]
    },
    {
      "cell_type": "code",
      "metadata": {
        "id": "YCM2crl9Dzmg",
        "outputId": "d4c6cab1-ad77-4bfe-b484-4ec64342651f",
        "colab": {
          "base_uri": "https://localhost:8080/"
        }
      },
      "source": [
        "# Example\n",
        "\n",
        "def generate_full_name (first_name, last_name):\n",
        "    space = ' '\n",
        "    full_name = first_name + space + last_name\n",
        "    return full_name\n",
        "print('Full Name: ', generate_full_name('Evelyn','Cusi'))\n",
        "\n",
        "def sum_two_numbers (num_one, num_two):\n",
        "    sum = num_one + num_two\n",
        "    return sum\n",
        "print('Sum of two numbers: ', sum_two_numbers(1, 9))\n"
      ],
      "execution_count": 6,
      "outputs": [
        {
          "output_type": "stream",
          "text": [
            "Full Name:  Evelyn Cusi\n",
            "Sum of two numbers:  10\n"
          ],
          "name": "stdout"
        }
      ]
    },
    {
      "cell_type": "markdown",
      "metadata": {
        "id": "cXSFGwaDEU0_"
      },
      "source": [
        "## Passing Arguments with Key and Value\n",
        "\n",
        "If we pass the arguments with key and value, the order of the arguments does not matter.\n",
        "```\n",
        "# syntax\n",
        "# Declaring a function\n",
        "def function_name(para1, para2):\n",
        "    codes\n",
        "    codes\n",
        "# Calling function\n",
        "function_name(para1='John', para2='Doe') # the order of arguments does not matter here\n",
        "```"
      ]
    },
    {
      "cell_type": "code",
      "metadata": {
        "id": "9blT59mCEVB0",
        "outputId": "0da882f3-b85e-4562-e67a-435215674f3c",
        "colab": {
          "base_uri": "https://localhost:8080/"
        }
      },
      "source": [
        "# Example\n",
        "\n",
        "def print_fullname(firstname, lastname):\n",
        "    space = ' '\n",
        "    full_name = firstname  + space + lastname\n",
        "    print(full_name)\n",
        "print_fullname(firstname='Evelyn', lastname='Cusi')\n",
        "\n",
        "def add_two_numbers (num1, num2):\n",
        "    total = num1 + num2\n",
        "    print(total)\n",
        "add_two_numbers(num2=3, num1=2) # Order does not matter"
      ],
      "execution_count": 7,
      "outputs": [
        {
          "output_type": "stream",
          "text": [
            "Evelyn Cusi\n",
            "5\n"
          ],
          "name": "stdout"
        }
      ]
    },
    {
      "cell_type": "markdown",
      "metadata": {
        "id": "tEdlE70VEVPF"
      },
      "source": [
        "## Function with Default Parameters\n",
        "\n",
        "Sometimes we pass default values to parameters, when we invoke the function. If we do not pass arguments when calling the function, their default values will be used.\n",
        "```\n",
        "# syntax\n",
        "# Declaring a function\n",
        "def function_name(param = value):\n",
        "    codes\n",
        "    codes\n",
        "# Calling function\n",
        "function_name()\n",
        "function_name(arg)\n",
        "```"
      ]
    },
    {
      "cell_type": "code",
      "metadata": {
        "id": "v7M2SVIkEVdt",
        "outputId": "c49af36b-df35-4a28-dbb7-5fbac6c07574",
        "colab": {
          "base_uri": "https://localhost:8080/"
        }
      },
      "source": [
        "# Example\n",
        "def generate_full_name (first_name = 'Evelyn', last_name = 'Cusi'):\n",
        "    space = ' '\n",
        "    full_name = first_name + space + last_name\n",
        "    return full_name\n",
        "\n",
        "print(generate_full_name())\n",
        "print(generate_full_name('Joe','Smith'))"
      ],
      "execution_count": 8,
      "outputs": [
        {
          "output_type": "stream",
          "text": [
            "Evelyn Cusi\n",
            "Joe Smith\n"
          ],
          "name": "stdout"
        }
      ]
    },
    {
      "cell_type": "markdown",
      "metadata": {
        "id": "Cj_PVh3RFk57"
      },
      "source": [
        "## Arbitrary Number of Arguments\n",
        "\n",
        "If we do not know the number of arguments we pass to our function, we can create a function which can take arbitrary number of arguments by adding * before the parameter name.\n",
        "```\n",
        "# syntax\n",
        "# Declaring a function\n",
        "def function_name(*args):\n",
        "    codes\n",
        "    codes\n",
        "# Calling function\n",
        "function_name(param1, param2, param3,..)\n",
        "```"
      ]
    },
    {
      "cell_type": "code",
      "metadata": {
        "id": "pyn68NTIFlIK",
        "outputId": "0a67c7c9-d168-422b-98d5-eb173b55ac6d",
        "colab": {
          "base_uri": "https://localhost:8080/"
        }
      },
      "source": [
        "# Example\n",
        "\n",
        "def sum_all_nums(*nums):\n",
        "    total = 0\n",
        "    for num in nums:\n",
        "        total += num     # same as total = total + num \n",
        "    return total\n",
        "print(sum_all_nums(2, 3, 5))"
      ],
      "execution_count": 9,
      "outputs": [
        {
          "output_type": "stream",
          "text": [
            "10\n"
          ],
          "name": "stdout"
        }
      ]
    },
    {
      "cell_type": "markdown",
      "metadata": {
        "id": "EOkhzM7AFlVn"
      },
      "source": [
        "## Default and Arbitrary Number of Parameters in Functions"
      ]
    },
    {
      "cell_type": "code",
      "metadata": {
        "id": "Caia80LTFlh2",
        "outputId": "f0ee95cf-2928-40f2-8598-1deca5750d53",
        "colab": {
          "base_uri": "https://localhost:8080/"
        }
      },
      "source": [
        "# Example\n",
        "\n",
        "def generate_groups (team,*args):\n",
        "    print(team)\n",
        "    for i in args:\n",
        "        print(i)\n",
        "generate_groups('Team-1','Joe','Evelyn','Dave','Lin')"
      ],
      "execution_count": 11,
      "outputs": [
        {
          "output_type": "stream",
          "text": [
            "Team-1\n",
            "Joe\n",
            "Evelyn\n",
            "Dave\n",
            "Lin\n"
          ],
          "name": "stdout"
        }
      ]
    },
    {
      "cell_type": "markdown",
      "metadata": {
        "id": "NJ0c2hjwFlwi"
      },
      "source": [
        "## Function as a Parameter of Another Function\n",
        "\n"
      ]
    },
    {
      "cell_type": "code",
      "metadata": {
        "id": "OQus0n7EFmAX",
        "outputId": "78a6dace-90d5-4f0d-85e7-61ef583c02f1",
        "colab": {
          "base_uri": "https://localhost:8080/"
        }
      },
      "source": [
        "# Example\n",
        "\n",
        "#You can pass functions around as parameters\n",
        "def square_number (n):\n",
        "    return n * n\n",
        "def do_something(f, x):\n",
        "    return f(x)\n",
        "print(do_something(square_number, 3))"
      ],
      "execution_count": 12,
      "outputs": [
        {
          "output_type": "stream",
          "text": [
            "9\n"
          ],
          "name": "stdout"
        }
      ]
    },
    {
      "cell_type": "markdown",
      "metadata": {
        "id": "nH7zdOUnCqrz"
      },
      "source": [
        "## Resources\n",
        "\n",
        "https://github.com/Asabeneh/30-Days-Of-Python/blob/master/11_Day_Functions/11_functions.md\n",
        "\n",
        "https://www.tutorialspoint.com/python/python_functions.htm"
      ]
    }
  ]
}