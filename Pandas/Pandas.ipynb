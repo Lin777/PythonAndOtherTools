{
  "nbformat": 4,
  "nbformat_minor": 0,
  "metadata": {
    "colab": {
      "name": "Pandas.ipynb",
      "provenance": [],
      "collapsed_sections": [],
      "toc_visible": true,
      "authorship_tag": "ABX9TyNgGG0fI5s9jpX51RqpCMc6",
      "include_colab_link": true
    },
    "kernelspec": {
      "name": "python3",
      "display_name": "Python 3"
    },
    "language_info": {
      "name": "python"
    }
  },
  "cells": [
    {
      "cell_type": "markdown",
      "metadata": {
        "id": "view-in-github",
        "colab_type": "text"
      },
      "source": [
        "<a href=\"https://colab.research.google.com/github/Lin777/PythonAndOtherTools/blob/master/Pandas/Pandas.ipynb\" target=\"_parent\"><img src=\"https://colab.research.google.com/assets/colab-badge.svg\" alt=\"Open In Colab\"/></a>"
      ]
    },
    {
      "cell_type": "markdown",
      "metadata": {
        "id": "idi9W87RoS1H"
      },
      "source": [
        "# Pandas\n",
        "\n",
        "(Todo el material se basa en el contenido de este repositorio en github: https://github.com/adeshpande3/Pandas-Tutorial/blob/master/Pandas%20Tutorial.ipynb y en el contenido de esta pagina: https://pandas.pydata.org/pandas-docs/stable/user_guide/10min.html#)\n",
        "\n",
        "Pandas es una biblioteca de codigo abierto con licencia **BSD** que proporciona estructuras de datos dealto rendimiento y faciles de usar,y herramientas de analisis de datos para el lenguaje de programacion Python.\n",
        "\n",
        "Pandas es un proyecto patrocinado por **NumFOCUS**\n",
        "\n",
        "Importamos la biblioteca como a continuacion:"
      ]
    },
    {
      "cell_type": "code",
      "metadata": {
        "colab": {
          "base_uri": "https://localhost:8080/",
          "height": 35
        },
        "id": "UQM3sJhJoN8d",
        "outputId": "fccc8f52-2c9a-4b54-dec9-ad82b48ee0a5"
      },
      "source": [
        "from  __future__ import print_function\n",
        "\n",
        "import pandas as pd\n",
        "import numpy as np\n",
        "pd.__version__"
      ],
      "execution_count": 1,
      "outputs": [
        {
          "output_type": "execute_result",
          "data": {
            "application/vnd.google.colaboratory.intrinsic+json": {
              "type": "string"
            },
            "text/plain": [
              "'1.1.5'"
            ]
          },
          "metadata": {
            "tags": []
          },
          "execution_count": 1
        }
      ]
    },
    {
      "cell_type": "markdown",
      "metadata": {
        "id": "iThkUM7Xqg6K"
      },
      "source": [
        "## 1. Creacion de objetos\n",
        "\n",
        "Las estructuras de datos principales en pandas estan implementadas en dos clases:\n",
        "\n",
        "* **DataFrame**, que puedes imaginar como una tabla de datos relacional, con filas y columnas con nombre\n",
        "* **Series**, que es una columna simple. Una clase DataFrame incluye una o mas Series y un nombre para cada Serie.\n",
        "\n",
        "El marco de datos es una abstracction que se usa normalmente para manipular datos. Hay implementaciones similares en Spark y R.\n",
        "\n"
      ]
    },
    {
      "cell_type": "markdown",
      "metadata": {
        "id": "szN-AC8Zo8PZ"
      },
      "source": [
        "### Series\n",
        "\n",
        "Una manera de crear Series es contruir un objeto de Series. Por ejemplo:"
      ]
    },
    {
      "cell_type": "code",
      "metadata": {
        "colab": {
          "base_uri": "https://localhost:8080/"
        },
        "id": "bXt60DgEqbIH",
        "outputId": "15c39331-f0df-4965-b4af-60e690288874"
      },
      "source": [
        "pd.Series(['Bolivia', 'Peru', np.nan, 'Paraguay'])"
      ],
      "execution_count": 2,
      "outputs": [
        {
          "output_type": "execute_result",
          "data": {
            "text/plain": [
              "0     Bolivia\n",
              "1        Peru\n",
              "2         NaN\n",
              "3    Paraguay\n",
              "dtype: object"
            ]
          },
          "metadata": {
            "tags": []
          },
          "execution_count": 2
        }
      ]
    },
    {
      "cell_type": "markdown",
      "metadata": {
        "id": "Z15I779Rr4VR"
      },
      "source": [
        "### DataFrame\n",
        "\n",
        "Estos objetos pueden crearse al enviar un Dict que asigne nombres de columnas de string a sus Series correspondientes. Si las Series no coinciden con la longitud, los valores que faltes se completan con valores NA/NaN.\n",
        "\n",
        "Ejemplo:"
      ]
    },
    {
      "cell_type": "code",
      "metadata": {
        "colab": {
          "base_uri": "https://localhost:8080/"
        },
        "id": "VOI0Ul-0rgqa",
        "outputId": "9a07ee31-f5b9-4688-83c7-d9dd6a95e327"
      },
      "source": [
        "dates = pd.date_range(\"20210101\", periods=6)\n",
        "dates"
      ],
      "execution_count": 3,
      "outputs": [
        {
          "output_type": "execute_result",
          "data": {
            "text/plain": [
              "DatetimeIndex(['2021-01-01', '2021-01-02', '2021-01-03', '2021-01-04',\n",
              "               '2021-01-05', '2021-01-06'],\n",
              "              dtype='datetime64[ns]', freq='D')"
            ]
          },
          "metadata": {
            "tags": []
          },
          "execution_count": 3
        }
      ]
    },
    {
      "cell_type": "code",
      "metadata": {
        "colab": {
          "base_uri": "https://localhost:8080/",
          "height": 235
        },
        "id": "Ex7pmxFQyxwp",
        "outputId": "ba62ec51-22d4-4c3b-b85a-a18d4d91467b"
      },
      "source": [
        "# Creating a DataFrame by passing a NumPy array, with a datetime index and labeled columns\n",
        "df = pd.DataFrame(np.random.randn(6,4), index=dates, columns=list(\"ABCD\"))\n",
        "df"
      ],
      "execution_count": 4,
      "outputs": [
        {
          "output_type": "execute_result",
          "data": {
            "text/html": [
              "<div>\n",
              "<style scoped>\n",
              "    .dataframe tbody tr th:only-of-type {\n",
              "        vertical-align: middle;\n",
              "    }\n",
              "\n",
              "    .dataframe tbody tr th {\n",
              "        vertical-align: top;\n",
              "    }\n",
              "\n",
              "    .dataframe thead th {\n",
              "        text-align: right;\n",
              "    }\n",
              "</style>\n",
              "<table border=\"1\" class=\"dataframe\">\n",
              "  <thead>\n",
              "    <tr style=\"text-align: right;\">\n",
              "      <th></th>\n",
              "      <th>A</th>\n",
              "      <th>B</th>\n",
              "      <th>C</th>\n",
              "      <th>D</th>\n",
              "    </tr>\n",
              "  </thead>\n",
              "  <tbody>\n",
              "    <tr>\n",
              "      <th>2021-01-01</th>\n",
              "      <td>-1.271798</td>\n",
              "      <td>0.012564</td>\n",
              "      <td>-0.720289</td>\n",
              "      <td>0.245973</td>\n",
              "    </tr>\n",
              "    <tr>\n",
              "      <th>2021-01-02</th>\n",
              "      <td>1.096065</td>\n",
              "      <td>1.074642</td>\n",
              "      <td>0.175375</td>\n",
              "      <td>0.752752</td>\n",
              "    </tr>\n",
              "    <tr>\n",
              "      <th>2021-01-03</th>\n",
              "      <td>0.342935</td>\n",
              "      <td>-0.570162</td>\n",
              "      <td>-0.477419</td>\n",
              "      <td>0.574960</td>\n",
              "    </tr>\n",
              "    <tr>\n",
              "      <th>2021-01-04</th>\n",
              "      <td>-0.039649</td>\n",
              "      <td>0.054296</td>\n",
              "      <td>-0.140324</td>\n",
              "      <td>-1.454627</td>\n",
              "    </tr>\n",
              "    <tr>\n",
              "      <th>2021-01-05</th>\n",
              "      <td>0.836766</td>\n",
              "      <td>-0.691782</td>\n",
              "      <td>-0.578704</td>\n",
              "      <td>-1.098799</td>\n",
              "    </tr>\n",
              "    <tr>\n",
              "      <th>2021-01-06</th>\n",
              "      <td>1.053084</td>\n",
              "      <td>0.443680</td>\n",
              "      <td>-1.160485</td>\n",
              "      <td>-1.001153</td>\n",
              "    </tr>\n",
              "  </tbody>\n",
              "</table>\n",
              "</div>"
            ],
            "text/plain": [
              "                   A         B         C         D\n",
              "2021-01-01 -1.271798  0.012564 -0.720289  0.245973\n",
              "2021-01-02  1.096065  1.074642  0.175375  0.752752\n",
              "2021-01-03  0.342935 -0.570162 -0.477419  0.574960\n",
              "2021-01-04 -0.039649  0.054296 -0.140324 -1.454627\n",
              "2021-01-05  0.836766 -0.691782 -0.578704 -1.098799\n",
              "2021-01-06  1.053084  0.443680 -1.160485 -1.001153"
            ]
          },
          "metadata": {
            "tags": []
          },
          "execution_count": 4
        }
      ]
    },
    {
      "cell_type": "code",
      "metadata": {
        "colab": {
          "base_uri": "https://localhost:8080/",
          "height": 173
        },
        "id": "e3z4UFS1y_QJ",
        "outputId": "663ea2d9-5e87-4c31-d83f-034e4443e94e"
      },
      "source": [
        "# Creating a DataFrame by passing a dict of objects that can be converted to series-like\n",
        "df2 = pd.DataFrame({\"A\": 1.0,\n",
        "                    \"B\": pd.Timestamp(\"20130102\"),\n",
        "                    \"C\": pd.Series(1, index=list(range(4)), dtype=\"float32\"),\n",
        "                    \"D\": np.array([3] * 4, dtype=\"int32\"),\n",
        "                    \"E\": pd.Categorical([\"test\", \"train\", \"test\", \"train\"]),\n",
        "                    \"F\": \"foo\",})\n",
        "df2"
      ],
      "execution_count": 5,
      "outputs": [
        {
          "output_type": "execute_result",
          "data": {
            "text/html": [
              "<div>\n",
              "<style scoped>\n",
              "    .dataframe tbody tr th:only-of-type {\n",
              "        vertical-align: middle;\n",
              "    }\n",
              "\n",
              "    .dataframe tbody tr th {\n",
              "        vertical-align: top;\n",
              "    }\n",
              "\n",
              "    .dataframe thead th {\n",
              "        text-align: right;\n",
              "    }\n",
              "</style>\n",
              "<table border=\"1\" class=\"dataframe\">\n",
              "  <thead>\n",
              "    <tr style=\"text-align: right;\">\n",
              "      <th></th>\n",
              "      <th>A</th>\n",
              "      <th>B</th>\n",
              "      <th>C</th>\n",
              "      <th>D</th>\n",
              "      <th>E</th>\n",
              "      <th>F</th>\n",
              "    </tr>\n",
              "  </thead>\n",
              "  <tbody>\n",
              "    <tr>\n",
              "      <th>0</th>\n",
              "      <td>1.0</td>\n",
              "      <td>2013-01-02</td>\n",
              "      <td>1.0</td>\n",
              "      <td>3</td>\n",
              "      <td>test</td>\n",
              "      <td>foo</td>\n",
              "    </tr>\n",
              "    <tr>\n",
              "      <th>1</th>\n",
              "      <td>1.0</td>\n",
              "      <td>2013-01-02</td>\n",
              "      <td>1.0</td>\n",
              "      <td>3</td>\n",
              "      <td>train</td>\n",
              "      <td>foo</td>\n",
              "    </tr>\n",
              "    <tr>\n",
              "      <th>2</th>\n",
              "      <td>1.0</td>\n",
              "      <td>2013-01-02</td>\n",
              "      <td>1.0</td>\n",
              "      <td>3</td>\n",
              "      <td>test</td>\n",
              "      <td>foo</td>\n",
              "    </tr>\n",
              "    <tr>\n",
              "      <th>3</th>\n",
              "      <td>1.0</td>\n",
              "      <td>2013-01-02</td>\n",
              "      <td>1.0</td>\n",
              "      <td>3</td>\n",
              "      <td>train</td>\n",
              "      <td>foo</td>\n",
              "    </tr>\n",
              "  </tbody>\n",
              "</table>\n",
              "</div>"
            ],
            "text/plain": [
              "     A          B    C  D      E    F\n",
              "0  1.0 2013-01-02  1.0  3   test  foo\n",
              "1  1.0 2013-01-02  1.0  3  train  foo\n",
              "2  1.0 2013-01-02  1.0  3   test  foo\n",
              "3  1.0 2013-01-02  1.0  3  train  foo"
            ]
          },
          "metadata": {
            "tags": []
          },
          "execution_count": 5
        }
      ]
    },
    {
      "cell_type": "markdown",
      "metadata": {
        "id": "f17O4x3Bzuzo"
      },
      "source": [
        "The columns of the resulting DataFrame have different dtypes."
      ]
    },
    {
      "cell_type": "code",
      "metadata": {
        "colab": {
          "base_uri": "https://localhost:8080/"
        },
        "id": "FNomlPA6zjS4",
        "outputId": "03e40e46-1fa7-4bd6-b06a-72275ab4b17a"
      },
      "source": [
        "df2.dtypes"
      ],
      "execution_count": 6,
      "outputs": [
        {
          "output_type": "execute_result",
          "data": {
            "text/plain": [
              "A           float64\n",
              "B    datetime64[ns]\n",
              "C           float32\n",
              "D             int32\n",
              "E          category\n",
              "F            object\n",
              "dtype: object"
            ]
          },
          "metadata": {
            "tags": []
          },
          "execution_count": 6
        }
      ]
    },
    {
      "cell_type": "markdown",
      "metadata": {
        "id": "b3ydgAw20crM"
      },
      "source": [
        "## 2. Loading Data\n",
        "\n",
        "I love cats, so I will use a dataset of cats (You can download this datasets here: https://data.gov.au/data/dataset?tags=cats)\n",
        "\n",
        "I will use two datasets:\n",
        "\n",
        "**Registered cats - Greater Dandenong**\n",
        "  * Locality\n",
        "  * Post code\n",
        "  * Animal type\n",
        "  * Primary breed\n",
        "  * Primary colour\n",
        "  * Gender\n",
        "\n",
        "**Registered dogs and cats - Ballarat**\n",
        "  * Age\n",
        "  * Animal name\n",
        "  * Breed\n",
        "  * Colour\n",
        "  * Postcode\n",
        "  * Suburb\n",
        "  * Type (Cat or Dog)\n",
        "  * Registered\n"
      ]
    },
    {
      "cell_type": "code",
      "metadata": {
        "colab": {
          "base_uri": "https://localhost:8080/"
        },
        "id": "3_kxONoFz4By",
        "outputId": "a2340846-065b-4782-ccbc-dc7bcdf26782"
      },
      "source": [
        "# Mount Google Drive\n",
        "from google.colab import drive\n",
        "drive.mount('/content/gdrive')"
      ],
      "execution_count": 9,
      "outputs": [
        {
          "output_type": "stream",
          "text": [
            "Mounted at /content/gdrive\n"
          ],
          "name": "stdout"
        }
      ]
    },
    {
      "cell_type": "code",
      "metadata": {
        "id": "LiMWA5Ou5y49"
      },
      "source": [
        "# read csv with pandas\n",
        "df_cats = pd.read_csv('gdrive/My Drive/ColabData/Pandas/registered_cats.csv')"
      ],
      "execution_count": 10,
      "outputs": []
    },
    {
      "cell_type": "code",
      "metadata": {
        "id": "R_X_BpFA7KSi"
      },
      "source": [
        "# read csv with pandas\n",
        "df_cats_dogs = pd.read_csv('gdrive/My Drive/ColabData/Pandas/registered_cats_and_dogs.csv' , encoding='latin-1')"
      ],
      "execution_count": 11,
      "outputs": []
    },
    {
      "cell_type": "markdown",
      "metadata": {
        "id": "bSae_XrI79CC"
      },
      "source": [
        "## 3. The basics\n",
        "\n"
      ]
    },
    {
      "cell_type": "markdown",
      "metadata": {
        "id": "trUmzsorpDZE"
      },
      "source": [
        "### Head and Tail\n",
        "\n",
        "We can use the function head() to see the first couple rows of the dataframe (or the function tail() to see the last few rows)."
      ]
    },
    {
      "cell_type": "code",
      "metadata": {
        "colab": {
          "base_uri": "https://localhost:8080/",
          "height": 204
        },
        "id": "NXHHKOCe7ghC",
        "outputId": "7fc80f20-53fe-41f8-a4de-d4c261a3fbf6"
      },
      "source": [
        "df_cats.head()"
      ],
      "execution_count": 12,
      "outputs": [
        {
          "output_type": "execute_result",
          "data": {
            "text/html": [
              "<div>\n",
              "<style scoped>\n",
              "    .dataframe tbody tr th:only-of-type {\n",
              "        vertical-align: middle;\n",
              "    }\n",
              "\n",
              "    .dataframe tbody tr th {\n",
              "        vertical-align: top;\n",
              "    }\n",
              "\n",
              "    .dataframe thead th {\n",
              "        text-align: right;\n",
              "    }\n",
              "</style>\n",
              "<table border=\"1\" class=\"dataframe\">\n",
              "  <thead>\n",
              "    <tr style=\"text-align: right;\">\n",
              "      <th></th>\n",
              "      <th>Locality</th>\n",
              "      <th>Postcode</th>\n",
              "      <th>Animal_Type</th>\n",
              "      <th>Breed_Description</th>\n",
              "      <th>Colour_Description</th>\n",
              "      <th>GENDER</th>\n",
              "    </tr>\n",
              "  </thead>\n",
              "  <tbody>\n",
              "    <tr>\n",
              "      <th>0</th>\n",
              "      <td>DANDENONG NORTH</td>\n",
              "      <td>3175</td>\n",
              "      <td>Cat</td>\n",
              "      <td>DOMSH</td>\n",
              "      <td>TAB</td>\n",
              "      <td>F</td>\n",
              "    </tr>\n",
              "    <tr>\n",
              "      <th>1</th>\n",
              "      <td>DANDENONG NORTH</td>\n",
              "      <td>3175</td>\n",
              "      <td>Cat</td>\n",
              "      <td>DOMLH</td>\n",
              "      <td>BLAWHI</td>\n",
              "      <td>M</td>\n",
              "    </tr>\n",
              "    <tr>\n",
              "      <th>2</th>\n",
              "      <td>DANDENONG</td>\n",
              "      <td>3175</td>\n",
              "      <td>Cat</td>\n",
              "      <td>DOMSH</td>\n",
              "      <td>TABWHI</td>\n",
              "      <td>F</td>\n",
              "    </tr>\n",
              "    <tr>\n",
              "      <th>3</th>\n",
              "      <td>SPRINGVALE</td>\n",
              "      <td>3171</td>\n",
              "      <td>Cat</td>\n",
              "      <td>DOM</td>\n",
              "      <td>TORWHI</td>\n",
              "      <td>F</td>\n",
              "    </tr>\n",
              "    <tr>\n",
              "      <th>4</th>\n",
              "      <td>DANDENONG</td>\n",
              "      <td>3175</td>\n",
              "      <td>Cat</td>\n",
              "      <td>DOM</td>\n",
              "      <td>WHIGRE</td>\n",
              "      <td>M</td>\n",
              "    </tr>\n",
              "  </tbody>\n",
              "</table>\n",
              "</div>"
            ],
            "text/plain": [
              "          Locality  Postcode  ... Colour_Description GENDER\n",
              "0  DANDENONG NORTH      3175  ...                TAB      F\n",
              "1  DANDENONG NORTH      3175  ...             BLAWHI      M\n",
              "2        DANDENONG      3175  ...             TABWHI      F\n",
              "3       SPRINGVALE      3171  ...             TORWHI      F\n",
              "4        DANDENONG      3175  ...             WHIGRE      M\n",
              "\n",
              "[5 rows x 6 columns]"
            ]
          },
          "metadata": {
            "tags": []
          },
          "execution_count": 12
        }
      ]
    },
    {
      "cell_type": "code",
      "metadata": {
        "colab": {
          "base_uri": "https://localhost:8080/",
          "height": 204
        },
        "id": "mNcLKfea8Xd-",
        "outputId": "f1fa36f0-520d-4a2c-b6b1-25504b2ca0c7"
      },
      "source": [
        "df_cats.tail()"
      ],
      "execution_count": 13,
      "outputs": [
        {
          "output_type": "execute_result",
          "data": {
            "text/html": [
              "<div>\n",
              "<style scoped>\n",
              "    .dataframe tbody tr th:only-of-type {\n",
              "        vertical-align: middle;\n",
              "    }\n",
              "\n",
              "    .dataframe tbody tr th {\n",
              "        vertical-align: top;\n",
              "    }\n",
              "\n",
              "    .dataframe thead th {\n",
              "        text-align: right;\n",
              "    }\n",
              "</style>\n",
              "<table border=\"1\" class=\"dataframe\">\n",
              "  <thead>\n",
              "    <tr style=\"text-align: right;\">\n",
              "      <th></th>\n",
              "      <th>Locality</th>\n",
              "      <th>Postcode</th>\n",
              "      <th>Animal_Type</th>\n",
              "      <th>Breed_Description</th>\n",
              "      <th>Colour_Description</th>\n",
              "      <th>GENDER</th>\n",
              "    </tr>\n",
              "  </thead>\n",
              "  <tbody>\n",
              "    <tr>\n",
              "      <th>3480</th>\n",
              "      <td>SPRINGVALE</td>\n",
              "      <td>3171</td>\n",
              "      <td>Cat</td>\n",
              "      <td>RAG</td>\n",
              "      <td>SEAL</td>\n",
              "      <td>M</td>\n",
              "    </tr>\n",
              "    <tr>\n",
              "      <th>3481</th>\n",
              "      <td>NOBLE PARK</td>\n",
              "      <td>3174</td>\n",
              "      <td>Cat</td>\n",
              "      <td>DOMM</td>\n",
              "      <td>BLACK</td>\n",
              "      <td>F</td>\n",
              "    </tr>\n",
              "    <tr>\n",
              "      <th>3482</th>\n",
              "      <td>NOBLE PARK</td>\n",
              "      <td>3174</td>\n",
              "      <td>Cat</td>\n",
              "      <td>DOMM</td>\n",
              "      <td>WHIGIN</td>\n",
              "      <td>M</td>\n",
              "    </tr>\n",
              "    <tr>\n",
              "      <th>3483</th>\n",
              "      <td>SPRINGVALE</td>\n",
              "      <td>3171</td>\n",
              "      <td>Cat</td>\n",
              "      <td>RAGX</td>\n",
              "      <td>BLUEP</td>\n",
              "      <td>M</td>\n",
              "    </tr>\n",
              "    <tr>\n",
              "      <th>3484</th>\n",
              "      <td>SPRINGVALE</td>\n",
              "      <td>3171</td>\n",
              "      <td>Cat</td>\n",
              "      <td>DOMSH</td>\n",
              "      <td>GINGER</td>\n",
              "      <td>M</td>\n",
              "    </tr>\n",
              "  </tbody>\n",
              "</table>\n",
              "</div>"
            ],
            "text/plain": [
              "        Locality  Postcode  ... Colour_Description GENDER\n",
              "3480  SPRINGVALE      3171  ...               SEAL      M\n",
              "3481  NOBLE PARK      3174  ...              BLACK      F\n",
              "3482  NOBLE PARK      3174  ...             WHIGIN      M\n",
              "3483  SPRINGVALE      3171  ...              BLUEP      M\n",
              "3484  SPRINGVALE      3171  ...             GINGER      M\n",
              "\n",
              "[5 rows x 6 columns]"
            ]
          },
          "metadata": {
            "tags": []
          },
          "execution_count": 13
        }
      ]
    },
    {
      "cell_type": "markdown",
      "metadata": {
        "id": "Prn_gBIN8d3N"
      },
      "source": [
        "### Shape\n",
        "\n",
        "We can see the dimensions of the dataframe using the the shape attribute\n"
      ]
    },
    {
      "cell_type": "code",
      "metadata": {
        "colab": {
          "base_uri": "https://localhost:8080/"
        },
        "id": "Rnb1_-7N8aWK",
        "outputId": "5d8d1783-d6f7-4b48-931c-5d2611397f9c"
      },
      "source": [
        "print(df_cats.shape)\n",
        "print(df_cats_dogs.shape)"
      ],
      "execution_count": 14,
      "outputs": [
        {
          "output_type": "stream",
          "text": [
            "(3485, 6)\n",
            "(22249, 8)\n"
          ],
          "name": "stdout"
        }
      ]
    },
    {
      "cell_type": "markdown",
      "metadata": {
        "id": "FhLI8XpV9oBx"
      },
      "source": [
        "### Columns\n",
        "\n",
        "We can also extract all the column names as a list, by using the columns attribute and can extract the rows with the index attribute"
      ]
    },
    {
      "cell_type": "code",
      "metadata": {
        "colab": {
          "base_uri": "https://localhost:8080/"
        },
        "id": "YIQkOvmc8lxy",
        "outputId": "a780e200-570b-40b2-c2d4-779ac16f52fd"
      },
      "source": [
        "df_cats.columns.tolist()"
      ],
      "execution_count": 15,
      "outputs": [
        {
          "output_type": "execute_result",
          "data": {
            "text/plain": [
              "['Locality',\n",
              " 'Postcode',\n",
              " 'Animal_Type',\n",
              " 'Breed_Description',\n",
              " 'Colour_Description',\n",
              " 'GENDER']"
            ]
          },
          "metadata": {
            "tags": []
          },
          "execution_count": 15
        }
      ]
    },
    {
      "cell_type": "code",
      "metadata": {
        "colab": {
          "base_uri": "https://localhost:8080/"
        },
        "id": "GrPppgo390sv",
        "outputId": "ff422d2f-cbb2-4426-a2f1-884074e6a9a5"
      },
      "source": [
        "df_cats_dogs.columns.tolist()"
      ],
      "execution_count": 16,
      "outputs": [
        {
          "output_type": "execute_result",
          "data": {
            "text/plain": [
              "['age',\n",
              " 'animal_name',\n",
              " 'breed',\n",
              " 'colour',\n",
              " 'postcode',\n",
              " 'suburb',\n",
              " 'type',\n",
              " 'registered']"
            ]
          },
          "metadata": {
            "tags": []
          },
          "execution_count": 16
        }
      ]
    },
    {
      "cell_type": "markdown",
      "metadata": {
        "id": "Nzfr0NkP-QKh"
      },
      "source": [
        "### Describe\n",
        "\n",
        "In order to get a better idea of the type of data that we are dealing with, we can call the describe() function to see statistics like mean, min, etc about each column of the dataset."
      ]
    },
    {
      "cell_type": "code",
      "metadata": {
        "colab": {
          "base_uri": "https://localhost:8080/",
          "height": 297
        },
        "id": "l_5-ndpM-Ggs",
        "outputId": "da6bca36-5944-4c4b-de5e-e692c3e99de3"
      },
      "source": [
        "df_cats.describe() # it only show the value of \"Postcode column because it is the unique column with number values\""
      ],
      "execution_count": 17,
      "outputs": [
        {
          "output_type": "execute_result",
          "data": {
            "text/html": [
              "<div>\n",
              "<style scoped>\n",
              "    .dataframe tbody tr th:only-of-type {\n",
              "        vertical-align: middle;\n",
              "    }\n",
              "\n",
              "    .dataframe tbody tr th {\n",
              "        vertical-align: top;\n",
              "    }\n",
              "\n",
              "    .dataframe thead th {\n",
              "        text-align: right;\n",
              "    }\n",
              "</style>\n",
              "<table border=\"1\" class=\"dataframe\">\n",
              "  <thead>\n",
              "    <tr style=\"text-align: right;\">\n",
              "      <th></th>\n",
              "      <th>Postcode</th>\n",
              "    </tr>\n",
              "  </thead>\n",
              "  <tbody>\n",
              "    <tr>\n",
              "      <th>count</th>\n",
              "      <td>3485.000000</td>\n",
              "    </tr>\n",
              "    <tr>\n",
              "      <th>mean</th>\n",
              "      <td>3173.968723</td>\n",
              "    </tr>\n",
              "    <tr>\n",
              "      <th>std</th>\n",
              "      <td>13.633441</td>\n",
              "    </tr>\n",
              "    <tr>\n",
              "      <th>min</th>\n",
              "      <td>3171.000000</td>\n",
              "    </tr>\n",
              "    <tr>\n",
              "      <th>25%</th>\n",
              "      <td>3173.000000</td>\n",
              "    </tr>\n",
              "    <tr>\n",
              "      <th>50%</th>\n",
              "      <td>3174.000000</td>\n",
              "    </tr>\n",
              "    <tr>\n",
              "      <th>75%</th>\n",
              "      <td>3175.000000</td>\n",
              "    </tr>\n",
              "    <tr>\n",
              "      <th>max</th>\n",
              "      <td>3975.000000</td>\n",
              "    </tr>\n",
              "  </tbody>\n",
              "</table>\n",
              "</div>"
            ],
            "text/plain": [
              "          Postcode\n",
              "count  3485.000000\n",
              "mean   3173.968723\n",
              "std      13.633441\n",
              "min    3171.000000\n",
              "25%    3173.000000\n",
              "50%    3174.000000\n",
              "75%    3175.000000\n",
              "max    3975.000000"
            ]
          },
          "metadata": {
            "tags": []
          },
          "execution_count": 17
        }
      ]
    },
    {
      "cell_type": "markdown",
      "metadata": {
        "id": "ngwxBUHR-5G0"
      },
      "source": [
        "### Max\n",
        "\n",
        "The function max() will show you the maximum values of all columns"
      ]
    },
    {
      "cell_type": "code",
      "metadata": {
        "colab": {
          "base_uri": "https://localhost:8080/"
        },
        "id": "BAcBhZoR-dW1",
        "outputId": "be1e457c-295d-450f-a5de-540e39068c31"
      },
      "source": [
        "df_cats.max()"
      ],
      "execution_count": 18,
      "outputs": [
        {
          "output_type": "execute_result",
          "data": {
            "text/plain": [
              "Locality       SPRINGVALE SOUTH\n",
              "Postcode                   3975\n",
              "Animal_Type                 Cat\n",
              "GENDER                        U\n",
              "dtype: object"
            ]
          },
          "metadata": {
            "tags": []
          },
          "execution_count": 18
        }
      ]
    },
    {
      "cell_type": "code",
      "metadata": {
        "colab": {
          "base_uri": "https://localhost:8080/"
        },
        "id": "8xAXAqsT_LeP",
        "outputId": "3f7abd99-9aeb-4ee4-bd14-542e98516c17"
      },
      "source": [
        "# get max value for a particular column\n",
        "df_cats['Postcode'].max()"
      ],
      "execution_count": 19,
      "outputs": [
        {
          "output_type": "execute_result",
          "data": {
            "text/plain": [
              "3975"
            ]
          },
          "metadata": {
            "tags": []
          },
          "execution_count": 19
        }
      ]
    },
    {
      "cell_type": "markdown",
      "metadata": {
        "id": "2e67f0gv_Lu6"
      },
      "source": [
        "### Mean"
      ]
    },
    {
      "cell_type": "code",
      "metadata": {
        "colab": {
          "base_uri": "https://localhost:8080/"
        },
        "id": "9gg9tIGP_MBa",
        "outputId": "65f7b4c9-a883-472e-a2e0-0f677a3c39ce"
      },
      "source": [
        "# get median value for a particular column\n",
        "df_cats['Postcode'].mean()"
      ],
      "execution_count": 20,
      "outputs": [
        {
          "output_type": "execute_result",
          "data": {
            "text/plain": [
              "3173.9687230989957"
            ]
          },
          "metadata": {
            "tags": []
          },
          "execution_count": 20
        }
      ]
    },
    {
      "cell_type": "markdown",
      "metadata": {
        "id": "3mFcvaP3_LEi"
      },
      "source": [
        "### Argmax\n",
        "\n",
        "We can call the argmax() function to identify the row index"
      ]
    },
    {
      "cell_type": "code",
      "metadata": {
        "colab": {
          "base_uri": "https://localhost:8080/"
        },
        "id": "B28Xg6JxCVAA",
        "outputId": "b059e5d9-a63a-4b95-f0e8-b03f62c18563"
      },
      "source": [
        "df_cats['Postcode'].argmax()"
      ],
      "execution_count": 21,
      "outputs": [
        {
          "output_type": "execute_result",
          "data": {
            "text/plain": [
              "1267"
            ]
          },
          "metadata": {
            "tags": []
          },
          "execution_count": 21
        }
      ]
    },
    {
      "cell_type": "markdown",
      "metadata": {
        "id": "vseXBapvMk7g"
      },
      "source": [
        "### Value_counts\n",
        "\n",
        " It shows how many times each item appears in the column. This particular command shows the number of games in each season"
      ]
    },
    {
      "cell_type": "code",
      "metadata": {
        "id": "-2iYL8V8Mog-",
        "colab": {
          "base_uri": "https://localhost:8080/"
        },
        "outputId": "2144c9d2-abdb-4079-cce9-0e43552f3601"
      },
      "source": [
        "# amount of \n",
        "df_cats['Postcode'].argmax()"
      ],
      "execution_count": 22,
      "outputs": [
        {
          "output_type": "execute_result",
          "data": {
            "text/plain": [
              "1267"
            ]
          },
          "metadata": {
            "tags": []
          },
          "execution_count": 22
        }
      ]
    },
    {
      "cell_type": "markdown",
      "metadata": {
        "id": "mi-8EalErRCm"
      },
      "source": [
        "### Dataframe as list\n",
        "\n",
        "Each dataframe has a values attribute which is useful because it basically displays your dataframe in a numpy array style format"
      ]
    },
    {
      "cell_type": "code",
      "metadata": {
        "colab": {
          "base_uri": "https://localhost:8080/"
        },
        "id": "ejwDJaCzq1FF",
        "outputId": "a10539a9-8510-450c-9ba8-208c8bfd7bd3"
      },
      "source": [
        "df_cats.values"
      ],
      "execution_count": 43,
      "outputs": [
        {
          "output_type": "execute_result",
          "data": {
            "text/plain": [
              "array([['DANDENONG NORTH', 3175, 'Cat', 'DOMSH', 'TAB', 'F'],\n",
              "       ['DANDENONG NORTH', 3175, 'Cat', 'DOMLH', 'BLAWHI', 'M'],\n",
              "       ['DANDENONG', 3175, 'Cat', 'DOMSH', 'TABWHI', 'F'],\n",
              "       ...,\n",
              "       ['NOBLE PARK', 3174, 'Cat', 'DOMM', 'WHIGIN', 'M'],\n",
              "       ['SPRINGVALE', 3171, 'Cat', 'RAGX', 'BLUEP', 'M'],\n",
              "       ['SPRINGVALE', 3171, 'Cat', 'DOMSH', 'GINGER', 'M']], dtype=object)"
            ]
          },
          "metadata": {
            "tags": []
          },
          "execution_count": 43
        }
      ]
    },
    {
      "cell_type": "markdown",
      "metadata": {
        "id": "1jR2xP1RrYxk"
      },
      "source": [
        "Now, you can simply just access elements like you would in an array."
      ]
    },
    {
      "cell_type": "code",
      "metadata": {
        "colab": {
          "base_uri": "https://localhost:8080/",
          "height": 35
        },
        "id": "pK1VifpBruZT",
        "outputId": "01684b40-fa98-4895-8148-68b696507a32"
      },
      "source": [
        "df_cats.values[0][0]"
      ],
      "execution_count": 44,
      "outputs": [
        {
          "output_type": "execute_result",
          "data": {
            "application/vnd.google.colaboratory.intrinsic+json": {
              "type": "string"
            },
            "text/plain": [
              "'DANDENONG NORTH'"
            ]
          },
          "metadata": {
            "tags": []
          },
          "execution_count": 44
        }
      ]
    },
    {
      "cell_type": "markdown",
      "metadata": {
        "id": "Wz0mCTNterx1"
      },
      "source": [
        "## 4. Acessing Values\n"
      ]
    },
    {
      "cell_type": "markdown",
      "metadata": {
        "id": "jxPeeI8UuuCS"
      },
      "source": [
        "### Accessing columns\n",
        "\n",
        "Exist two ways to access columns"
      ]
    },
    {
      "cell_type": "code",
      "metadata": {
        "colab": {
          "base_uri": "https://localhost:8080/"
        },
        "id": "jILejXdZu4D_",
        "outputId": "bd12cbbb-e2bc-431f-f3e1-44fca5432f74"
      },
      "source": [
        "# using brackets\n",
        "df_cats['GENDER'].head()"
      ],
      "execution_count": 52,
      "outputs": [
        {
          "output_type": "execute_result",
          "data": {
            "text/plain": [
              "0    F\n",
              "1    M\n",
              "2    F\n",
              "3    F\n",
              "4    M\n",
              "Name: GENDER, dtype: object"
            ]
          },
          "metadata": {
            "tags": []
          },
          "execution_count": 52
        }
      ]
    },
    {
      "cell_type": "code",
      "metadata": {
        "colab": {
          "base_uri": "https://localhost:8080/"
        },
        "id": "Uwc1pX-Lu4Mh",
        "outputId": "9406775c-ad6a-43c4-acc0-d7963547eece"
      },
      "source": [
        "# usign point access\n",
        "df_cats.GENDER.head()"
      ],
      "execution_count": 53,
      "outputs": [
        {
          "output_type": "execute_result",
          "data": {
            "text/plain": [
              "0    F\n",
              "1    M\n",
              "2    F\n",
              "3    F\n",
              "4    M\n",
              "Name: GENDER, dtype: object"
            ]
          },
          "metadata": {
            "tags": []
          },
          "execution_count": 53
        }
      ]
    },
    {
      "cell_type": "code",
      "metadata": {
        "colab": {
          "base_uri": "https://localhost:8080/",
          "height": 204
        },
        "id": "na3fNt8RvI32",
        "outputId": "44e3d542-1bb7-4920-f1da-1a38270006ba"
      },
      "source": [
        "# multiple columns\n",
        "df_cats[['Locality', 'GENDER']].head()"
      ],
      "execution_count": 54,
      "outputs": [
        {
          "output_type": "execute_result",
          "data": {
            "text/html": [
              "<div>\n",
              "<style scoped>\n",
              "    .dataframe tbody tr th:only-of-type {\n",
              "        vertical-align: middle;\n",
              "    }\n",
              "\n",
              "    .dataframe tbody tr th {\n",
              "        vertical-align: top;\n",
              "    }\n",
              "\n",
              "    .dataframe thead th {\n",
              "        text-align: right;\n",
              "    }\n",
              "</style>\n",
              "<table border=\"1\" class=\"dataframe\">\n",
              "  <thead>\n",
              "    <tr style=\"text-align: right;\">\n",
              "      <th></th>\n",
              "      <th>Locality</th>\n",
              "      <th>GENDER</th>\n",
              "    </tr>\n",
              "  </thead>\n",
              "  <tbody>\n",
              "    <tr>\n",
              "      <th>0</th>\n",
              "      <td>DANDENONG NORTH</td>\n",
              "      <td>F</td>\n",
              "    </tr>\n",
              "    <tr>\n",
              "      <th>1</th>\n",
              "      <td>DANDENONG NORTH</td>\n",
              "      <td>M</td>\n",
              "    </tr>\n",
              "    <tr>\n",
              "      <th>2</th>\n",
              "      <td>DANDENONG</td>\n",
              "      <td>F</td>\n",
              "    </tr>\n",
              "    <tr>\n",
              "      <th>3</th>\n",
              "      <td>SPRINGVALE</td>\n",
              "      <td>F</td>\n",
              "    </tr>\n",
              "    <tr>\n",
              "      <th>4</th>\n",
              "      <td>DANDENONG</td>\n",
              "      <td>M</td>\n",
              "    </tr>\n",
              "  </tbody>\n",
              "</table>\n",
              "</div>"
            ],
            "text/plain": [
              "          Locality GENDER\n",
              "0  DANDENONG NORTH      F\n",
              "1  DANDENONG NORTH      M\n",
              "2        DANDENONG      F\n",
              "3       SPRINGVALE      F\n",
              "4        DANDENONG      M"
            ]
          },
          "metadata": {
            "tags": []
          },
          "execution_count": 54
        }
      ]
    },
    {
      "cell_type": "markdown",
      "metadata": {
        "id": "tjykdrRhpaU-"
      },
      "source": [
        "### Iloc\n",
        "\n",
        "Ilon is definitely one of the more important functions. The main idea is that you want to use it whenever you have the integer index of a certain row that you want to access. As per Pandas documentation, iloc is an \"integer-location based indexing for selection by position.\""
      ]
    },
    {
      "cell_type": "code",
      "metadata": {
        "id": "xSxe8iXKKGF5",
        "colab": {
          "base_uri": "https://localhost:8080/",
          "height": 80
        },
        "outputId": "8e0aa918-a783-464e-c69c-8583809820f9"
      },
      "source": [
        "# select the max postcode value of df_cats dataframe\n",
        "\n",
        "df_cats.iloc[[df_cats['Postcode'].argmax()]]"
      ],
      "execution_count": 24,
      "outputs": [
        {
          "output_type": "execute_result",
          "data": {
            "text/html": [
              "<div>\n",
              "<style scoped>\n",
              "    .dataframe tbody tr th:only-of-type {\n",
              "        vertical-align: middle;\n",
              "    }\n",
              "\n",
              "    .dataframe tbody tr th {\n",
              "        vertical-align: top;\n",
              "    }\n",
              "\n",
              "    .dataframe thead th {\n",
              "        text-align: right;\n",
              "    }\n",
              "</style>\n",
              "<table border=\"1\" class=\"dataframe\">\n",
              "  <thead>\n",
              "    <tr style=\"text-align: right;\">\n",
              "      <th></th>\n",
              "      <th>Locality</th>\n",
              "      <th>Postcode</th>\n",
              "      <th>Animal_Type</th>\n",
              "      <th>Breed_Description</th>\n",
              "      <th>Colour_Description</th>\n",
              "      <th>GENDER</th>\n",
              "    </tr>\n",
              "  </thead>\n",
              "  <tbody>\n",
              "    <tr>\n",
              "      <th>1267</th>\n",
              "      <td>LYNDHURST</td>\n",
              "      <td>3975</td>\n",
              "      <td>Cat</td>\n",
              "      <td>DOMM</td>\n",
              "      <td>TABWHI</td>\n",
              "      <td>M</td>\n",
              "    </tr>\n",
              "  </tbody>\n",
              "</table>\n",
              "</div>"
            ],
            "text/plain": [
              "       Locality  Postcode  ... Colour_Description GENDER\n",
              "1267  LYNDHURST      3975  ...             TABWHI      M\n",
              "\n",
              "[1 rows x 6 columns]"
            ]
          },
          "metadata": {
            "tags": []
          },
          "execution_count": 24
        }
      ]
    },
    {
      "cell_type": "markdown",
      "metadata": {
        "id": "js0GSVdPhB91"
      },
      "source": [
        "Let's take this a step further. Let's say you want to know the locality of the biggest postcode value"
      ]
    },
    {
      "cell_type": "code",
      "metadata": {
        "colab": {
          "base_uri": "https://localhost:8080/"
        },
        "id": "dX4LKf64gdnJ",
        "outputId": "b8a7953c-b837-409e-cdb3-075a88e0673a"
      },
      "source": [
        "# select locality of filter\n",
        "df_cats.iloc[[df_cats['Postcode'].argmax()]]['Locality']"
      ],
      "execution_count": 25,
      "outputs": [
        {
          "output_type": "execute_result",
          "data": {
            "text/plain": [
              "1267    LYNDHURST\n",
              "Name: Locality, dtype: object"
            ]
          },
          "metadata": {
            "tags": []
          },
          "execution_count": 25
        }
      ]
    },
    {
      "cell_type": "markdown",
      "metadata": {
        "id": "GV3f8jj5h3wG"
      },
      "source": [
        "\n",
        "When you want to access values in a Series, you'll want to just treat the Series like a Python dictionary, so you'd access the value according to its key (which is normally an integer index)"
      ]
    },
    {
      "cell_type": "code",
      "metadata": {
        "colab": {
          "base_uri": "https://localhost:8080/",
          "height": 35
        },
        "id": "eo3MmSJIhPKJ",
        "outputId": "03b5d756-79e6-4f55-e22b-65cfcadc542d"
      },
      "source": [
        "df_cats.iloc[[df_cats['Postcode'].argmax()]]['Locality'][1267]"
      ],
      "execution_count": 26,
      "outputs": [
        {
          "output_type": "execute_result",
          "data": {
            "application/vnd.google.colaboratory.intrinsic+json": {
              "type": "string"
            },
            "text/plain": [
              "'LYNDHURST'"
            ]
          },
          "metadata": {
            "tags": []
          },
          "execution_count": 26
        }
      ]
    },
    {
      "cell_type": "markdown",
      "metadata": {
        "id": "4byoIeHLh_X7"
      },
      "source": [
        "### Loc\n",
        "\n",
        "The other really important function in Pandas is the loc function. Contrary to iloc, which is an integer based indexing, loc is a \"Purely label-location based indexer for selection by label\". Since all the rows are ordered from 0 to n, iloc and loc are going to be pretty interchangable in this type of dataset"
      ]
    },
    {
      "cell_type": "code",
      "metadata": {
        "colab": {
          "base_uri": "https://localhost:8080/",
          "height": 142
        },
        "id": "zupHBH_Oh92r",
        "outputId": "3fc847fd-392e-44ea-a043-79d51c0680bf"
      },
      "source": [
        "# select rows 0, 1, 2 --->> EXCLUSIVE\n",
        "df_cats.iloc[:3]"
      ],
      "execution_count": 27,
      "outputs": [
        {
          "output_type": "execute_result",
          "data": {
            "text/html": [
              "<div>\n",
              "<style scoped>\n",
              "    .dataframe tbody tr th:only-of-type {\n",
              "        vertical-align: middle;\n",
              "    }\n",
              "\n",
              "    .dataframe tbody tr th {\n",
              "        vertical-align: top;\n",
              "    }\n",
              "\n",
              "    .dataframe thead th {\n",
              "        text-align: right;\n",
              "    }\n",
              "</style>\n",
              "<table border=\"1\" class=\"dataframe\">\n",
              "  <thead>\n",
              "    <tr style=\"text-align: right;\">\n",
              "      <th></th>\n",
              "      <th>Locality</th>\n",
              "      <th>Postcode</th>\n",
              "      <th>Animal_Type</th>\n",
              "      <th>Breed_Description</th>\n",
              "      <th>Colour_Description</th>\n",
              "      <th>GENDER</th>\n",
              "    </tr>\n",
              "  </thead>\n",
              "  <tbody>\n",
              "    <tr>\n",
              "      <th>0</th>\n",
              "      <td>DANDENONG NORTH</td>\n",
              "      <td>3175</td>\n",
              "      <td>Cat</td>\n",
              "      <td>DOMSH</td>\n",
              "      <td>TAB</td>\n",
              "      <td>F</td>\n",
              "    </tr>\n",
              "    <tr>\n",
              "      <th>1</th>\n",
              "      <td>DANDENONG NORTH</td>\n",
              "      <td>3175</td>\n",
              "      <td>Cat</td>\n",
              "      <td>DOMLH</td>\n",
              "      <td>BLAWHI</td>\n",
              "      <td>M</td>\n",
              "    </tr>\n",
              "    <tr>\n",
              "      <th>2</th>\n",
              "      <td>DANDENONG</td>\n",
              "      <td>3175</td>\n",
              "      <td>Cat</td>\n",
              "      <td>DOMSH</td>\n",
              "      <td>TABWHI</td>\n",
              "      <td>F</td>\n",
              "    </tr>\n",
              "  </tbody>\n",
              "</table>\n",
              "</div>"
            ],
            "text/plain": [
              "          Locality  Postcode  ... Colour_Description GENDER\n",
              "0  DANDENONG NORTH      3175  ...                TAB      F\n",
              "1  DANDENONG NORTH      3175  ...             BLAWHI      M\n",
              "2        DANDENONG      3175  ...             TABWHI      F\n",
              "\n",
              "[3 rows x 6 columns]"
            ]
          },
          "metadata": {
            "tags": []
          },
          "execution_count": 27
        }
      ]
    },
    {
      "cell_type": "code",
      "metadata": {
        "colab": {
          "base_uri": "https://localhost:8080/",
          "height": 173
        },
        "id": "u66qWNAzihoW",
        "outputId": "f622cd1a-5a15-4ff0-90d4-9109e90b5bdb"
      },
      "source": [
        "# select rows 0, 1, 2, 3 --->> INCLUSIVE\n",
        "df_cats.loc[:3]"
      ],
      "execution_count": 29,
      "outputs": [
        {
          "output_type": "execute_result",
          "data": {
            "text/html": [
              "<div>\n",
              "<style scoped>\n",
              "    .dataframe tbody tr th:only-of-type {\n",
              "        vertical-align: middle;\n",
              "    }\n",
              "\n",
              "    .dataframe tbody tr th {\n",
              "        vertical-align: top;\n",
              "    }\n",
              "\n",
              "    .dataframe thead th {\n",
              "        text-align: right;\n",
              "    }\n",
              "</style>\n",
              "<table border=\"1\" class=\"dataframe\">\n",
              "  <thead>\n",
              "    <tr style=\"text-align: right;\">\n",
              "      <th></th>\n",
              "      <th>Locality</th>\n",
              "      <th>Postcode</th>\n",
              "      <th>Animal_Type</th>\n",
              "      <th>Breed_Description</th>\n",
              "      <th>Colour_Description</th>\n",
              "      <th>GENDER</th>\n",
              "    </tr>\n",
              "  </thead>\n",
              "  <tbody>\n",
              "    <tr>\n",
              "      <th>0</th>\n",
              "      <td>DANDENONG NORTH</td>\n",
              "      <td>3175</td>\n",
              "      <td>Cat</td>\n",
              "      <td>DOMSH</td>\n",
              "      <td>TAB</td>\n",
              "      <td>F</td>\n",
              "    </tr>\n",
              "    <tr>\n",
              "      <th>1</th>\n",
              "      <td>DANDENONG NORTH</td>\n",
              "      <td>3175</td>\n",
              "      <td>Cat</td>\n",
              "      <td>DOMLH</td>\n",
              "      <td>BLAWHI</td>\n",
              "      <td>M</td>\n",
              "    </tr>\n",
              "    <tr>\n",
              "      <th>2</th>\n",
              "      <td>DANDENONG</td>\n",
              "      <td>3175</td>\n",
              "      <td>Cat</td>\n",
              "      <td>DOMSH</td>\n",
              "      <td>TABWHI</td>\n",
              "      <td>F</td>\n",
              "    </tr>\n",
              "    <tr>\n",
              "      <th>3</th>\n",
              "      <td>SPRINGVALE</td>\n",
              "      <td>3171</td>\n",
              "      <td>Cat</td>\n",
              "      <td>DOM</td>\n",
              "      <td>TORWHI</td>\n",
              "      <td>F</td>\n",
              "    </tr>\n",
              "  </tbody>\n",
              "</table>\n",
              "</div>"
            ],
            "text/plain": [
              "          Locality  Postcode  ... Colour_Description GENDER\n",
              "0  DANDENONG NORTH      3175  ...                TAB      F\n",
              "1  DANDENONG NORTH      3175  ...             BLAWHI      M\n",
              "2        DANDENONG      3175  ...             TABWHI      F\n",
              "3       SPRINGVALE      3171  ...             TORWHI      F\n",
              "\n",
              "[4 rows x 6 columns]"
            ]
          },
          "metadata": {
            "tags": []
          },
          "execution_count": 29
        }
      ]
    },
    {
      "cell_type": "markdown",
      "metadata": {
        "id": "NO95kbXwi6Mt"
      },
      "source": [
        "Below is an example of how you can use loc to acheive the same task as we did previously with iloc"
      ]
    },
    {
      "cell_type": "code",
      "metadata": {
        "colab": {
          "base_uri": "https://localhost:8080/",
          "height": 35
        },
        "id": "lJFa_RjpiqlI",
        "outputId": "ac54aa00-8338-48bf-9a16-40cf293715ca"
      },
      "source": [
        "df_cats.loc[df_cats['Postcode'].argmax(), 'Locality']"
      ],
      "execution_count": 31,
      "outputs": [
        {
          "output_type": "execute_result",
          "data": {
            "application/vnd.google.colaboratory.intrinsic+json": {
              "type": "string"
            },
            "text/plain": [
              "'LYNDHURST'"
            ]
          },
          "metadata": {
            "tags": []
          },
          "execution_count": 31
        }
      ]
    },
    {
      "cell_type": "markdown",
      "metadata": {
        "id": "jTif8d_DjdIU"
      },
      "source": [
        "### At\n",
        "\n",
        "A faster version uses the at() function. At() is really useful wheneever you know the row label and the column label of the particular value that you want to get."
      ]
    },
    {
      "cell_type": "code",
      "metadata": {
        "colab": {
          "base_uri": "https://localhost:8080/",
          "height": 35
        },
        "id": "kGgDVU3HjNSO",
        "outputId": "93260186-8751-4ca2-a9c7-138c020ba26e"
      },
      "source": [
        "df_cats.at[df_cats['Postcode'].argmax(), 'Locality']"
      ],
      "execution_count": 32,
      "outputs": [
        {
          "output_type": "execute_result",
          "data": {
            "application/vnd.google.colaboratory.intrinsic+json": {
              "type": "string"
            },
            "text/plain": [
              "'LYNDHURST'"
            ]
          },
          "metadata": {
            "tags": []
          },
          "execution_count": 32
        }
      ]
    },
    {
      "cell_type": "markdown",
      "metadata": {
        "id": "zaMpwSBljw7O"
      },
      "source": [
        "### NOTE\n",
        "\n",
        "**iloc looks at position and loc looks at labels**. Loc becomes very important when your row labels aren't integers."
      ]
    },
    {
      "cell_type": "markdown",
      "metadata": {
        "id": "JCesSp0JvsKK"
      },
      "source": [
        "### Select some rows and colums\n"
      ]
    },
    {
      "cell_type": "code",
      "metadata": {
        "colab": {
          "base_uri": "https://localhost:8080/",
          "height": 173
        },
        "id": "hA5XAH7yvxLC",
        "outputId": "9319186f-7ef7-4065-bd67-4ee42c8f5d7e"
      },
      "source": [
        "# select rows from 5 to 8 and columns postcode and locality\n",
        "df_cats.loc[5:8, ['Postcode', 'Locality']].head()"
      ],
      "execution_count": 58,
      "outputs": [
        {
          "output_type": "execute_result",
          "data": {
            "text/html": [
              "<div>\n",
              "<style scoped>\n",
              "    .dataframe tbody tr th:only-of-type {\n",
              "        vertical-align: middle;\n",
              "    }\n",
              "\n",
              "    .dataframe tbody tr th {\n",
              "        vertical-align: top;\n",
              "    }\n",
              "\n",
              "    .dataframe thead th {\n",
              "        text-align: right;\n",
              "    }\n",
              "</style>\n",
              "<table border=\"1\" class=\"dataframe\">\n",
              "  <thead>\n",
              "    <tr style=\"text-align: right;\">\n",
              "      <th></th>\n",
              "      <th>Postcode</th>\n",
              "      <th>Locality</th>\n",
              "    </tr>\n",
              "  </thead>\n",
              "  <tbody>\n",
              "    <tr>\n",
              "      <th>5</th>\n",
              "      <td>3175</td>\n",
              "      <td>DANDENONG</td>\n",
              "    </tr>\n",
              "    <tr>\n",
              "      <th>6</th>\n",
              "      <td>3175</td>\n",
              "      <td>DANDENONG NORTH</td>\n",
              "    </tr>\n",
              "    <tr>\n",
              "      <th>7</th>\n",
              "      <td>3175</td>\n",
              "      <td>DANDENONG NORTH</td>\n",
              "    </tr>\n",
              "    <tr>\n",
              "      <th>8</th>\n",
              "      <td>3175</td>\n",
              "      <td>DANDENONG NORTH</td>\n",
              "    </tr>\n",
              "  </tbody>\n",
              "</table>\n",
              "</div>"
            ],
            "text/plain": [
              "   Postcode         Locality\n",
              "5      3175        DANDENONG\n",
              "6      3175  DANDENONG NORTH\n",
              "7      3175  DANDENONG NORTH\n",
              "8      3175  DANDENONG NORTH"
            ]
          },
          "metadata": {
            "tags": []
          },
          "execution_count": 58
        }
      ]
    },
    {
      "cell_type": "markdown",
      "metadata": {
        "id": "6XEJmaSmj8Qe"
      },
      "source": [
        "## 5. Sorting\n",
        "\n",
        "Let's say that we want to sort the dataframe in increasing order for the postcode values"
      ]
    },
    {
      "cell_type": "code",
      "metadata": {
        "colab": {
          "base_uri": "https://localhost:8080/",
          "height": 204
        },
        "id": "78wBLkm9jv69",
        "outputId": "ef2f493e-26a7-47c4-c5b0-a567e5a0a9f3"
      },
      "source": [
        "# Sorting by value\n",
        "df_cats.sort_values('Postcode').head()"
      ],
      "execution_count": 33,
      "outputs": [
        {
          "output_type": "execute_result",
          "data": {
            "text/html": [
              "<div>\n",
              "<style scoped>\n",
              "    .dataframe tbody tr th:only-of-type {\n",
              "        vertical-align: middle;\n",
              "    }\n",
              "\n",
              "    .dataframe tbody tr th {\n",
              "        vertical-align: top;\n",
              "    }\n",
              "\n",
              "    .dataframe thead th {\n",
              "        text-align: right;\n",
              "    }\n",
              "</style>\n",
              "<table border=\"1\" class=\"dataframe\">\n",
              "  <thead>\n",
              "    <tr style=\"text-align: right;\">\n",
              "      <th></th>\n",
              "      <th>Locality</th>\n",
              "      <th>Postcode</th>\n",
              "      <th>Animal_Type</th>\n",
              "      <th>Breed_Description</th>\n",
              "      <th>Colour_Description</th>\n",
              "      <th>GENDER</th>\n",
              "    </tr>\n",
              "  </thead>\n",
              "  <tbody>\n",
              "    <tr>\n",
              "      <th>3484</th>\n",
              "      <td>SPRINGVALE</td>\n",
              "      <td>3171</td>\n",
              "      <td>Cat</td>\n",
              "      <td>DOMSH</td>\n",
              "      <td>GINGER</td>\n",
              "      <td>M</td>\n",
              "    </tr>\n",
              "    <tr>\n",
              "      <th>1799</th>\n",
              "      <td>SPRINGVALE</td>\n",
              "      <td>3171</td>\n",
              "      <td>Cat</td>\n",
              "      <td>DOMSH</td>\n",
              "      <td>TABWHI</td>\n",
              "      <td>F</td>\n",
              "    </tr>\n",
              "    <tr>\n",
              "      <th>1798</th>\n",
              "      <td>SPRINGVALE</td>\n",
              "      <td>3171</td>\n",
              "      <td>Cat</td>\n",
              "      <td>DOM</td>\n",
              "      <td>WHIBLA</td>\n",
              "      <td>F</td>\n",
              "    </tr>\n",
              "    <tr>\n",
              "      <th>1166</th>\n",
              "      <td>SPRINGVALE</td>\n",
              "      <td>3171</td>\n",
              "      <td>Cat</td>\n",
              "      <td>DOMSH</td>\n",
              "      <td>GINWHI</td>\n",
              "      <td>F</td>\n",
              "    </tr>\n",
              "    <tr>\n",
              "      <th>1167</th>\n",
              "      <td>SPRINGVALE</td>\n",
              "      <td>3171</td>\n",
              "      <td>Cat</td>\n",
              "      <td>DOMSH</td>\n",
              "      <td>BLACK</td>\n",
              "      <td>M</td>\n",
              "    </tr>\n",
              "  </tbody>\n",
              "</table>\n",
              "</div>"
            ],
            "text/plain": [
              "        Locality  Postcode  ... Colour_Description GENDER\n",
              "3484  SPRINGVALE      3171  ...             GINGER      M\n",
              "1799  SPRINGVALE      3171  ...             TABWHI      F\n",
              "1798  SPRINGVALE      3171  ...             WHIBLA      F\n",
              "1166  SPRINGVALE      3171  ...             GINWHI      F\n",
              "1167  SPRINGVALE      3171  ...              BLACK      M\n",
              "\n",
              "[5 rows x 6 columns]"
            ]
          },
          "metadata": {
            "tags": []
          },
          "execution_count": 33
        }
      ]
    },
    {
      "cell_type": "code",
      "metadata": {
        "colab": {
          "base_uri": "https://localhost:8080/",
          "height": 419
        },
        "id": "ED-rpqGelcuD",
        "outputId": "25400242-5fe1-45b2-cb74-e5d2bff98449"
      },
      "source": [
        "# sorting by index\n",
        "df_cats.sort_index(axis=1, ascending=False)"
      ],
      "execution_count": 34,
      "outputs": [
        {
          "output_type": "execute_result",
          "data": {
            "text/html": [
              "<div>\n",
              "<style scoped>\n",
              "    .dataframe tbody tr th:only-of-type {\n",
              "        vertical-align: middle;\n",
              "    }\n",
              "\n",
              "    .dataframe tbody tr th {\n",
              "        vertical-align: top;\n",
              "    }\n",
              "\n",
              "    .dataframe thead th {\n",
              "        text-align: right;\n",
              "    }\n",
              "</style>\n",
              "<table border=\"1\" class=\"dataframe\">\n",
              "  <thead>\n",
              "    <tr style=\"text-align: right;\">\n",
              "      <th></th>\n",
              "      <th>Postcode</th>\n",
              "      <th>Locality</th>\n",
              "      <th>GENDER</th>\n",
              "      <th>Colour_Description</th>\n",
              "      <th>Breed_Description</th>\n",
              "      <th>Animal_Type</th>\n",
              "    </tr>\n",
              "  </thead>\n",
              "  <tbody>\n",
              "    <tr>\n",
              "      <th>0</th>\n",
              "      <td>3175</td>\n",
              "      <td>DANDENONG NORTH</td>\n",
              "      <td>F</td>\n",
              "      <td>TAB</td>\n",
              "      <td>DOMSH</td>\n",
              "      <td>Cat</td>\n",
              "    </tr>\n",
              "    <tr>\n",
              "      <th>1</th>\n",
              "      <td>3175</td>\n",
              "      <td>DANDENONG NORTH</td>\n",
              "      <td>M</td>\n",
              "      <td>BLAWHI</td>\n",
              "      <td>DOMLH</td>\n",
              "      <td>Cat</td>\n",
              "    </tr>\n",
              "    <tr>\n",
              "      <th>2</th>\n",
              "      <td>3175</td>\n",
              "      <td>DANDENONG</td>\n",
              "      <td>F</td>\n",
              "      <td>TABWHI</td>\n",
              "      <td>DOMSH</td>\n",
              "      <td>Cat</td>\n",
              "    </tr>\n",
              "    <tr>\n",
              "      <th>3</th>\n",
              "      <td>3171</td>\n",
              "      <td>SPRINGVALE</td>\n",
              "      <td>F</td>\n",
              "      <td>TORWHI</td>\n",
              "      <td>DOM</td>\n",
              "      <td>Cat</td>\n",
              "    </tr>\n",
              "    <tr>\n",
              "      <th>4</th>\n",
              "      <td>3175</td>\n",
              "      <td>DANDENONG</td>\n",
              "      <td>M</td>\n",
              "      <td>WHIGRE</td>\n",
              "      <td>DOM</td>\n",
              "      <td>Cat</td>\n",
              "    </tr>\n",
              "    <tr>\n",
              "      <th>...</th>\n",
              "      <td>...</td>\n",
              "      <td>...</td>\n",
              "      <td>...</td>\n",
              "      <td>...</td>\n",
              "      <td>...</td>\n",
              "      <td>...</td>\n",
              "    </tr>\n",
              "    <tr>\n",
              "      <th>3480</th>\n",
              "      <td>3171</td>\n",
              "      <td>SPRINGVALE</td>\n",
              "      <td>M</td>\n",
              "      <td>SEAL</td>\n",
              "      <td>RAG</td>\n",
              "      <td>Cat</td>\n",
              "    </tr>\n",
              "    <tr>\n",
              "      <th>3481</th>\n",
              "      <td>3174</td>\n",
              "      <td>NOBLE PARK</td>\n",
              "      <td>F</td>\n",
              "      <td>BLACK</td>\n",
              "      <td>DOMM</td>\n",
              "      <td>Cat</td>\n",
              "    </tr>\n",
              "    <tr>\n",
              "      <th>3482</th>\n",
              "      <td>3174</td>\n",
              "      <td>NOBLE PARK</td>\n",
              "      <td>M</td>\n",
              "      <td>WHIGIN</td>\n",
              "      <td>DOMM</td>\n",
              "      <td>Cat</td>\n",
              "    </tr>\n",
              "    <tr>\n",
              "      <th>3483</th>\n",
              "      <td>3171</td>\n",
              "      <td>SPRINGVALE</td>\n",
              "      <td>M</td>\n",
              "      <td>BLUEP</td>\n",
              "      <td>RAGX</td>\n",
              "      <td>Cat</td>\n",
              "    </tr>\n",
              "    <tr>\n",
              "      <th>3484</th>\n",
              "      <td>3171</td>\n",
              "      <td>SPRINGVALE</td>\n",
              "      <td>M</td>\n",
              "      <td>GINGER</td>\n",
              "      <td>DOMSH</td>\n",
              "      <td>Cat</td>\n",
              "    </tr>\n",
              "  </tbody>\n",
              "</table>\n",
              "<p>3485 rows × 6 columns</p>\n",
              "</div>"
            ],
            "text/plain": [
              "      Postcode         Locality  ... Breed_Description Animal_Type\n",
              "0         3175  DANDENONG NORTH  ...             DOMSH         Cat\n",
              "1         3175  DANDENONG NORTH  ...             DOMLH         Cat\n",
              "2         3175        DANDENONG  ...             DOMSH         Cat\n",
              "3         3171       SPRINGVALE  ...               DOM         Cat\n",
              "4         3175        DANDENONG  ...               DOM         Cat\n",
              "...        ...              ...  ...               ...         ...\n",
              "3480      3171       SPRINGVALE  ...               RAG         Cat\n",
              "3481      3174       NOBLE PARK  ...              DOMM         Cat\n",
              "3482      3174       NOBLE PARK  ...              DOMM         Cat\n",
              "3483      3171       SPRINGVALE  ...              RAGX         Cat\n",
              "3484      3171       SPRINGVALE  ...             DOMSH         Cat\n",
              "\n",
              "[3485 rows x 6 columns]"
            ]
          },
          "metadata": {
            "tags": []
          },
          "execution_count": 34
        }
      ]
    },
    {
      "cell_type": "markdown",
      "metadata": {
        "id": "dYLl5vNUl_S0"
      },
      "source": [
        "## 6. Filtering Rows Conditionally\n",
        "\n",
        "Now, let's say we want to find all of the rows that satisy a particular condition. For example, I want to find all of the rows where cats are black"
      ]
    },
    {
      "cell_type": "code",
      "metadata": {
        "colab": {
          "base_uri": "https://localhost:8080/",
          "height": 419
        },
        "id": "HDSkGn_Zkt4G",
        "outputId": "dfbbd380-d7cc-4796-d092-717323a6847f"
      },
      "source": [
        "# Filter black cats\n",
        "df_cats[df_cats['Colour_Description'] == 'BLACK']"
      ],
      "execution_count": 37,
      "outputs": [
        {
          "output_type": "execute_result",
          "data": {
            "text/html": [
              "<div>\n",
              "<style scoped>\n",
              "    .dataframe tbody tr th:only-of-type {\n",
              "        vertical-align: middle;\n",
              "    }\n",
              "\n",
              "    .dataframe tbody tr th {\n",
              "        vertical-align: top;\n",
              "    }\n",
              "\n",
              "    .dataframe thead th {\n",
              "        text-align: right;\n",
              "    }\n",
              "</style>\n",
              "<table border=\"1\" class=\"dataframe\">\n",
              "  <thead>\n",
              "    <tr style=\"text-align: right;\">\n",
              "      <th></th>\n",
              "      <th>Locality</th>\n",
              "      <th>Postcode</th>\n",
              "      <th>Animal_Type</th>\n",
              "      <th>Breed_Description</th>\n",
              "      <th>Colour_Description</th>\n",
              "      <th>GENDER</th>\n",
              "    </tr>\n",
              "  </thead>\n",
              "  <tbody>\n",
              "    <tr>\n",
              "      <th>9</th>\n",
              "      <td>DANDENONG NORTH</td>\n",
              "      <td>3175</td>\n",
              "      <td>Cat</td>\n",
              "      <td>DOMSH</td>\n",
              "      <td>BLACK</td>\n",
              "      <td>F</td>\n",
              "    </tr>\n",
              "    <tr>\n",
              "      <th>17</th>\n",
              "      <td>SPRINGVALE SOUTH</td>\n",
              "      <td>3172</td>\n",
              "      <td>Cat</td>\n",
              "      <td>DOMSH</td>\n",
              "      <td>BLACK</td>\n",
              "      <td>M</td>\n",
              "    </tr>\n",
              "    <tr>\n",
              "      <th>40</th>\n",
              "      <td>DANDENONG</td>\n",
              "      <td>3175</td>\n",
              "      <td>Cat</td>\n",
              "      <td>DOM</td>\n",
              "      <td>BLACK</td>\n",
              "      <td>F</td>\n",
              "    </tr>\n",
              "    <tr>\n",
              "      <th>74</th>\n",
              "      <td>NOBLE PARK</td>\n",
              "      <td>3174</td>\n",
              "      <td>Cat</td>\n",
              "      <td>DOMSH</td>\n",
              "      <td>BLACK</td>\n",
              "      <td>F</td>\n",
              "    </tr>\n",
              "    <tr>\n",
              "      <th>81</th>\n",
              "      <td>KEYSBOROUGH</td>\n",
              "      <td>3173</td>\n",
              "      <td>Cat</td>\n",
              "      <td>DOMM</td>\n",
              "      <td>BLACK</td>\n",
              "      <td>F</td>\n",
              "    </tr>\n",
              "    <tr>\n",
              "      <th>...</th>\n",
              "      <td>...</td>\n",
              "      <td>...</td>\n",
              "      <td>...</td>\n",
              "      <td>...</td>\n",
              "      <td>...</td>\n",
              "      <td>...</td>\n",
              "    </tr>\n",
              "    <tr>\n",
              "      <th>3456</th>\n",
              "      <td>NOBLE PARK</td>\n",
              "      <td>3174</td>\n",
              "      <td>Cat</td>\n",
              "      <td>DOM</td>\n",
              "      <td>BLACK</td>\n",
              "      <td>F</td>\n",
              "    </tr>\n",
              "    <tr>\n",
              "      <th>3465</th>\n",
              "      <td>SPRINGVALE</td>\n",
              "      <td>3171</td>\n",
              "      <td>Cat</td>\n",
              "      <td>DOMLH</td>\n",
              "      <td>BLACK</td>\n",
              "      <td>F</td>\n",
              "    </tr>\n",
              "    <tr>\n",
              "      <th>3467</th>\n",
              "      <td>NOBLE PARK</td>\n",
              "      <td>3174</td>\n",
              "      <td>Cat</td>\n",
              "      <td>DOMM</td>\n",
              "      <td>BLACK</td>\n",
              "      <td>M</td>\n",
              "    </tr>\n",
              "    <tr>\n",
              "      <th>3474</th>\n",
              "      <td>SPRINGVALE SOUTH</td>\n",
              "      <td>3172</td>\n",
              "      <td>Cat</td>\n",
              "      <td>DOMSH</td>\n",
              "      <td>BLACK</td>\n",
              "      <td>M</td>\n",
              "    </tr>\n",
              "    <tr>\n",
              "      <th>3481</th>\n",
              "      <td>NOBLE PARK</td>\n",
              "      <td>3174</td>\n",
              "      <td>Cat</td>\n",
              "      <td>DOMM</td>\n",
              "      <td>BLACK</td>\n",
              "      <td>F</td>\n",
              "    </tr>\n",
              "  </tbody>\n",
              "</table>\n",
              "<p>311 rows × 6 columns</p>\n",
              "</div>"
            ],
            "text/plain": [
              "              Locality  Postcode  ... Colour_Description GENDER\n",
              "9      DANDENONG NORTH      3175  ...              BLACK      F\n",
              "17    SPRINGVALE SOUTH      3172  ...              BLACK      M\n",
              "40           DANDENONG      3175  ...              BLACK      F\n",
              "74          NOBLE PARK      3174  ...              BLACK      F\n",
              "81         KEYSBOROUGH      3173  ...              BLACK      F\n",
              "...                ...       ...  ...                ...    ...\n",
              "3456        NOBLE PARK      3174  ...              BLACK      F\n",
              "3465        SPRINGVALE      3171  ...              BLACK      F\n",
              "3467        NOBLE PARK      3174  ...              BLACK      M\n",
              "3474  SPRINGVALE SOUTH      3172  ...              BLACK      M\n",
              "3481        NOBLE PARK      3174  ...              BLACK      F\n",
              "\n",
              "[311 rows x 6 columns]"
            ]
          },
          "metadata": {
            "tags": []
          },
          "execution_count": 37
        }
      ]
    },
    {
      "cell_type": "markdown",
      "metadata": {
        "id": "sdcwq9THmwM6"
      },
      "source": [
        "This also works if you have multiple conditions. Let's say we want to find out all female black cats"
      ]
    },
    {
      "cell_type": "code",
      "metadata": {
        "colab": {
          "base_uri": "https://localhost:8080/",
          "height": 419
        },
        "id": "GHPtpagOmeax",
        "outputId": "ff2a7a08-776a-4c34-d164-44f23988075c"
      },
      "source": [
        "df_cats[(df_cats['Colour_Description'] == 'BLACK') & (df_cats['GENDER'] == 'F')]"
      ],
      "execution_count": 38,
      "outputs": [
        {
          "output_type": "execute_result",
          "data": {
            "text/html": [
              "<div>\n",
              "<style scoped>\n",
              "    .dataframe tbody tr th:only-of-type {\n",
              "        vertical-align: middle;\n",
              "    }\n",
              "\n",
              "    .dataframe tbody tr th {\n",
              "        vertical-align: top;\n",
              "    }\n",
              "\n",
              "    .dataframe thead th {\n",
              "        text-align: right;\n",
              "    }\n",
              "</style>\n",
              "<table border=\"1\" class=\"dataframe\">\n",
              "  <thead>\n",
              "    <tr style=\"text-align: right;\">\n",
              "      <th></th>\n",
              "      <th>Locality</th>\n",
              "      <th>Postcode</th>\n",
              "      <th>Animal_Type</th>\n",
              "      <th>Breed_Description</th>\n",
              "      <th>Colour_Description</th>\n",
              "      <th>GENDER</th>\n",
              "    </tr>\n",
              "  </thead>\n",
              "  <tbody>\n",
              "    <tr>\n",
              "      <th>9</th>\n",
              "      <td>DANDENONG NORTH</td>\n",
              "      <td>3175</td>\n",
              "      <td>Cat</td>\n",
              "      <td>DOMSH</td>\n",
              "      <td>BLACK</td>\n",
              "      <td>F</td>\n",
              "    </tr>\n",
              "    <tr>\n",
              "      <th>40</th>\n",
              "      <td>DANDENONG</td>\n",
              "      <td>3175</td>\n",
              "      <td>Cat</td>\n",
              "      <td>DOM</td>\n",
              "      <td>BLACK</td>\n",
              "      <td>F</td>\n",
              "    </tr>\n",
              "    <tr>\n",
              "      <th>74</th>\n",
              "      <td>NOBLE PARK</td>\n",
              "      <td>3174</td>\n",
              "      <td>Cat</td>\n",
              "      <td>DOMSH</td>\n",
              "      <td>BLACK</td>\n",
              "      <td>F</td>\n",
              "    </tr>\n",
              "    <tr>\n",
              "      <th>81</th>\n",
              "      <td>KEYSBOROUGH</td>\n",
              "      <td>3173</td>\n",
              "      <td>Cat</td>\n",
              "      <td>DOMM</td>\n",
              "      <td>BLACK</td>\n",
              "      <td>F</td>\n",
              "    </tr>\n",
              "    <tr>\n",
              "      <th>97</th>\n",
              "      <td>KEYSBOROUGH</td>\n",
              "      <td>3173</td>\n",
              "      <td>Cat</td>\n",
              "      <td>DOMSH</td>\n",
              "      <td>BLACK</td>\n",
              "      <td>F</td>\n",
              "    </tr>\n",
              "    <tr>\n",
              "      <th>...</th>\n",
              "      <td>...</td>\n",
              "      <td>...</td>\n",
              "      <td>...</td>\n",
              "      <td>...</td>\n",
              "      <td>...</td>\n",
              "      <td>...</td>\n",
              "    </tr>\n",
              "    <tr>\n",
              "      <th>3434</th>\n",
              "      <td>DANDENONG</td>\n",
              "      <td>3175</td>\n",
              "      <td>Cat</td>\n",
              "      <td>DOMSH</td>\n",
              "      <td>BLACK</td>\n",
              "      <td>F</td>\n",
              "    </tr>\n",
              "    <tr>\n",
              "      <th>3455</th>\n",
              "      <td>NOBLE PARK</td>\n",
              "      <td>3174</td>\n",
              "      <td>Cat</td>\n",
              "      <td>DOM</td>\n",
              "      <td>BLACK</td>\n",
              "      <td>F</td>\n",
              "    </tr>\n",
              "    <tr>\n",
              "      <th>3456</th>\n",
              "      <td>NOBLE PARK</td>\n",
              "      <td>3174</td>\n",
              "      <td>Cat</td>\n",
              "      <td>DOM</td>\n",
              "      <td>BLACK</td>\n",
              "      <td>F</td>\n",
              "    </tr>\n",
              "    <tr>\n",
              "      <th>3465</th>\n",
              "      <td>SPRINGVALE</td>\n",
              "      <td>3171</td>\n",
              "      <td>Cat</td>\n",
              "      <td>DOMLH</td>\n",
              "      <td>BLACK</td>\n",
              "      <td>F</td>\n",
              "    </tr>\n",
              "    <tr>\n",
              "      <th>3481</th>\n",
              "      <td>NOBLE PARK</td>\n",
              "      <td>3174</td>\n",
              "      <td>Cat</td>\n",
              "      <td>DOMM</td>\n",
              "      <td>BLACK</td>\n",
              "      <td>F</td>\n",
              "    </tr>\n",
              "  </tbody>\n",
              "</table>\n",
              "<p>157 rows × 6 columns</p>\n",
              "</div>"
            ],
            "text/plain": [
              "             Locality  Postcode  ... Colour_Description GENDER\n",
              "9     DANDENONG NORTH      3175  ...              BLACK      F\n",
              "40          DANDENONG      3175  ...              BLACK      F\n",
              "74         NOBLE PARK      3174  ...              BLACK      F\n",
              "81        KEYSBOROUGH      3173  ...              BLACK      F\n",
              "97        KEYSBOROUGH      3173  ...              BLACK      F\n",
              "...               ...       ...  ...                ...    ...\n",
              "3434        DANDENONG      3175  ...              BLACK      F\n",
              "3455       NOBLE PARK      3174  ...              BLACK      F\n",
              "3456       NOBLE PARK      3174  ...              BLACK      F\n",
              "3465       SPRINGVALE      3171  ...              BLACK      F\n",
              "3481       NOBLE PARK      3174  ...              BLACK      F\n",
              "\n",
              "[157 rows x 6 columns]"
            ]
          },
          "metadata": {
            "tags": []
          },
          "execution_count": 38
        }
      ]
    },
    {
      "cell_type": "markdown",
      "metadata": {
        "id": "BMrnIZQWnewi"
      },
      "source": [
        "Another way to filter is using #isin method, where you can select all values inside a list"
      ]
    },
    {
      "cell_type": "code",
      "metadata": {
        "colab": {
          "base_uri": "https://localhost:8080/",
          "height": 419
        },
        "id": "gqhq5Hl9nEF-",
        "outputId": "8ae4d36a-eb4b-4551-ddfa-babbfe1a2e1b"
      },
      "source": [
        "# filter cats registered in #('NOBLE PARK' 'SPRINGVALE')\n",
        "df_cats[df_cats[\"Locality\"].isin([\"NOBLE PARK\", \"SPRINGVALE\"])]"
      ],
      "execution_count": 40,
      "outputs": [
        {
          "output_type": "execute_result",
          "data": {
            "text/html": [
              "<div>\n",
              "<style scoped>\n",
              "    .dataframe tbody tr th:only-of-type {\n",
              "        vertical-align: middle;\n",
              "    }\n",
              "\n",
              "    .dataframe tbody tr th {\n",
              "        vertical-align: top;\n",
              "    }\n",
              "\n",
              "    .dataframe thead th {\n",
              "        text-align: right;\n",
              "    }\n",
              "</style>\n",
              "<table border=\"1\" class=\"dataframe\">\n",
              "  <thead>\n",
              "    <tr style=\"text-align: right;\">\n",
              "      <th></th>\n",
              "      <th>Locality</th>\n",
              "      <th>Postcode</th>\n",
              "      <th>Animal_Type</th>\n",
              "      <th>Breed_Description</th>\n",
              "      <th>Colour_Description</th>\n",
              "      <th>GENDER</th>\n",
              "    </tr>\n",
              "  </thead>\n",
              "  <tbody>\n",
              "    <tr>\n",
              "      <th>3</th>\n",
              "      <td>SPRINGVALE</td>\n",
              "      <td>3171</td>\n",
              "      <td>Cat</td>\n",
              "      <td>DOM</td>\n",
              "      <td>TORWHI</td>\n",
              "      <td>F</td>\n",
              "    </tr>\n",
              "    <tr>\n",
              "      <th>28</th>\n",
              "      <td>NOBLE PARK</td>\n",
              "      <td>3174</td>\n",
              "      <td>Cat</td>\n",
              "      <td>DOM</td>\n",
              "      <td>BLAWHI</td>\n",
              "      <td>M</td>\n",
              "    </tr>\n",
              "    <tr>\n",
              "      <th>37</th>\n",
              "      <td>NOBLE PARK</td>\n",
              "      <td>3174</td>\n",
              "      <td>Cat</td>\n",
              "      <td>BENG</td>\n",
              "      <td>BRSPTAB</td>\n",
              "      <td>M</td>\n",
              "    </tr>\n",
              "    <tr>\n",
              "      <th>38</th>\n",
              "      <td>NOBLE PARK</td>\n",
              "      <td>3174</td>\n",
              "      <td>Cat</td>\n",
              "      <td>BURM</td>\n",
              "      <td>BROWN</td>\n",
              "      <td>M</td>\n",
              "    </tr>\n",
              "    <tr>\n",
              "      <th>41</th>\n",
              "      <td>NOBLE PARK</td>\n",
              "      <td>3174</td>\n",
              "      <td>Cat</td>\n",
              "      <td>DOMSH</td>\n",
              "      <td>WHIBLA</td>\n",
              "      <td>F</td>\n",
              "    </tr>\n",
              "    <tr>\n",
              "      <th>...</th>\n",
              "      <td>...</td>\n",
              "      <td>...</td>\n",
              "      <td>...</td>\n",
              "      <td>...</td>\n",
              "      <td>...</td>\n",
              "      <td>...</td>\n",
              "    </tr>\n",
              "    <tr>\n",
              "      <th>3480</th>\n",
              "      <td>SPRINGVALE</td>\n",
              "      <td>3171</td>\n",
              "      <td>Cat</td>\n",
              "      <td>RAG</td>\n",
              "      <td>SEAL</td>\n",
              "      <td>M</td>\n",
              "    </tr>\n",
              "    <tr>\n",
              "      <th>3481</th>\n",
              "      <td>NOBLE PARK</td>\n",
              "      <td>3174</td>\n",
              "      <td>Cat</td>\n",
              "      <td>DOMM</td>\n",
              "      <td>BLACK</td>\n",
              "      <td>F</td>\n",
              "    </tr>\n",
              "    <tr>\n",
              "      <th>3482</th>\n",
              "      <td>NOBLE PARK</td>\n",
              "      <td>3174</td>\n",
              "      <td>Cat</td>\n",
              "      <td>DOMM</td>\n",
              "      <td>WHIGIN</td>\n",
              "      <td>M</td>\n",
              "    </tr>\n",
              "    <tr>\n",
              "      <th>3483</th>\n",
              "      <td>SPRINGVALE</td>\n",
              "      <td>3171</td>\n",
              "      <td>Cat</td>\n",
              "      <td>RAGX</td>\n",
              "      <td>BLUEP</td>\n",
              "      <td>M</td>\n",
              "    </tr>\n",
              "    <tr>\n",
              "      <th>3484</th>\n",
              "      <td>SPRINGVALE</td>\n",
              "      <td>3171</td>\n",
              "      <td>Cat</td>\n",
              "      <td>DOMSH</td>\n",
              "      <td>GINGER</td>\n",
              "      <td>M</td>\n",
              "    </tr>\n",
              "  </tbody>\n",
              "</table>\n",
              "<p>1070 rows × 6 columns</p>\n",
              "</div>"
            ],
            "text/plain": [
              "        Locality  Postcode  ... Colour_Description GENDER\n",
              "3     SPRINGVALE      3171  ...             TORWHI      F\n",
              "28    NOBLE PARK      3174  ...             BLAWHI      M\n",
              "37    NOBLE PARK      3174  ...            BRSPTAB      M\n",
              "38    NOBLE PARK      3174  ...              BROWN      M\n",
              "41    NOBLE PARK      3174  ...             WHIBLA      F\n",
              "...          ...       ...  ...                ...    ...\n",
              "3480  SPRINGVALE      3171  ...               SEAL      M\n",
              "3481  NOBLE PARK      3174  ...              BLACK      F\n",
              "3482  NOBLE PARK      3174  ...             WHIGIN      M\n",
              "3483  SPRINGVALE      3171  ...              BLUEP      M\n",
              "3484  SPRINGVALE      3171  ...             GINGER      M\n",
              "\n",
              "[1070 rows x 6 columns]"
            ]
          },
          "metadata": {
            "tags": []
          },
          "execution_count": 40
        }
      ]
    },
    {
      "cell_type": "markdown",
      "metadata": {
        "id": "OaUvBxioonOr"
      },
      "source": [
        "## 7. Grouping\n",
        "\n",
        "By “group by” we are referring to a process involving one or more of the following steps:\n",
        "\n",
        "- **Splitting** the data into groups based on some criteria\n",
        "- **Applying** a function to each group independently\n",
        "- Combining the results into a data structure\n",
        "\n",
        "This is a function that allows you to group entries by certain attributes (e.g Grouping entries by Locality) and then perform operations on them."
      ]
    },
    {
      "cell_type": "code",
      "metadata": {
        "colab": {
          "base_uri": "https://localhost:8080/"
        },
        "id": "nVH76QHToL3k",
        "outputId": "650ae1ad-3038-4a3c-f8ef-e113f617479e"
      },
      "source": [
        "# grouping by locality and select animal types\n",
        "df_cats_dogs.groupby('suburb')['type'].value_counts().head()"
      ],
      "execution_count": 42,
      "outputs": [
        {
          "output_type": "execute_result",
          "data": {
            "text/plain": [
              "suburb     type\n",
              "Addington  Dog       16\n",
              "           Cat        4\n",
              "Alfredton  Dog     1302\n",
              "           Cat      565\n",
              "Ascot      Dog       15\n",
              "Name: type, dtype: int64"
            ]
          },
          "metadata": {
            "tags": []
          },
          "execution_count": 42
        }
      ]
    },
    {
      "cell_type": "code",
      "metadata": {
        "colab": {
          "base_uri": "https://localhost:8080/"
        },
        "id": "MMbMPy7OrXB7",
        "outputId": "3afc97e0-6257-402a-c9e8-38bdbd692904"
      },
      "source": [
        "# groupby multiple\n",
        "df_cats.groupby([\"Locality\", \"Colour_Description\"])['Breed_Description'].value_counts().head(9)"
      ],
      "execution_count": 51,
      "outputs": [
        {
          "output_type": "execute_result",
          "data": {
            "text/plain": [
              "Locality   Colour_Description  Breed_Description\n",
              "BANGHOLME  BLACK               DOMSH                2\n",
              "                               DOM                  1\n",
              "                               DOMLH                1\n",
              "           BLAGRE              XXXX                 1\n",
              "           BLATAN              DOMSH                1\n",
              "           BLAWHI              DOM                  6\n",
              "                               DOMSH                5\n",
              "                               DOMLH                1\n",
              "                               DOMM                 1\n",
              "Name: Breed_Description, dtype: int64"
            ]
          },
          "metadata": {
            "tags": []
          },
          "execution_count": 51
        }
      ]
    },
    {
      "cell_type": "code",
      "metadata": {
        "id": "xA5tgGITtize"
      },
      "source": [
        ""
      ],
      "execution_count": null,
      "outputs": []
    }
  ]
}